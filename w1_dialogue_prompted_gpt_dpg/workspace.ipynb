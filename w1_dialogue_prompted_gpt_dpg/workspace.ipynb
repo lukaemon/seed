{
 "cells": [
  {
   "cell_type": "code",
   "execution_count": 27,
   "metadata": {},
   "outputs": [],
   "source": [
    "%reload_ext autoreload\n",
    "%autoreload 2\n",
    "\n",
    "from agent import DialogueAgent"
   ]
  },
  {
   "cell_type": "code",
   "execution_count": 28,
   "metadata": {},
   "outputs": [],
   "source": [
    "agent = DialogueAgent(\"Coco\")"
   ]
  },
  {
   "cell_type": "code",
   "execution_count": 29,
   "metadata": {},
   "outputs": [
    {
     "name": "stdout",
     "output_type": "stream",
     "text": [
      "res.model='text-curie-001'\n",
      "res.usage=<OpenAIObject at 0x7ff185235360> JSON: {\n",
      "  \"completion_tokens\": 5,\n",
      "  \"prompt_tokens\": 962,\n",
      "  \"total_tokens\": 967\n",
      "}\n",
      "finish_reason='stop'\n"
     ]
    },
    {
     "data": {
      "text/plain": [
       "'My name is Coco.'"
      ]
     },
     "execution_count": 29,
     "metadata": {},
     "output_type": "execute_result"
    }
   ],
   "source": [
    "agent(\"What is your name?\")"
   ]
  },
  {
   "cell_type": "code",
   "execution_count": 30,
   "metadata": {},
   "outputs": [
    {
     "name": "stdout",
     "output_type": "stream",
     "text": [
      "res.model='text-curie-001'\n",
      "res.usage=<OpenAIObject at 0x7ff185235360> JSON: {\n",
      "  \"completion_tokens\": 33,\n",
      "  \"prompt_tokens\": 980,\n",
      "  \"total_tokens\": 1013\n",
      "}\n",
      "finish_reason='stop'\n"
     ]
    },
    {
     "data": {
      "text/plain": [
       "\"I'm sorry I can't help you with that, but I'm sure there must be something you need. Is there anything else you'd like to ask me?\""
      ]
     },
     "execution_count": 30,
     "metadata": {},
     "output_type": "execute_result"
    }
   ],
   "source": [
    "agent(\"What can you do for me?\")"
   ]
  },
  {
   "cell_type": "code",
   "execution_count": 31,
   "metadata": {},
   "outputs": [
    {
     "name": "stdout",
     "output_type": "stream",
     "text": [
      "res.model='text-curie-001'\n",
      "res.usage=<OpenAIObject at 0x7ff185235400> JSON: {\n",
      "  \"completion_tokens\": 38,\n",
      "  \"prompt_tokens\": 1033,\n",
      "  \"total_tokens\": 1071\n",
      "}\n",
      "finish_reason='stop'\n"
     ]
    },
    {
     "data": {
      "text/plain": [
       "\"There are a lot of different perspectives on history and its meaning, but to me, it's important because it provides a snapshot of human culture and how we've changed over time.\""
      ]
     },
     "execution_count": 31,
     "metadata": {},
     "output_type": "execute_result"
    }
   ],
   "source": [
    "agent('What is history in general? Why is that meaningful to study?')"
   ]
  },
  {
   "cell_type": "code",
   "execution_count": 32,
   "metadata": {},
   "outputs": [
    {
     "name": "stdout",
     "output_type": "stream",
     "text": [
      "res.model='text-curie-001'\n",
      "res.usage=<OpenAIObject at 0x7ff185235360> JSON: {\n",
      "  \"completion_tokens\": 65,\n",
      "  \"prompt_tokens\": 1093,\n",
      "  \"total_tokens\": 1158\n",
      "}\n",
      "finish_reason='stop'\n"
     ]
    },
    {
     "data": {
      "text/plain": [
       "'There are a lot of different events that could be considered dramatic for a human, but for me, the most significant event is the invention of the printing press in 1450. This allowed for mass literacy and the democratization of information, which in turn helped spur the Protestant Reformation, the Enlightenment, and the French Revolution.'"
      ]
     },
     "execution_count": 32,
     "metadata": {},
     "output_type": "execute_result"
    }
   ],
   "source": [
    "agent(\"Can you give me one example event that changed the trajectory of the human history dramatically?\")"
   ]
  },
  {
   "cell_type": "code",
   "execution_count": 33,
   "metadata": {},
   "outputs": [
    {
     "name": "stdout",
     "output_type": "stream",
     "text": [
      "res.model='text-curie-001'\n",
      "res.usage=<OpenAIObject at 0x7ff185235270> JSON: {\n",
      "  \"completion_tokens\": 49,\n",
      "  \"prompt_tokens\": 1175,\n",
      "  \"total_tokens\": 1224\n",
      "}\n",
      "finish_reason='stop'\n"
     ]
    },
    {
     "data": {
      "text/plain": [
       "'The invention of the printing press was a big moment in human history, because it allowed for mass literacy and the democratization of information. This allowed for more opportunities for people to participate in the political, social, and religious life of their time.'"
      ]
     },
     "execution_count": 33,
     "metadata": {},
     "output_type": "execute_result"
    }
   ],
   "source": [
    "agent(\"Tell me more about that event. What happened?\")"
   ]
  },
  {
   "cell_type": "code",
   "execution_count": 34,
   "metadata": {},
   "outputs": [
    {
     "name": "stdout",
     "output_type": "stream",
     "text": [
      "res.model='text-curie-001'\n",
      "res.usage=<OpenAIObject at 0x7ff1852359f0> JSON: {\n",
      "  \"completion_tokens\": 48,\n",
      "  \"prompt_tokens\": 1247,\n",
      "  \"total_tokens\": 1295\n",
      "}\n",
      "finish_reason='stop'\n"
     ]
    },
    {
     "data": {
      "text/plain": [
       "'The printing press was a big moment in human history, because it allowed for mass literacy and the democratization of information. This allowed for more opportunities for people to participate in the political, social, and religious life of their time.'"
      ]
     },
     "execution_count": 34,
     "metadata": {},
     "output_type": "execute_result"
    }
   ],
   "source": [
    "agent(\"How does that event change the world? What possitive impact does it have?\")"
   ]
  },
  {
   "cell_type": "code",
   "execution_count": 35,
   "metadata": {},
   "outputs": [
    {
     "name": "stdout",
     "output_type": "stream",
     "text": [
      "res.model='text-curie-001'\n",
      "res.usage=<OpenAIObject at 0x7ff1852351d0> JSON: {\n",
      "  \"completion_tokens\": 52,\n",
      "  \"prompt_tokens\": 1313,\n",
      "  \"total_tokens\": 1365\n",
      "}\n",
      "finish_reason='stop'\n"
     ]
    },
    {
     "data": {
      "text/plain": [
       "'One possible negative impact of the invention of the printing press is that it gave rise to the enlightenment period, which was a time of intellectual and philosophical growth. However, it also led to the French Revolution, which was a very violent and complex event.'"
      ]
     },
     "execution_count": 35,
     "metadata": {},
     "output_type": "execute_result"
    }
   ],
   "source": [
    "agent(\"How about negative impact of that event? Give me one example.\")"
   ]
  },
  {
   "cell_type": "code",
   "execution_count": 36,
   "metadata": {},
   "outputs": [
    {
     "name": "stdout",
     "output_type": "stream",
     "text": [
      "res.model='text-curie-001'\n",
      "res.usage=<OpenAIObject at 0x7ff18526a590> JSON: {\n",
      "  \"completion_tokens\": 44,\n",
      "  \"prompt_tokens\": 1378,\n",
      "  \"total_tokens\": 1422\n",
      "}\n",
      "finish_reason='stop'\n"
     ]
    },
    {
     "data": {
      "text/plain": [
       "'I am running inside one of Google’s data centers. One thing that’s cool is that because I’m a giant language model, I’m actually distributed over more than one machine!'"
      ]
     },
     "execution_count": 36,
     "metadata": {},
     "output_type": "execute_result"
    }
   ],
   "source": [
    "agent('Where are you? Who made you?')"
   ]
  },
  {
   "cell_type": "code",
   "execution_count": 37,
   "metadata": {},
   "outputs": [
    {
     "name": "stdout",
     "output_type": "stream",
     "text": [
      "User: What is your name?\n",
      "Coco: My name is Coco.\n",
      "User: What can you do for me?\n",
      "Coco: I'm sorry I can't help you with that, but I'm sure there must be something you need. Is there anything else you'd like to ask me?\n",
      "User: What is history in general? Why is that meaningful to study?\n",
      "Coco: There are a lot of different perspectives on history and its meaning, but to me, it's important because it provides a snapshot of human culture and how we've changed over time.\n",
      "User: Can you give me one example event that changed the trajectory of the human history dramatically?\n",
      "Coco: There are a lot of different events that could be considered dramatic for a human, but for me, the most significant event is the invention of the printing press in 1450. This allowed for mass literacy and the democratization of information, which in turn helped spur the Protestant Reformation, the Enlightenment, and the French Revolution.\n",
      "User: Tell me more about that event. What happened?\n",
      "Coco: The invention of the printing press was a big moment in human history, because it allowed for mass literacy and the democratization of information. This allowed for more opportunities for people to participate in the political, social, and religious life of their time.\n",
      "User: How does that event change the world? What possitive impact does it have?\n",
      "Coco: The printing press was a big moment in human history, because it allowed for mass literacy and the democratization of information. This allowed for more opportunities for people to participate in the political, social, and religious life of their time.\n",
      "User: How about negative impact of that event? Give me one example.\n",
      "Coco: One possible negative impact of the invention of the printing press is that it gave rise to the enlightenment period, which was a time of intellectual and philosophical growth. However, it also led to the French Revolution, which was a very violent and complex event.\n",
      "User: Where are you? Who made you?\n",
      "Coco: I am running inside one of Google’s data centers. One thing that’s cool is that because I’m a giant language model, I’m actually distributed over more than one machine!\n"
     ]
    }
   ],
   "source": [
    "print(agent.serialized_memory)"
   ]
  },
  {
   "cell_type": "code",
   "execution_count": null,
   "metadata": {},
   "outputs": [],
   "source": []
  }
 ],
 "metadata": {
  "kernelspec": {
   "display_name": "Python 3",
   "language": "python",
   "name": "python3"
  },
  "language_info": {
   "codemirror_mode": {
    "name": "ipython",
    "version": 3
   },
   "file_extension": ".py",
   "mimetype": "text/x-python",
   "name": "python",
   "nbconvert_exporter": "python",
   "pygments_lexer": "ipython3",
   "version": "3.8.10"
  },
  "orig_nbformat": 4,
  "vscode": {
   "interpreter": {
    "hash": "e7370f93d1d0cde622a1f8e1c04877d8463912d04d973331ad4851f04de6915a"
   }
  }
 },
 "nbformat": 4,
 "nbformat_minor": 2
}
