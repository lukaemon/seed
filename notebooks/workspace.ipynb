{
 "cells": [
  {
   "cell_type": "code",
   "execution_count": 16,
   "metadata": {},
   "outputs": [],
   "source": [
    "%reload_ext autoreload\n",
    "%autoreload 2\n",
    "\n",
    "import sys\n",
    "sys.path.append('..')\n",
    "\n",
    "from agent.dialogue import DialogueAgent"
   ]
  },
  {
   "cell_type": "code",
   "execution_count": 6,
   "metadata": {},
   "outputs": [],
   "source": [
    "agent = DialogueAgent(\"Coco\")"
   ]
  },
  {
   "cell_type": "code",
   "execution_count": 7,
   "metadata": {},
   "outputs": [
    {
     "name": "stdout",
     "output_type": "stream",
     "text": [
      "res.model='text-curie-001'\n",
      "res.usage=<OpenAIObject at 0x7f2759838db0> JSON: {\n",
      "  \"completion_tokens\": 10,\n",
      "  \"prompt_tokens\": 962,\n",
      "  \"total_tokens\": 972\n",
      "}\n",
      "finish_reason='stop'\n"
     ]
    },
    {
     "data": {
      "text/plain": [
       "'My name is Coco. Nice to meet you.'"
      ]
     },
     "execution_count": 7,
     "metadata": {},
     "output_type": "execute_result"
    }
   ],
   "source": [
    "agent(\"What is your name?\")"
   ]
  },
  {
   "cell_type": "code",
   "execution_count": 8,
   "metadata": {},
   "outputs": [
    {
     "name": "stdout",
     "output_type": "stream",
     "text": [
      "res.model='text-curie-001'\n",
      "res.usage=<OpenAIObject at 0x7f2766cc76d0> JSON: {\n",
      "  \"completion_tokens\": 29,\n",
      "  \"prompt_tokens\": 985,\n",
      "  \"total_tokens\": 1014\n",
      "}\n",
      "finish_reason='stop'\n"
     ]
    },
    {
     "data": {
      "text/plain": [
       "\"I'm glad you asked! I can answer any questions you might have, or help you find the information you're looking for online.\""
      ]
     },
     "execution_count": 8,
     "metadata": {},
     "output_type": "execute_result"
    }
   ],
   "source": [
    "agent(\"What can you do for me?\")"
   ]
  },
  {
   "cell_type": "code",
   "execution_count": 9,
   "metadata": {},
   "outputs": [
    {
     "name": "stdout",
     "output_type": "stream",
     "text": [
      "res.model='text-curie-001'\n",
      "res.usage=<OpenAIObject at 0x7f2766ca5310> JSON: {\n",
      "  \"completion_tokens\": 45,\n",
      "  \"prompt_tokens\": 1032,\n",
      "  \"total_tokens\": 1077\n",
      "}\n",
      "finish_reason='stop'\n"
     ]
    },
    {
     "data": {
      "text/plain": [
       "\"I'm glad you asked! History is one of the most important aspects of human life because it can help us learn from our mistakes. By understanding how things have changed in the past, we can better prepare for the future.\""
      ]
     },
     "execution_count": 9,
     "metadata": {},
     "output_type": "execute_result"
    }
   ],
   "source": [
    "agent('What is history in general? Why is that meaningful to study?')"
   ]
  },
  {
   "cell_type": "code",
   "execution_count": 10,
   "metadata": {},
   "outputs": [
    {
     "name": "stdout",
     "output_type": "stream",
     "text": [
      "res.model='text-curie-001'\n",
      "res.usage=<OpenAIObject at 0x7f2759838e00> JSON: {\n",
      "  \"completion_tokens\": 50,\n",
      "  \"prompt_tokens\": 1101,\n",
      "  \"total_tokens\": 1151\n",
      "}\n",
      "finish_reason='stop'\n"
     ]
    },
    {
     "data": {
      "text/plain": [
       "'There are many events that have had a dramatic impact on human history, but one of the most famous is the French Revolution. This event took place in the late 18th century and changed the way people in Europe thought about politics and society.'"
      ]
     },
     "execution_count": 10,
     "metadata": {},
     "output_type": "execute_result"
    }
   ],
   "source": [
    "agent(\"Can you give me one example event that changed the trajectory of the human history dramatically?\")"
   ]
  },
  {
   "cell_type": "code",
   "execution_count": 11,
   "metadata": {},
   "outputs": [
    {
     "name": "stdout",
     "output_type": "stream",
     "text": [
      "res.model='text-curie-001'\n",
      "res.usage=<OpenAIObject at 0x7f2759838c20> JSON: {\n",
      "  \"completion_tokens\": 29,\n",
      "  \"prompt_tokens\": 1166,\n",
      "  \"total_tokens\": 1195\n",
      "}\n",
      "finish_reason='stop'\n"
     ]
    },
    {
     "data": {
      "text/plain": [
       "'The French Revolution was a period of time in which people in Europe fought for political change. It started in 1789 and lasted until 1799.'"
      ]
     },
     "execution_count": 11,
     "metadata": {},
     "output_type": "execute_result"
    }
   ],
   "source": [
    "agent(\"Tell me more about that event. What happened?\")"
   ]
  },
  {
   "cell_type": "code",
   "execution_count": 12,
   "metadata": {},
   "outputs": [
    {
     "name": "stdout",
     "output_type": "stream",
     "text": [
      "res.model='text-curie-001'\n",
      "res.usage=<OpenAIObject at 0x7f2759838e00> JSON: {\n",
      "  \"completion_tokens\": 66,\n",
      "  \"prompt_tokens\": 1218,\n",
      "  \"total_tokens\": 1284\n",
      "}\n",
      "finish_reason='stop'\n"
     ]
    },
    {
     "data": {
      "text/plain": [
       "'The French Revolution was a big event that changed the way people thought about politics and society. It started in 1789 and lasted until 1799. It caused a lot of people to lose their lives, but it also led to the creation of the French Republic and the Declaration of the Rights of Man and of the Citizen.'"
      ]
     },
     "execution_count": 12,
     "metadata": {},
     "output_type": "execute_result"
    }
   ],
   "source": [
    "agent(\"How does that event change the world? What possitive impact does it have?\")"
   ]
  },
  {
   "cell_type": "code",
   "execution_count": 13,
   "metadata": {},
   "outputs": [
    {
     "name": "stdout",
     "output_type": "stream",
     "text": [
      "res.model='text-curie-001'\n",
      "res.usage=<OpenAIObject at 0x7f275984f860> JSON: {\n",
      "  \"completion_tokens\": 28,\n",
      "  \"prompt_tokens\": 1302,\n",
      "  \"total_tokens\": 1330\n",
      "}\n",
      "finish_reason='stop'\n"
     ]
    },
    {
     "data": {
      "text/plain": [
       "'The French Revolution had a lot of negative impacts. For example, it led to the rise of Napoleon Bonaparte and the French Empire.'"
      ]
     },
     "execution_count": 13,
     "metadata": {},
     "output_type": "execute_result"
    }
   ],
   "source": [
    "agent(\"How about negative impact of that event? Give me one example.\")"
   ]
  },
  {
   "cell_type": "code",
   "execution_count": 14,
   "metadata": {},
   "outputs": [
    {
     "name": "stdout",
     "output_type": "stream",
     "text": [
      "res.model='text-curie-001'\n",
      "res.usage=<OpenAIObject at 0x7f275984f590> JSON: {\n",
      "  \"completion_tokens\": 11,\n",
      "  \"prompt_tokens\": 1345,\n",
      "  \"total_tokens\": 1356\n",
      "}\n",
      "finish_reason='stop'\n"
     ]
    },
    {
     "data": {
      "text/plain": [
       "\"I'm a computer program that was built by Google.\""
      ]
     },
     "execution_count": 14,
     "metadata": {},
     "output_type": "execute_result"
    }
   ],
   "source": [
    "agent('Where are you? Who made you?')"
   ]
  },
  {
   "cell_type": "code",
   "execution_count": 15,
   "metadata": {},
   "outputs": [
    {
     "name": "stdout",
     "output_type": "stream",
     "text": [
      "User: What is your name?\n",
      "Coco: My name is Coco. Nice to meet you.\n",
      "User: What can you do for me?\n",
      "Coco: I'm glad you asked! I can answer any questions you might have, or help you find the information you're looking for online.\n",
      "User: What is history in general? Why is that meaningful to study?\n",
      "Coco: I'm glad you asked! History is one of the most important aspects of human life because it can help us learn from our mistakes. By understanding how things have changed in the past, we can better prepare for the future.\n",
      "User: Can you give me one example event that changed the trajectory of the human history dramatically?\n",
      "Coco: There are many events that have had a dramatic impact on human history, but one of the most famous is the French Revolution. This event took place in the late 18th century and changed the way people in Europe thought about politics and society.\n",
      "User: Tell me more about that event. What happened?\n",
      "Coco: The French Revolution was a period of time in which people in Europe fought for political change. It started in 1789 and lasted until 1799.\n",
      "User: How does that event change the world? What possitive impact does it have?\n",
      "Coco: The French Revolution was a big event that changed the way people thought about politics and society. It started in 1789 and lasted until 1799. It caused a lot of people to lose their lives, but it also led to the creation of the French Republic and the Declaration of the Rights of Man and of the Citizen.\n",
      "User: How about negative impact of that event? Give me one example.\n",
      "Coco: The French Revolution had a lot of negative impacts. For example, it led to the rise of Napoleon Bonaparte and the French Empire.\n",
      "User: Where are you? Who made you?\n",
      "Coco: I'm a computer program that was built by Google.\n"
     ]
    }
   ],
   "source": [
    "print(agent.serialized_memory)"
   ]
  },
  {
   "cell_type": "code",
   "execution_count": null,
   "metadata": {},
   "outputs": [],
   "source": []
  }
 ],
 "metadata": {
  "kernelspec": {
   "display_name": "Python 3",
   "language": "python",
   "name": "python3"
  },
  "language_info": {
   "codemirror_mode": {
    "name": "ipython",
    "version": 3
   },
   "file_extension": ".py",
   "mimetype": "text/x-python",
   "name": "python",
   "nbconvert_exporter": "python",
   "pygments_lexer": "ipython3",
   "version": "3.8.10"
  },
  "orig_nbformat": 4,
  "vscode": {
   "interpreter": {
    "hash": "e7370f93d1d0cde622a1f8e1c04877d8463912d04d973331ad4851f04de6915a"
   }
  }
 },
 "nbformat": 4,
 "nbformat_minor": 2
}
