{
 "cells": [
  {
   "cell_type": "code",
   "execution_count": 1,
   "metadata": {},
   "outputs": [],
   "source": [
    "from transformers import T5ForConditionalGeneration, AutoTokenizer\n",
    "import torch\n",
    "\n",
    "checkpoint = \"bigscience/T0pp\"\n",
    "# checkpoint = 'google/flan-t5-xxl'\n",
    "\n",
    "tokenizer = AutoTokenizer.from_pretrained(checkpoint)\n",
    "model = T5ForConditionalGeneration.from_pretrained(checkpoint, low_cpu_mem_usage=True, torch_dtype=torch.bfloat16); model.parallelize()"
   ]
  },
  {
   "cell_type": "code",
   "execution_count": 2,
   "metadata": {},
   "outputs": [],
   "source": [
    "def fn(prompt):\n",
    "    inputs = tokenizer.encode(prompt, return_tensors=\"pt\").to(\"cuda\")\n",
    "    outputs = model.generate(inputs, max_length=128, temperature=1, top_p=0.8)\n",
    "    message = tokenizer.decode(outputs[0], skip_special_tokens=True)\n",
    "    return message"
   ]
  },
  {
   "cell_type": "code",
   "execution_count": 3,
   "metadata": {},
   "outputs": [
    {
     "data": {
      "text/plain": [
       "'Reorder the words in this sentence: justin and name bieber years is my am I 27 old. Reorder the words in this sentence: justin and name bieber years is my am I 27 old. Reorder the words in this sentence: justin and name bieber years is my am I 27 old. Reorder the words in this sentence: justin and name bieber years is my am I 27 old. Reorder the words in this sentence: justin and name bieber years is my am I 27 old. Reorder the words in this sentence: justin and name'"
      ]
     },
     "execution_count": 3,
     "metadata": {},
     "output_type": "execute_result"
    }
   ],
   "source": [
    "p0 = \"Reorder the words in this sentence: justin and name bieber years is my am I 27 old.\"\n",
    "fn(p0)"
   ]
  },
  {
   "cell_type": "code",
   "execution_count": 4,
   "metadata": {},
   "outputs": [
    {
     "data": {
      "text/plain": [
       "'Sentence A: you can leave the books on the table over there. Sentence B: the tables in this book are very hard to read.'"
      ]
     },
     "execution_count": 4,
     "metadata": {},
     "output_type": "execute_result"
    }
   ],
   "source": [
    "p1=\"\"\"Is the word 'table' used in the same meaning in the two following sentences?\n",
    "\n",
    "Sentence A: you can leave the books on the table over there.\n",
    "Sentence B: the tables in this book are very hard to read.\"\"\"\n",
    "fn(p1)"
   ]
  },
  {
   "cell_type": "code",
   "execution_count": 1,
   "metadata": {},
   "outputs": [
    {
     "name": "stdout",
     "output_type": "stream",
     "text": [
      "<pad><extra_id_0> Dudley was a very good-looking child, with a bald head and a very shiny face. He was a very good-natured lad, too, and he was always putting on his best behaviour for his parents. He was a very good boy, and he was very fond of his parents, and he was very fond of his dog, a huge, snarling mastiff called Caesar. Dudley was a very good boy, and he was very fond of his dog, and he was very fond of his parents, and he was very fond of his son, and he was very fond of his son, and he was very fond of his son, and he was very fond of his son, and he was very fond of his son, and he was very fond of his son, and he was very fond of his son, and \n"
     ]
    }
   ],
   "source": [
    "from transformers import T5ForConditionalGeneration, AutoTokenizer\n",
    "import torch\n",
    "\n",
    "model = T5ForConditionalGeneration.from_pretrained(\"google/ul2\", low_cpu_mem_usage=True, torch_dtype=torch.bfloat16)\n",
    "model.parallelize()\n",
    "\n",
    "tokenizer = AutoTokenizer.from_pretrained(\"google/ul2\")"
   ]
  },
  {
   "cell_type": "code",
   "execution_count": 2,
   "metadata": {},
   "outputs": [
    {
     "name": "stdout",
     "output_type": "stream",
     "text": [
      "<pad>. Dudley was a very good-looking child, with a fine head.</s>\n"
     ]
    }
   ],
   "source": [
    "\n",
    "input_string = \"[S2S] Mr. Dursley was the director of a firm called Grunnings, which made drills. He was a big, solid man with a bald head. Mrs. Dursley was thin and blonde and more than the usual amount of neck, which came in very useful as she spent so much of her time craning over garden fences, spying on the neighbours. The Dursleys had a small son called Dudley and in their opinion there was no finer boy anywhere <extra_id_0>\"\n",
    "\n",
    "inputs = tokenizer(input_string, return_tensors=\"pt\").input_ids.to(\"cuda\")\n",
    "\n",
    "outputs = model.generate(inputs, max_length=200)\n",
    "\n",
    "print(tokenizer.decode(outputs[0]))\n",
    "# -> <pad>. Dudley was a very good boy, but he was also very stupid.</s>\n"
   ]
  },
  {
   "cell_type": "code",
   "execution_count": null,
   "metadata": {},
   "outputs": [],
   "source": []
  }
 ],
 "metadata": {
  "kernelspec": {
   "display_name": "Python 3",
   "language": "python",
   "name": "python3"
  },
  "language_info": {
   "codemirror_mode": {
    "name": "ipython",
    "version": 3
   },
   "file_extension": ".py",
   "mimetype": "text/x-python",
   "name": "python",
   "nbconvert_exporter": "python",
   "pygments_lexer": "ipython3",
   "version": "3.8.10 (default, Jun 22 2022, 20:18:18) \n[GCC 9.4.0]"
  },
  "orig_nbformat": 4,
  "vscode": {
   "interpreter": {
    "hash": "e7370f93d1d0cde622a1f8e1c04877d8463912d04d973331ad4851f04de6915a"
   }
  }
 },
 "nbformat": 4,
 "nbformat_minor": 2
}
