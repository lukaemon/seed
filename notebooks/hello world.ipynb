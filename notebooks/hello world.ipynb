{
 "cells": [
  {
   "cell_type": "code",
   "execution_count": 1,
   "metadata": {},
   "outputs": [],
   "source": [
    "%reload_ext autoreload\n",
    "%autoreload 2\n",
    "\n",
    "import sys\n",
    "sys.path.append('../src/')\n",
    "\n",
    "from dialogue import DialogueAgent"
   ]
  },
  {
   "cell_type": "code",
   "execution_count": 2,
   "metadata": {},
   "outputs": [],
   "source": [
    "agent = DialogueAgent(\"Coco\")"
   ]
  },
  {
   "cell_type": "code",
   "execution_count": 3,
   "metadata": {},
   "outputs": [
    {
     "name": "stdout",
     "output_type": "stream",
     "text": [
      "res.model='text-curie-001'\n",
      "res.usage=<OpenAIObject at 0x7ff0bc894b30> JSON: {\n",
      "  \"completion_tokens\": 10,\n",
      "  \"prompt_tokens\": 962,\n",
      "  \"total_tokens\": 972\n",
      "}\n",
      "finish_reason='stop'\n"
     ]
    },
    {
     "data": {
      "text/plain": [
       "'I am called Coco. Nice to meet you.'"
      ]
     },
     "execution_count": 3,
     "metadata": {},
     "output_type": "execute_result"
    }
   ],
   "source": [
    "agent(\"What is your name?\")"
   ]
  },
  {
   "cell_type": "code",
   "execution_count": 4,
   "metadata": {},
   "outputs": [
    {
     "name": "stdout",
     "output_type": "stream",
     "text": [
      "res.model='text-curie-001'\n",
      "res.usage=<OpenAIObject at 0x7ff0bc864d60> JSON: {\n",
      "  \"completion_tokens\": 23,\n",
      "  \"prompt_tokens\": 985,\n",
      "  \"total_tokens\": 1008\n",
      "}\n",
      "finish_reason='stop'\n"
     ]
    },
    {
     "data": {
      "text/plain": [
       "'I can do a lot of things, but my main function is to provide knowledge and help you with your tasks.'"
      ]
     },
     "execution_count": 4,
     "metadata": {},
     "output_type": "execute_result"
    }
   ],
   "source": [
    "agent(\"What can you do for me?\")"
   ]
  },
  {
   "cell_type": "code",
   "execution_count": 5,
   "metadata": {},
   "outputs": [
    {
     "name": "stdout",
     "output_type": "stream",
     "text": [
      "res.model='text-curie-001'\n",
      "res.usage=<OpenAIObject at 0x7ff0c7da5720> JSON: {\n",
      "  \"completion_tokens\": 39,\n",
      "  \"prompt_tokens\": 1028,\n",
      "  \"total_tokens\": 1067\n",
      "}\n",
      "finish_reason='stop'\n"
     ]
    },
    {
     "data": {
      "text/plain": [
       "'History is a collection of events that happened in the past. It can be interesting to study because it can help us understand the way the world works, and learn from mistakes made in the past.'"
      ]
     },
     "execution_count": 5,
     "metadata": {},
     "output_type": "execute_result"
    }
   ],
   "source": [
    "agent('What is history in general? Why is that meaningful to study?')"
   ]
  },
  {
   "cell_type": "code",
   "execution_count": 6,
   "metadata": {},
   "outputs": [
    {
     "name": "stdout",
     "output_type": "stream",
     "text": [
      "res.model='text-curie-001'\n",
      "res.usage=<OpenAIObject at 0x7ff0c7dffd60> JSON: {\n",
      "  \"completion_tokens\": 61,\n",
      "  \"prompt_tokens\": 1091,\n",
      "  \"total_tokens\": 1152\n",
      "}\n",
      "finish_reason='stop'\n"
     ]
    },
    {
     "data": {
      "text/plain": [
       "'There are many events that could be considered as \"history changing,\" but I\\'d say the most significant ones would be the discovery of fire, the development of agriculture, and the invention of the wheel. Each of these changes had a massive impact on the way humans live and interact with the world around them.'"
      ]
     },
     "execution_count": 6,
     "metadata": {},
     "output_type": "execute_result"
    }
   ],
   "source": [
    "agent(\"Can you give me one example event that changed the trajectory of the human history dramatically?\")"
   ]
  },
  {
   "cell_type": "code",
   "execution_count": 7,
   "metadata": {},
   "outputs": [
    {
     "name": "stdout",
     "output_type": "stream",
     "text": [
      "res.model='text-curie-001'\n",
      "res.usage=<OpenAIObject at 0x7ff0bc7e6720> JSON: {\n",
      "  \"completion_tokens\": 38,\n",
      "  \"prompt_tokens\": 1169,\n",
      "  \"total_tokens\": 1207\n",
      "}\n",
      "finish_reason='stop'\n"
     ]
    },
    {
     "data": {
      "text/plain": [
       "\"The event that you're probably most familiar with is the invention of the wheel. It allowed humans to increase their transportation capabilities exponentially, which in turn led to the development of many other technologies.\""
      ]
     },
     "execution_count": 7,
     "metadata": {},
     "output_type": "execute_result"
    }
   ],
   "source": [
    "agent(\"Tell me more about that event. What happened?\")"
   ]
  },
  {
   "cell_type": "code",
   "execution_count": 8,
   "metadata": {},
   "outputs": [
    {
     "name": "stdout",
     "output_type": "stream",
     "text": [
      "res.model='text-curie-001'\n",
      "res.usage=<OpenAIObject at 0x7ff0bc7e66d0> JSON: {\n",
      "  \"completion_tokens\": 51,\n",
      "  \"prompt_tokens\": 1230,\n",
      "  \"total_tokens\": 1281\n",
      "}\n",
      "finish_reason='stop'\n"
     ]
    },
    {
     "data": {
      "text/plain": [
       "'The invention of the wheel is probably the most well-known example of an event that has had a major positive impact on the way humans live. It allowed people to travel and explore wider areas, which in turn led to the development of many other technologies.'"
      ]
     },
     "execution_count": 8,
     "metadata": {},
     "output_type": "execute_result"
    }
   ],
   "source": [
    "agent(\"How does that event change the world? What possitive impact does it have?\")"
   ]
  },
  {
   "cell_type": "code",
   "execution_count": 9,
   "metadata": {},
   "outputs": [
    {
     "name": "stdout",
     "output_type": "stream",
     "text": [
      "res.model='text-curie-001'\n",
      "res.usage=<OpenAIObject at 0x7ff0bc7e6810> JSON: {\n",
      "  \"completion_tokens\": 27,\n",
      "  \"prompt_tokens\": 1301,\n",
      "  \"total_tokens\": 1328\n",
      "}\n",
      "finish_reason='stop'\n"
     ]
    },
    {
     "data": {
      "text/plain": [
       "'One example of a negative impact of the invention of the wheel would be the increase in pollution and separation of people from nature.'"
      ]
     },
     "execution_count": 9,
     "metadata": {},
     "output_type": "execute_result"
    }
   ],
   "source": [
    "agent(\"How about negative impact of that event? Give me one example.\")"
   ]
  },
  {
   "cell_type": "code",
   "execution_count": 10,
   "metadata": {},
   "outputs": [
    {
     "name": "stdout",
     "output_type": "stream",
     "text": [
      "res.model='text-curie-001'\n",
      "res.usage=<OpenAIObject at 0x7ff0bc7e67c0> JSON: {\n",
      "  \"completion_tokens\": 61,\n",
      "  \"prompt_tokens\": 1341,\n",
      "  \"total_tokens\": 1402\n",
      "}\n",
      "finish_reason='stop'\n"
     ]
    },
    {
     "data": {
      "text/plain": [
       "\"I'm a large language model, based on the Transformer architecture. The basic idea is that I predict the next word using the words before it. I was trained on a whole lot of text to learn how to do this! <assistant knows a lot, but doesn't go into detail here>\""
      ]
     },
     "execution_count": 10,
     "metadata": {},
     "output_type": "execute_result"
    }
   ],
   "source": [
    "agent('Where are you? Who made you?')"
   ]
  },
  {
   "cell_type": "code",
   "execution_count": 11,
   "metadata": {},
   "outputs": [
    {
     "name": "stdout",
     "output_type": "stream",
     "text": [
      "User: What is your name?\n",
      "Coco: I am called Coco. Nice to meet you.\n",
      "User: What can you do for me?\n",
      "Coco: I can do a lot of things, but my main function is to provide knowledge and help you with your tasks.\n",
      "User: What is history in general? Why is that meaningful to study?\n",
      "Coco: History is a collection of events that happened in the past. It can be interesting to study because it can help us understand the way the world works, and learn from mistakes made in the past.\n",
      "User: Can you give me one example event that changed the trajectory of the human history dramatically?\n",
      "Coco: There are many events that could be considered as \"history changing,\" but I'd say the most significant ones would be the discovery of fire, the development of agriculture, and the invention of the wheel. Each of these changes had a massive impact on the way humans live and interact with the world around them.\n",
      "User: Tell me more about that event. What happened?\n",
      "Coco: The event that you're probably most familiar with is the invention of the wheel. It allowed humans to increase their transportation capabilities exponentially, which in turn led to the development of many other technologies.\n",
      "User: How does that event change the world? What possitive impact does it have?\n",
      "Coco: The invention of the wheel is probably the most well-known example of an event that has had a major positive impact on the way humans live. It allowed people to travel and explore wider areas, which in turn led to the development of many other technologies.\n",
      "User: How about negative impact of that event? Give me one example.\n",
      "Coco: One example of a negative impact of the invention of the wheel would be the increase in pollution and separation of people from nature.\n",
      "User: Where are you? Who made you?\n",
      "Coco: I'm a large language model, based on the Transformer architecture. The basic idea is that I predict the next word using the words before it. I was trained on a whole lot of text to learn how to do this! <assistant knows a lot, but doesn't go into detail here>\n"
     ]
    }
   ],
   "source": [
    "print(agent.serialized_memory)"
   ]
  },
  {
   "cell_type": "code",
   "execution_count": null,
   "metadata": {},
   "outputs": [],
   "source": []
  }
 ],
 "metadata": {
  "kernelspec": {
   "display_name": "Python 3",
   "language": "python",
   "name": "python3"
  },
  "language_info": {
   "codemirror_mode": {
    "name": "ipython",
    "version": 3
   },
   "file_extension": ".py",
   "mimetype": "text/x-python",
   "name": "python",
   "nbconvert_exporter": "python",
   "pygments_lexer": "ipython3",
   "version": "3.8.10"
  },
  "orig_nbformat": 4,
  "vscode": {
   "interpreter": {
    "hash": "e7370f93d1d0cde622a1f8e1c04877d8463912d04d973331ad4851f04de6915a"
   }
  }
 },
 "nbformat": 4,
 "nbformat_minor": 2
}
