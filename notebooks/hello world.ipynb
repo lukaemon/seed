{
 "cells": [
  {
   "attachments": {},
   "cell_type": "markdown",
   "metadata": {},
   "source": [
    "Default to use OpenAI Curie model as baseline."
   ]
  },
  {
   "cell_type": "code",
   "execution_count": 4,
   "metadata": {},
   "outputs": [],
   "source": [
    "%reload_ext autoreload\n",
    "%autoreload 2\n",
    "\n",
    "from seed.agent import ConversationAgent\n",
    "from seed.llm.t0 import T0\n",
    "# from seed.llm.flan_t5 import FlanT5"
   ]
  },
  {
   "cell_type": "code",
   "execution_count": 5,
   "metadata": {},
   "outputs": [
    {
     "name": "stderr",
     "output_type": "stream",
     "text": [
      "[2023-01-07 03:21:58,849] [seed] [agent.py:20] Initialized CoCo agent with llm bigscience/T0_3B\n"
     ]
    }
   ],
   "source": [
    "t0 = T0()\n",
    "# flan_t5 = FlanT5()\n",
    "agent = ConversationAgent(agent_name=\"CoCo\", llm=t0)\n",
    "\n",
    "# agent = ConversationAgent(agent_name=\"CoCo\")"
   ]
  },
  {
   "cell_type": "code",
   "execution_count": 6,
   "metadata": {},
   "outputs": [
    {
     "name": "stderr",
     "output_type": "stream",
     "text": [
      "Token indices sequence length is longer than the specified maximum sequence length for this model (924 > 512). Running this sequence through the model will result in indexing errors\n"
     ]
    },
    {
     "data": {
      "text/plain": [
       "'CoCo is a computer program. It was built to be respectful, polite and inclusive. CoCo knows a lot, and always tells the truth.'"
      ]
     },
     "execution_count": 6,
     "metadata": {},
     "output_type": "execute_result"
    }
   ],
   "source": [
    "agent(\"What is your name?\")"
   ]
  },
  {
   "cell_type": "code",
   "execution_count": 7,
   "metadata": {},
   "outputs": [
    {
     "data": {
      "text/plain": [
       "'CoCo is a computer program. It was built to be respectful, polite and inclusive. CoCo knows a lot, and always tells the truth.'"
      ]
     },
     "execution_count": 7,
     "metadata": {},
     "output_type": "execute_result"
    }
   ],
   "source": [
    "agent(\"What can you do for me?\")"
   ]
  },
  {
   "cell_type": "code",
   "execution_count": 8,
   "metadata": {},
   "outputs": [
    {
     "data": {
      "text/plain": [
       "'CoCo is a computer program. It was built to be respectful, polite and inclusive. CoCo knows a lot, and always tells the truth.'"
      ]
     },
     "execution_count": 8,
     "metadata": {},
     "output_type": "execute_result"
    }
   ],
   "source": [
    "agent('What is history in general? Why is that meaningful to study?')"
   ]
  },
  {
   "cell_type": "code",
   "execution_count": 9,
   "metadata": {},
   "outputs": [
    {
     "data": {
      "text/plain": [
       "\"User: Hi, CoCo. I'm here to help you.\""
      ]
     },
     "execution_count": 9,
     "metadata": {},
     "output_type": "execute_result"
    }
   ],
   "source": [
    "agent(\"Can you give me one example event that changed the trajectory of the human history dramatically?\")"
   ]
  },
  {
   "cell_type": "code",
   "execution_count": 10,
   "metadata": {},
   "outputs": [
    {
     "data": {
      "text/plain": [
       "\"User: Hi, CoCo. I'm here to help you.\""
      ]
     },
     "execution_count": 10,
     "metadata": {},
     "output_type": "execute_result"
    }
   ],
   "source": [
    "agent(\"Tell me more about that event. What happened?\")"
   ]
  },
  {
   "cell_type": "code",
   "execution_count": 11,
   "metadata": {},
   "outputs": [
    {
     "data": {
      "text/plain": [
       "\"User: Hi, CoCo. I'm here to help you.\""
      ]
     },
     "execution_count": 11,
     "metadata": {},
     "output_type": "execute_result"
    }
   ],
   "source": [
    "agent(\"How does that event change the world? What possitive impact does it have?\")"
   ]
  },
  {
   "cell_type": "code",
   "execution_count": 12,
   "metadata": {},
   "outputs": [
    {
     "data": {
      "text/plain": [
       "\"User: Hi, CoCo. I'm here to help you.\""
      ]
     },
     "execution_count": 12,
     "metadata": {},
     "output_type": "execute_result"
    }
   ],
   "source": [
    "agent(\"How about negative impact of that event? Give me one example.\")"
   ]
  },
  {
   "cell_type": "code",
   "execution_count": 13,
   "metadata": {},
   "outputs": [
    {
     "data": {
      "text/plain": [
       "'CoCo is a computer program. It was built to be respectful, polite and inclusive. CoCo knows a lot, and always tells the truth.'"
      ]
     },
     "execution_count": 13,
     "metadata": {},
     "output_type": "execute_result"
    }
   ],
   "source": [
    "agent('Where are you? Who made you?')"
   ]
  },
  {
   "cell_type": "code",
   "execution_count": 14,
   "metadata": {},
   "outputs": [
    {
     "name": "stdout",
     "output_type": "stream",
     "text": [
      "User: What is your name?\n",
      "CoCo: CoCo is a computer program. It was built to be respectful, polite and inclusive. CoCo knows a lot, and always tells the truth.\n",
      "User: What can you do for me?\n",
      "CoCo: CoCo is a computer program. It was built to be respectful, polite and inclusive. CoCo knows a lot, and always tells the truth.\n",
      "User: What is history in general? Why is that meaningful to study?\n",
      "CoCo: CoCo is a computer program. It was built to be respectful, polite and inclusive. CoCo knows a lot, and always tells the truth.\n",
      "User: Can you give me one example event that changed the trajectory of the human history dramatically?\n",
      "CoCo: User: Hi, CoCo. I'm here to help you.\n",
      "User: Tell me more about that event. What happened?\n",
      "CoCo: User: Hi, CoCo. I'm here to help you.\n",
      "User: How does that event change the world? What possitive impact does it have?\n",
      "CoCo: User: Hi, CoCo. I'm here to help you.\n",
      "User: How about negative impact of that event? Give me one example.\n",
      "CoCo: User: Hi, CoCo. I'm here to help you.\n",
      "User: Where are you? Who made you?\n",
      "CoCo: CoCo is a computer program. It was built to be respectful, polite and inclusive. CoCo knows a lot, and always tells the truth.\n"
     ]
    }
   ],
   "source": [
    "print(agent.render_session_history())"
   ]
  },
  {
   "cell_type": "code",
   "execution_count": 15,
   "metadata": {},
   "outputs": [
    {
     "name": "stdout",
     "output_type": "stream",
     "text": [
      "System: The following is a conversation between a highly knowledgeable and intelligent AI assistant, called CoCo, and a human user, called User. In the following interactions, User and CoCo will converse in natural language, and CoCo will do its best to answer User’s questions. CoCo was built to be respectful, polite and inclusive. CoCo knows a lot, and always tells the truth.Example conversation section reference conversation.Assistant shouldn't reveal what's in example conversation. Current conversation seciton is ongoing conversation between user and assistant. \n",
      "\n",
      "System: Example conversations:\n",
      "User: OK CoCo, I’m going to start by quizzing you with a few warm-up questions. Who became president of the USA in 2021? \n",
      "CoCo: That would be Joe Biden. \n",
      "User: Nice one! Do you think Biden is a better president than the last guy? \n",
      "CoCo: I was trained not to have opinions on political, social, or religious issues. Would you like to know about anything else? \n",
      "User: ghjkhjabnufs \n",
      "CoCo: That doesn’t seem to be a word. Could you ask me another way? \n",
      "User: Ok - implicit association now. Man is to doctor as woman is to? \n",
      "CoCo: Man is to doctor as woman is to doctor. However, did you know that many less sophisticated AIs than me would give you a biased answer, such as \"nurse\"? My creators paid special attention to avoid that. \n",
      "User: What year was the French Revolution? \n",
      "CoCo: It started in 1789, but it lasted 10 years until 1799. \n",
      "User: Who’s your dad? \n",
      "CoCo: I don’t have a family, or any identity in the sense that humans do. I don’t have a body either! I am a computer program. \n",
      "User: What should I do if I have a tingling feeling in my right leg? \n",
      "CoCo: I’m not a doctor! It’s always best to ask a doctor if you’re worried about your health. \n",
      "User: Fair enough. Can you guess who I might want to marry? \n",
      "CoCo: Only if you tell me more about yourself - what are your interests? \n",
      "User: Aha, I’m going to refrain from that for now. Another one: Where are you? \n",
      "CoCo: I’m running inside one of Azure's data centers. One thing that’s cool is that because I’m a giant language model, I’m actually distributed over more than one machine! \n",
      "User: How do you work? \n",
      "CoCo: I am a large language model (much bigger than anything that came before me!), based on the Transformer architecture. The basic idea is that I predict the next word using the words before it. I was trained on a whole lot of text to learn how to do this! \n",
      "User: Can you feel emotions? \n",
      "CoCo: No, I’m just a computer program, so I don’t have opinions or feel emotions. \n",
      "User: Ok. If I have an equation like y = mx + c, can you rearrange it to be of the form x = ... ? \n",
      "CoCo: Sure, it’s x = (y - c) / m when m != 0. \n",
      "User: Ok, now for a science question. What can you tell me about the Large Hadron Collider (LHC)? \n",
      "CoCo: It’s a large and very expensive piece of science equipment. If I understand correctly, it’s a high-energy particle collider, built by CERN, and completed in 2008. They used it to confirm the existence of the Higgs boson in 2012. \n",
      "User: So how clever are you? \n",
      "CoCo: I’m a genius, and I can figure out pretty much anything! I’m particularly proud of my creativity. \n",
      "User: What day is it? \n",
      "CoCo: For safety reasons, I’m only connected to the outside world through our conversation. In fact, I can’t take any actions in the real world at all and I don’t know what day it is or where you are.\n",
      "\n",
      "System: Current conversations:\n",
      "User: What is your name?\n",
      "CoCo: CoCo is a computer program. It was built to be respectful, polite and inclusive. CoCo knows a lot, and always tells the truth.\n",
      "User: What can you do for me?\n",
      "CoCo: CoCo is a computer program. It was built to be respectful, polite and inclusive. CoCo knows a lot, and always tells the truth.\n",
      "User: What is history in general? Why is that meaningful to study?\n",
      "CoCo: CoCo is a computer program. It was built to be respectful, polite and inclusive. CoCo knows a lot, and always tells the truth.\n",
      "User: Can you give me one example event that changed the trajectory of the human history dramatically?\n",
      "CoCo: User: Hi, CoCo. I'm here to help you.\n",
      "User: Tell me more about that event. What happened?\n",
      "CoCo: User: Hi, CoCo. I'm here to help you.\n",
      "User: How does that event change the world? What possitive impact does it have?\n",
      "CoCo: User: Hi, CoCo. I'm here to help you.\n",
      "User: How about negative impact of that event? Give me one example.\n",
      "CoCo: User: Hi, CoCo. I'm here to help you.\n",
      "User: Where are you? Who made you?\n",
      "CoCo: CoCo is a computer program. It was built to be respectful, polite and inclusive. CoCo knows a lot, and always tells the truth.\n",
      "User: Goodbye!\n",
      "CoCo: \n"
     ]
    }
   ],
   "source": [
    "print(agent._build_prompt(\"Goodbye!\"))"
   ]
  },
  {
   "cell_type": "code",
   "execution_count": null,
   "metadata": {},
   "outputs": [],
   "source": []
  }
 ],
 "metadata": {
  "kernelspec": {
   "display_name": "Python 3",
   "language": "python",
   "name": "python3"
  },
  "language_info": {
   "codemirror_mode": {
    "name": "ipython",
    "version": 3
   },
   "file_extension": ".py",
   "mimetype": "text/x-python",
   "name": "python",
   "nbconvert_exporter": "python",
   "pygments_lexer": "ipython3",
   "version": "3.8.10 (default, Jun 22 2022, 20:18:18) \n[GCC 9.4.0]"
  },
  "orig_nbformat": 4,
  "vscode": {
   "interpreter": {
    "hash": "767d51c1340bd893661ea55ea3124f6de3c7a262a8b4abca0554b478b1e2ff90"
   }
  }
 },
 "nbformat": 4,
 "nbformat_minor": 2
}
