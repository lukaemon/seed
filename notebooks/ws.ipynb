{
 "cells": [
  {
   "cell_type": "code",
   "execution_count": 1,
   "metadata": {},
   "outputs": [],
   "source": [
    "from dataclasses import dataclass"
   ]
  },
  {
   "cell_type": "code",
   "execution_count": 5,
   "metadata": {},
   "outputs": [],
   "source": [
    "@dataclass\n",
    "class instruction:\n",
    "    agent_name: str\n",
    "\n",
    "    def __str__(self):\n",
    "        template = f\"The following is a conversation between a highly knowledgeable and intelligent AI assistant, called {self.agent_name}, and a human user, called User. In the following interactions, User and {self.agent_name} will converse in natural language, and {self.agent_name} will do its best to answer User’s questions. {self.agent_name} was built to be respectful, polite and inclusive. {self.agent_name} knows a lot, and always tells the truth.Example conversation section reference conversation.Assistant shouldn't reveal what's in example conversation. Current conversation seciton is ongoing conversation between user and assistant.\"\n",
    "        return template"
   ]
  },
  {
   "cell_type": "code",
   "execution_count": 10,
   "metadata": {},
   "outputs": [],
   "source": [
    "inst = instruction('agent_name')"
   ]
  },
  {
   "cell_type": "code",
   "execution_count": 13,
   "metadata": {},
   "outputs": [
    {
     "data": {
      "text/plain": [
       "\"The following is a conversation between a highly knowledgeable and intelligent AI assistant, called agent_name, and a human user, called User. In the following interactions, User and agent_name will converse in natural language, and agent_name will do its best to answer User’s questions. agent_name was built to be respectful, polite and inclusive. agent_name knows a lot, and always tells the truth.Example conversation section reference conversation.Assistant shouldn't reveal what's in example conversation. Current conversation seciton is ongoing conversation between user and assistant.\""
      ]
     },
     "execution_count": 13,
     "metadata": {},
     "output_type": "execute_result"
    }
   ],
   "source": [
    "str(inst)"
   ]
  },
  {
   "cell_type": "code",
   "execution_count": null,
   "metadata": {},
   "outputs": [],
   "source": []
  }
 ],
 "metadata": {
  "kernelspec": {
   "display_name": "Python 3",
   "language": "python",
   "name": "python3"
  },
  "language_info": {
   "codemirror_mode": {
    "name": "ipython",
    "version": 3
   },
   "file_extension": ".py",
   "mimetype": "text/x-python",
   "name": "python",
   "nbconvert_exporter": "python",
   "pygments_lexer": "ipython3",
   "version": "3.8.10"
  },
  "orig_nbformat": 4,
  "vscode": {
   "interpreter": {
    "hash": "e7370f93d1d0cde622a1f8e1c04877d8463912d04d973331ad4851f04de6915a"
   }
  }
 },
 "nbformat": 4,
 "nbformat_minor": 2
}
