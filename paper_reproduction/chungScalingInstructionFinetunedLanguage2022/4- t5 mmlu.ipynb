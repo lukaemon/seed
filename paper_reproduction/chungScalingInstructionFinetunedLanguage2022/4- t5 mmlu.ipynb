{
 "cells": [
  {
   "cell_type": "code",
   "execution_count": null,
   "metadata": {},
   "outputs": [],
   "source": [
    "%reload_ext autoreload\n",
    "%autoreload 2\n",
    "\n",
    "import torch\n",
    "from tqdm.auto import tqdm\n",
    "\n",
    "\n",
    "import eval\n",
    "import mmlu\n",
    "import utils\n",
    "import t5"
   ]
  },
  {
   "cell_type": "code",
   "execution_count": null,
   "metadata": {},
   "outputs": [],
   "source": [
    "# checkpoints = [\"google/flan-t5-large\"]  # for testing\n",
    "checkpoints = [\n",
    "    \"google/flan-t5-small\",\n",
    "    \"google/flan-t5-base\",\n",
    "    \"google/flan-t5-large\",\n",
    "    \"google/flan-t5-xl\",\n",
    "    \"google/flan-t5-xxl\",\n",
    "]\n"
   ]
  },
  {
   "cell_type": "code",
   "execution_count": null,
   "metadata": {},
   "outputs": [],
   "source": [
    "for checkpoint in checkpoints:\n",
    "    utils.logger.info(f\"Loading model from {checkpoint}.\")\n",
    "    m, tk = t5.load_model(checkpoint)\n",
    "\n",
    "    for cot in [False, True]:\n",
    "        dataset_results = []\n",
    "        for task in tqdm(mmlu.task_list):\n",
    "            config = eval.EvalConfig(\n",
    "                checkpoint=checkpoint,\n",
    "                dataset_name=\"lukaemon/mmlu\",\n",
    "                task_name=task,\n",
    "                split=\"test\",\n",
    "                cot=cot,\n",
    "                n=5,  # mmlu uses 5 shots\n",
    "                cutoff=None,\n",
    "                batch_size=1,\n",
    "                temp=0.0,\n",
    "                k=1,\n",
    "                inst_fn=mmlu.task_instruction,\n",
    "                cot_fn=mmlu.task_cot,\n",
    "            )\n",
    "\n",
    "            task_result = eval.eval_task(m, tk, config)\n",
    "            dataset_results.append(task_result)\n",
    "\n",
    "        eval.save_result(dataset_results)\n",
    "    del m\n",
    "    torch.cuda.empty_cache()\n"
   ]
  },
  {
   "cell_type": "code",
   "execution_count": null,
   "metadata": {},
   "outputs": [],
   "source": []
  }
 ],
 "metadata": {
  "kernelspec": {
   "display_name": "Python 3",
   "language": "python",
   "name": "python3"
  },
  "language_info": {
   "codemirror_mode": {
    "name": "ipython",
    "version": 3
   },
   "file_extension": ".py",
   "mimetype": "text/x-python",
   "name": "python",
   "nbconvert_exporter": "python",
   "pygments_lexer": "ipython3",
   "version": "3.8.10"
  },
  "orig_nbformat": 4,
  "vscode": {
   "interpreter": {
    "hash": "e7370f93d1d0cde622a1f8e1c04877d8463912d04d973331ad4851f04de6915a"
   }
  }
 },
 "nbformat": 4,
 "nbformat_minor": 2
}
