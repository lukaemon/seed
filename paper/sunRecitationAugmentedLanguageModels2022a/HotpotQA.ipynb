{
 "cells": [
  {
   "cell_type": "code",
   "execution_count": 21,
   "metadata": {},
   "outputs": [
    {
     "data": {
      "application/vnd.jupyter.widget-view+json": {
       "model_id": "38ad33453acd40e1b8a1fae1bb887f76",
       "version_major": 2,
       "version_minor": 0
      },
      "text/plain": [
       "  0%|          | 0/3 [00:00<?, ?it/s]"
      ]
     },
     "metadata": {},
     "output_type": "display_data"
    },
    {
     "data": {
      "text/plain": [
       "DatasetDict({\n",
       "    train: Dataset({\n",
       "        features: ['id', 'question', 'answer', 'type', 'level', 'supporting_facts', 'context'],\n",
       "        num_rows: 90447\n",
       "    })\n",
       "    validation: Dataset({\n",
       "        features: ['id', 'question', 'answer', 'type', 'level', 'supporting_facts', 'context'],\n",
       "        num_rows: 7405\n",
       "    })\n",
       "    test: Dataset({\n",
       "        features: ['id', 'question', 'answer', 'type', 'level', 'supporting_facts', 'context'],\n",
       "        num_rows: 7405\n",
       "    })\n",
       "})"
      ]
     },
     "execution_count": 21,
     "metadata": {},
     "output_type": "execute_result"
    }
   ],
   "source": [
    "import json\n",
    "from datasets import load_dataset\n",
    "\n",
    "\n",
    "ds = load_dataset(\"hotpot_qa\", 'fullwiki')\n",
    "ds"
   ]
  },
  {
   "cell_type": "code",
   "execution_count": 22,
   "metadata": {},
   "outputs": [
    {
     "name": "stdout",
     "output_type": "stream",
     "text": [
      "{\n",
      "    \"id\": \"5a8b57f25542995d1e6f1371\",\n",
      "    \"question\": \"Were Scott Derrickson and Ed Wood of the same nationality?\",\n",
      "    \"answer\": \"yes\",\n",
      "    \"type\": \"comparison\",\n",
      "    \"level\": \"hard\",\n",
      "    \"supporting_facts\": {\n",
      "        \"title\": [\n",
      "            \"Scott Derrickson\",\n",
      "            \"Ed Wood\"\n",
      "        ],\n",
      "        \"sent_id\": [\n",
      "            0,\n",
      "            0\n",
      "        ]\n",
      "    },\n",
      "    \"context\": {\n",
      "        \"title\": [\n",
      "            \"Adam Collis\",\n",
      "            \"Ed Wood (film)\",\n",
      "            \"Tyler Bates\",\n",
      "            \"Doctor Strange (2016 film)\",\n",
      "            \"Hellraiser: Inferno\",\n",
      "            \"Sinister (film)\",\n",
      "            \"Deliver Us from Evil (2014 film)\",\n",
      "            \"Woodson, Arkansas\",\n",
      "            \"Conrad Brooks\",\n",
      "            \"The Exorcism of Emily Rose\"\n",
      "        ],\n",
      "        \"sentences\": [\n",
      "            [\n",
      "                \"Adam Collis is an American filmmaker and actor.\",\n",
      "                \" He attended the Duke University from 1986 to 1990 and the University of California, Los Angeles from 2007 to 2010.\",\n",
      "                \" He also studied cinema at the University of Southern California from 1991 to 1997.\",\n",
      "                \" Collis first work was the assistant director for the Scott Derrickson's short \\\"Love in the Ruins\\\" (1995).\",\n",
      "                \" In 1998, he played \\\"Crankshaft\\\" in Eric Koyanagi's \\\"Hundred Percent\\\".\"\n",
      "            ],\n",
      "            [\n",
      "                \"Ed Wood is a 1994 American biographical period comedy-drama film directed and produced by Tim Burton, and starring Johnny Depp as cult filmmaker Ed Wood.\",\n",
      "                \" The film concerns the period in Wood's life when he made his best-known films as well as his relationship with actor Bela Lugosi, played by Martin Landau.\",\n",
      "                \" Sarah Jessica Parker, Patricia Arquette, Jeffrey Jones, Lisa Marie, and Bill Murray are among the supporting cast.\"\n",
      "            ],\n",
      "            [\n",
      "                \"Tyler Bates (born June 5, 1965) is an American musician, music producer, and composer for films, television, and video games.\",\n",
      "                \" Much of his work is in the action and horror film genres, with films like \\\"Dawn of the Dead, 300, Sucker Punch,\\\" and \\\"John Wick.\\\"\",\n",
      "                \" He has collaborated with directors like Zack Snyder, Rob Zombie, Neil Marshall, William Friedkin, Scott Derrickson, and James Gunn.\",\n",
      "                \" With Gunn, he has scored every one of the director's films; including \\\"Guardians of the Galaxy\\\", which became one of the highest grossing domestic movies of 2014, and its 2017 sequel.\",\n",
      "                \" In addition, he is also the lead guitarist of the American rock band Marilyn Manson, and produced its albums \\\"The Pale Emperor\\\" and \\\"Heaven Upside Down\\\".\"\n",
      "            ],\n",
      "            [\n",
      "                \"Doctor Strange is a 2016 American superhero film based on the Marvel Comics character of the same name, produced by Marvel Studios and distributed by Walt Disney Studios Motion Pictures.\",\n",
      "                \" It is the fourteenth film of the Marvel Cinematic Universe (MCU).\",\n",
      "                \" The film was directed by Scott Derrickson, who wrote it with Jon Spaihts and C. Robert Cargill, and stars Benedict Cumberbatch as Stephen Strange, along with Chiwetel Ejiofor, Rachel McAdams, Benedict Wong, Michael Stuhlbarg, Benjamin Bratt, Scott Adkins, Mads Mikkelsen, and Tilda Swinton.\",\n",
      "                \" In \\\"Doctor Strange\\\", surgeon Strange learns the mystic arts after a career-ending car accident.\"\n",
      "            ],\n",
      "            [\n",
      "                \"Hellraiser: Inferno (also known as Hellraiser V: Inferno) is a 2000 American horror film.\",\n",
      "                \" It is the fifth installment in the \\\"Hellraiser\\\" series and the first \\\"Hellraiser\\\" film to go straight-to-DVD.\",\n",
      "                \" It was directed by Scott Derrickson and released on October 3, 2000.\",\n",
      "                \" The film concerns a corrupt detective who discovers Lemarchand's box at a crime scene.\",\n",
      "                \" The film's reviews were mixed.\"\n",
      "            ],\n",
      "            [\n",
      "                \"Sinister is a 2012 supernatural horror film directed by Scott Derrickson and written by Derrickson and C. Robert Cargill.\",\n",
      "                \" It stars Ethan Hawke as fictional true-crime writer Ellison Oswalt who discovers a box of home movies in his attic that puts his family in danger.\"\n",
      "            ],\n",
      "            [\n",
      "                \"Deliver Us from Evil is a 2014 American supernatural horror film directed by Scott Derrickson and produced by Jerry Bruckheimer.\",\n",
      "                \" The film is officially based on a 2001 non-fiction book entitled \\\"Beware the Night\\\" by Ralph Sarchie and Lisa Collier Cool, and its marketing campaign highlighted that it was \\\"inspired by actual accounts\\\".\",\n",
      "                \" The film stars Eric Bana, \\u00c9dgar Ram\\u00edrez, Sean Harris, Olivia Munn, and Joel McHale in the main roles and was released on July 2, 2014.\"\n",
      "            ],\n",
      "            [\n",
      "                \"Woodson is a census-designated place (CDP) in Pulaski County, Arkansas, in the United States.\",\n",
      "                \" Its population was 403 at the 2010 census.\",\n",
      "                \" It is part of the Little Rock\\u2013North Little Rock\\u2013Conway Metropolitan Statistical Area.\",\n",
      "                \" Woodson and its accompanying Woodson Lake and Wood Hollow are the namesake for Ed Wood Sr., a prominent plantation owner, trader, and businessman at the turn of the 20th century.\",\n",
      "                \" Woodson is adjacent to the Wood Plantation, the largest of the plantations own by Ed Wood Sr.\"\n",
      "            ],\n",
      "            [\n",
      "                \"Conrad Brooks (born Conrad Biedrzycki on January 3, 1931 in Baltimore, Maryland) is an American actor.\",\n",
      "                \" He moved to Hollywood, California in 1948 to pursue a career in acting.\",\n",
      "                \" He got his start in movies appearing in Ed Wood films such as \\\"Plan 9 from Outer Space\\\", \\\"Glen or Glenda\\\", and \\\"Jail Bait.\\\"\",\n",
      "                \" He took a break from acting during the 1960s and 1970s but due to the ongoing interest in the films of Ed Wood, he reemerged in the 1980s and has become a prolific actor.\",\n",
      "                \" He also has since gone on to write, produce and direct several films.\"\n",
      "            ],\n",
      "            [\n",
      "                \"The Exorcism of Emily Rose is a 2005 American legal drama horror film directed by Scott Derrickson and starring Laura Linney and Tom Wilkinson.\",\n",
      "                \" The film is loosely based on the story of Anneliese Michel and follows a self-proclaimed agnostic who acts as defense counsel (Linney) representing a parish priest (Wilkinson), accused by the state of negligent homicide after he performed an exorcism.\"\n",
      "            ]\n",
      "        ]\n",
      "    }\n",
      "}\n"
     ]
    }
   ],
   "source": [
    "x = ds['validation'][0]\n",
    "\n",
    "print(json.dumps(x, indent=4))"
   ]
  },
  {
   "cell_type": "code",
   "execution_count": null,
   "metadata": {},
   "outputs": [],
   "source": []
  }
 ],
 "metadata": {
  "kernelspec": {
   "display_name": "Python 3",
   "language": "python",
   "name": "python3"
  },
  "language_info": {
   "codemirror_mode": {
    "name": "ipython",
    "version": 3
   },
   "file_extension": ".py",
   "mimetype": "text/x-python",
   "name": "python",
   "nbconvert_exporter": "python",
   "pygments_lexer": "ipython3",
   "version": "3.8.10"
  },
  "orig_nbformat": 4,
  "vscode": {
   "interpreter": {
    "hash": "e7370f93d1d0cde622a1f8e1c04877d8463912d04d973331ad4851f04de6915a"
   }
  }
 },
 "nbformat": 4,
 "nbformat_minor": 2
}
