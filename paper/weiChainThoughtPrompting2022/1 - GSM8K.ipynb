{
 "cells": [
  {
   "cell_type": "code",
   "execution_count": 1,
   "metadata": {},
   "outputs": [],
   "source": [
    "%reload_ext autoreload\n",
    "%autoreload 2\n",
    "\n",
    "from gsm8k import GSM8K"
   ]
  },
  {
   "cell_type": "code",
   "execution_count": 2,
   "metadata": {},
   "outputs": [
    {
     "name": "stderr",
     "output_type": "stream",
     "text": [
      "[INFO] [2023-01-17 05:56:03,510] [CoT] [gsm8k.py:34] building dataloader...\n",
      "[INFO] [2023-01-17 05:56:07,913] [CoT] [gsm8k.py:43] dataset cutoff = 8\n",
      "[INFO] [2023-01-17 05:56:07,916] [CoT] [gsm8k.py:67] loading model google/flan-t5-xxl...\n"
     ]
    },
    {
     "data": {
      "application/vnd.jupyter.widget-view+json": {
       "model_id": "aced732efb784b6b857474d411350af9",
       "version_major": 2,
       "version_minor": 0
      },
      "text/plain": [
       "  0%|          | 0/1 [00:00<?, ?it/s]"
      ]
     },
     "metadata": {},
     "output_type": "display_data"
    },
    {
     "name": "stderr",
     "output_type": "stream",
     "text": [
      "[INFO] [2023-01-17 05:56:27,270] [CoT] [gsm8k.py:77] evaluating model google/flan-t5-xxl, num_batches=1, self.batch_size=8\n",
      "[INFO] [2023-01-17 05:56:31,916] [CoT] [gsm8k.py:106] release model and cuda cache\n",
      "[INFO] [2023-01-17 05:56:31,917] [CoT] [gsm8k.py:114] failed index cached at self.failed_index\n",
      "[INFO] [2023-01-17 05:56:31,922] [CoT] [gsm8k.py:121] otuput_text and prediction cached at self.dataset\n",
      "[INFO] [2023-01-17 05:56:31,923] [CoT] [gsm8k.py:130] {'checkpoint': 'google/flan-t5-xxl', 'accuracy': 0.25, 'n_total': 8, 'n_failed': 6, 'regex_error': 0}\n",
      "[INFO] [2023-01-17 05:56:31,944] [CoT] [gsm8k.py:153] result and failed cases saved at ./output/gsm8k/flan-t5-xxl\n",
      "[INFO] [2023-01-17 05:56:32,891] [CoT] [gsm8k.py:34] building dataloader...\n",
      "[INFO] [2023-01-17 05:56:37,149] [CoT] [gsm8k.py:43] dataset cutoff = 8\n",
      "[INFO] [2023-01-17 05:56:37,151] [CoT] [gsm8k.py:67] loading model google/ul2...\n"
     ]
    },
    {
     "data": {
      "application/vnd.jupyter.widget-view+json": {
       "model_id": "3867be5a18744c83a8eded9a3176bc89",
       "version_major": 2,
       "version_minor": 0
      },
      "text/plain": [
       "  0%|          | 0/1 [00:00<?, ?it/s]"
      ]
     },
     "metadata": {},
     "output_type": "display_data"
    },
    {
     "name": "stderr",
     "output_type": "stream",
     "text": [
      "[INFO] [2023-01-17 05:56:53,395] [CoT] [gsm8k.py:77] evaluating model google/ul2, num_batches=1, self.batch_size=8\n",
      "[INFO] [2023-01-17 05:57:08,304] [CoT] [gsm8k.py:106] release model and cuda cache\n",
      "[INFO] [2023-01-17 05:57:08,304] [CoT] [gsm8k.py:114] failed index cached at self.failed_index\n",
      "[INFO] [2023-01-17 05:57:08,308] [CoT] [gsm8k.py:121] otuput_text and prediction cached at self.dataset\n",
      "[INFO] [2023-01-17 05:57:08,309] [CoT] [gsm8k.py:130] {'checkpoint': 'google/ul2', 'accuracy': 0.25, 'n_total': 8, 'n_failed': 6, 'regex_error': 1}\n",
      "[INFO] [2023-01-17 05:57:08,333] [CoT] [gsm8k.py:153] result and failed cases saved at ./output/gsm8k/ul2\n"
     ]
    }
   ],
   "source": [
    "checkpoints = [\"google/flan-t5-xxl\", \"google/ul2\"]\n",
    "\n",
    "for checkpoint in checkpoints:\n",
    "    gsm = GSM8K(checkpoint, dataset_cutoff=8)\n",
    "    gsm.eval(checkpoint)\n",
    "    gsm.generate_report()\n",
    "    \n",
    "    del gsm"
   ]
  },
  {
   "cell_type": "code",
   "execution_count": null,
   "metadata": {},
   "outputs": [],
   "source": []
  }
 ],
 "metadata": {
  "kernelspec": {
   "display_name": "Python 3",
   "language": "python",
   "name": "python3"
  },
  "language_info": {
   "codemirror_mode": {
    "name": "ipython",
    "version": 3
   },
   "file_extension": ".py",
   "mimetype": "text/x-python",
   "name": "python",
   "nbconvert_exporter": "python",
   "pygments_lexer": "ipython3",
   "version": "3.8.10"
  },
  "orig_nbformat": 4,
  "vscode": {
   "interpreter": {
    "hash": "e7370f93d1d0cde622a1f8e1c04877d8463912d04d973331ad4851f04de6915a"
   }
  }
 },
 "nbformat": 4,
 "nbformat_minor": 2
}
