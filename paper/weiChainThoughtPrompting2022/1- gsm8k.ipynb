{
 "cells": [
  {
   "cell_type": "code",
   "execution_count": 1,
   "metadata": {},
   "outputs": [
    {
     "name": "stderr",
     "output_type": "stream",
     "text": [
      "2023-01-26 07:31:10.100075: I tensorflow/core/platform/cpu_feature_guard.cc:193] This TensorFlow binary is optimized with oneAPI Deep Neural Network Library (oneDNN) to use the following CPU instructions in performance-critical operations:  AVX2 FMA\n",
      "To enable them in other operations, rebuild TensorFlow with the appropriate compiler flags.\n",
      "2023-01-26 07:31:10.645422: W tensorflow/compiler/xla/stream_executor/platform/default/dso_loader.cc:64] Could not load dynamic library 'libnvinfer.so.7'; dlerror: libnvinfer.so.7: cannot open shared object file: No such file or directory; LD_LIBRARY_PATH: /usr/local/lib/python3.8/dist-packages/torch/lib:/usr/local/lib/python3.8/dist-packages/torch_tensorrt/lib:/usr/local/cuda/compat/lib:/usr/local/nvidia/lib:/usr/local/nvidia/lib64\n",
      "2023-01-26 07:31:10.645466: W tensorflow/compiler/xla/stream_executor/platform/default/dso_loader.cc:64] Could not load dynamic library 'libnvinfer_plugin.so.7'; dlerror: libnvinfer_plugin.so.7: cannot open shared object file: No such file or directory; LD_LIBRARY_PATH: /usr/local/lib/python3.8/dist-packages/torch/lib:/usr/local/lib/python3.8/dist-packages/torch_tensorrt/lib:/usr/local/cuda/compat/lib:/usr/local/nvidia/lib:/usr/local/nvidia/lib64\n",
      "2023-01-26 07:31:10.645470: W tensorflow/compiler/tf2tensorrt/utils/py_utils.cc:38] TF-TRT Warning: Cannot dlopen some TensorRT libraries. If you would like to use Nvidia GPU with TensorRT, please make sure the missing libraries mentioned above are installed properly.\n"
     ]
    }
   ],
   "source": [
    "%reload_ext autoreload\n",
    "%autoreload 2\n",
    "\n",
    "from gsm8k import GSM8K"
   ]
  },
  {
   "cell_type": "code",
   "execution_count": 2,
   "metadata": {},
   "outputs": [
    {
     "name": "stderr",
     "output_type": "stream",
     "text": [
      "[INFO] [2023-01-26 07:31:16,713] [CoT] [gsm8k.py:41] Dataset loaded: gsm8k/main. Cutoff = None\n",
      "[INFO] [2023-01-26 07:31:16,714] [CoT] [gsm8k.py:46] Processing dataset\n"
     ]
    },
    {
     "data": {
      "application/vnd.jupyter.widget-view+json": {
       "model_id": "82ca85fa53584e3fbca95b17037a0ca5",
       "version_major": 2,
       "version_minor": 0
      },
      "text/plain": [
       "  0%|          | 0/2 [00:00<?, ?ba/s]"
      ]
     },
     "metadata": {},
     "output_type": "display_data"
    },
    {
     "name": "stderr",
     "output_type": "stream",
     "text": [
      "[INFO] [2023-01-26 07:31:17,053] [CoT] [gsm8k.py:78] DataLoader is ready\n",
      "[INFO] [2023-01-26 07:31:17,054] [CoT] [gsm8k.py:88] Loading model google/flan-t5-xxl\n"
     ]
    },
    {
     "data": {
      "application/vnd.jupyter.widget-view+json": {
       "model_id": "62747a79cce643e18d4abc35aec67524",
       "version_major": 2,
       "version_minor": 0
      },
      "text/plain": [
       "  0%|          | 0/83 [00:00<?, ?it/s]"
      ]
     },
     "metadata": {},
     "output_type": "display_data"
    },
    {
     "name": "stderr",
     "output_type": "stream",
     "text": [
      "[INFO] [2023-01-26 07:31:36,141] [CoT] [gsm8k.py:98] Evaluating model google/flan-t5-xxl, num_batches=83, self.batch_size=16\n",
      "[INFO] [2023-01-26 07:55:19,654] [CoT] [gsm8k.py:127] Release model and cuda cache\n",
      "[INFO] [2023-01-26 07:55:19,659] [CoT] [gsm8k.py:135] Failed index cached at self.failed_index\n",
      "[INFO] [2023-01-26 07:55:19,676] [CoT] [gsm8k.py:142] otuput_text and prediction cached at self.dataset\n",
      "[INFO] [2023-01-26 07:55:19,677] [CoT] [gsm8k.py:151] {'checkpoint': 'google/flan-t5-xxl', 'accuracy': 0.16224412433661864, 'total': 1319, 'failure': 1105, 'regex_parsing_failure': 22}\n",
      "[INFO] [2023-01-26 07:55:20,536] [CoT] [gsm8k.py:174] Result and failed cases saved at ./output/gsm8k/flan-t5-xxl\n"
     ]
    }
   ],
   "source": [
    "# checkpoints = [\"google/flan-t5-xxl\", \"google/ul2\", \"bigscience/T0pp\"]\n",
    "checkpoint = 'google/flan-t5-xxl'\n",
    "\n",
    "gsm = GSM8K(checkpoint, dataset_cutoff=None)\n",
    "gsm.eval()\n",
    "gsm.generate_report()\n",
    "    \n",
    "del gsm"
   ]
  },
  {
   "cell_type": "code",
   "execution_count": null,
   "metadata": {},
   "outputs": [],
   "source": []
  }
 ],
 "metadata": {
  "kernelspec": {
   "display_name": "Python 3",
   "language": "python",
   "name": "python3"
  },
  "language_info": {
   "codemirror_mode": {
    "name": "ipython",
    "version": 3
   },
   "file_extension": ".py",
   "mimetype": "text/x-python",
   "name": "python",
   "nbconvert_exporter": "python",
   "pygments_lexer": "ipython3",
   "version": "3.8.10"
  },
  "orig_nbformat": 4,
  "vscode": {
   "interpreter": {
    "hash": "e7370f93d1d0cde622a1f8e1c04877d8463912d04d973331ad4851f04de6915a"
   }
  }
 },
 "nbformat": 4,
 "nbformat_minor": 2
}
