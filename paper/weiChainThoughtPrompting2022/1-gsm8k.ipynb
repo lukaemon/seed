{
 "cells": [
  {
   "cell_type": "code",
   "execution_count": 1,
   "metadata": {},
   "outputs": [],
   "source": [
    "%reload_ext autoreload\n",
    "%autoreload 2\n",
    "\n",
    "from gsm8k import GSM8K"
   ]
  },
  {
   "cell_type": "code",
   "execution_count": 2,
   "metadata": {},
   "outputs": [
    {
     "name": "stderr",
     "output_type": "stream",
     "text": [
      "[INFO] [2023-01-17 09:57:46,474] [CoT] [gsm8k.py:42] Dataset loaded: gsm8k/main. Cutoff = None\n",
      "[INFO] [2023-01-17 09:57:46,474] [CoT] [gsm8k.py:47] Processing dataset\n",
      "[INFO] [2023-01-17 09:57:46,487] [CoT] [gsm8k.py:79] DataLoader is ready\n",
      "[INFO] [2023-01-17 09:57:46,488] [CoT] [gsm8k.py:89] Loading model google/flan-t5-xxl\n"
     ]
    },
    {
     "data": {
      "application/vnd.jupyter.widget-view+json": {
       "model_id": "0cca73ae8584457ca745b4cbc589bf9a",
       "version_major": 2,
       "version_minor": 0
      },
      "text/plain": [
       "  0%|          | 0/83 [00:00<?, ?it/s]"
      ]
     },
     "metadata": {},
     "output_type": "display_data"
    },
    {
     "name": "stderr",
     "output_type": "stream",
     "text": [
      "[INFO] [2023-01-17 09:58:07,065] [CoT] [gsm8k.py:99] Evaluating model google/flan-t5-xxl, num_batches=83, self.batch_size=16\n",
      "[INFO] [2023-01-17 10:13:35,875] [CoT] [gsm8k.py:128] Release model and cuda cache\n",
      "[INFO] [2023-01-17 10:13:35,879] [CoT] [gsm8k.py:136] Failed index cached at self.failed_index\n",
      "[INFO] [2023-01-17 10:13:35,888] [CoT] [gsm8k.py:143] otuput_text and prediction cached at self.dataset\n",
      "[INFO] [2023-01-17 10:13:35,888] [CoT] [gsm8k.py:152] {'checkpoint': 'google/flan-t5-xxl', 'accuracy': 0.16224412433661864, 'total': 1319, 'failure': 1105, 'regex_parsing_failure': 22}\n",
      "[INFO] [2023-01-17 10:13:36,909] [CoT] [gsm8k.py:175] Result and failed cases saved at ./output/20230117/gsm8k/flan-t5-xxl\n"
     ]
    }
   ],
   "source": [
    "# checkpoints = [\"google/flan-t5-xxl\", \"google/ul2\", \"bigscience/T0pp\"]\n",
    "checkpoint = 'google/flan-t5-xxl'\n",
    "\n",
    "gsm = GSM8K(checkpoint, dataset_cutoff=None)\n",
    "gsm.eval()\n",
    "gsm.generate_report()\n",
    "    \n",
    "del gsm"
   ]
  },
  {
   "cell_type": "code",
   "execution_count": null,
   "metadata": {},
   "outputs": [],
   "source": []
  }
 ],
 "metadata": {
  "kernelspec": {
   "display_name": "Python 3",
   "language": "python",
   "name": "python3"
  },
  "language_info": {
   "codemirror_mode": {
    "name": "ipython",
    "version": 3
   },
   "file_extension": ".py",
   "mimetype": "text/x-python",
   "name": "python",
   "nbconvert_exporter": "python",
   "pygments_lexer": "ipython3",
   "version": "3.8.10"
  },
  "orig_nbformat": 4,
  "vscode": {
   "interpreter": {
    "hash": "e7370f93d1d0cde622a1f8e1c04877d8463912d04d973331ad4851f04de6915a"
   }
  }
 },
 "nbformat": 4,
 "nbformat_minor": 2
}
