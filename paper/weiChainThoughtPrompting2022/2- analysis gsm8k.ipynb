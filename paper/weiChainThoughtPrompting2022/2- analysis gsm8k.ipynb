{
 "cells": [
  {
   "cell_type": "code",
   "execution_count": 20,
   "metadata": {},
   "outputs": [],
   "source": [
    "import pandas as pd\n",
    "import json\n",
    "import textwrap"
   ]
  },
  {
   "cell_type": "code",
   "execution_count": 9,
   "metadata": {},
   "outputs": [
    {
     "data": {
      "text/plain": [
       "{'checkpoint': 'google/flan-t5-xxl',\n",
       " 'accuracy': 0.16224412433661864,\n",
       " 'total': 1319,\n",
       " 'failure': 1105,\n",
       " 'regex_parsing_failure': 22}"
      ]
     },
     "execution_count": 9,
     "metadata": {},
     "output_type": "execute_result"
    }
   ],
   "source": [
    "result_path = '/workspaces/seed/paper/weiChainThoughtPrompting2022/output/20230117/gsm8k/flan-t5-xxl/result.json'\n",
    "failed_path = '/workspaces/seed/paper/weiChainThoughtPrompting2022/output/20230117/gsm8k/flan-t5-xxl/failed.json'\n",
    "\n",
    "result = json.load(open(result_path))\n",
    "result"
   ]
  },
  {
   "cell_type": "code",
   "execution_count": 11,
   "metadata": {},
   "outputs": [
    {
     "data": {
      "text/html": [
       "<div>\n",
       "<style scoped>\n",
       "    .dataframe tbody tr th:only-of-type {\n",
       "        vertical-align: middle;\n",
       "    }\n",
       "\n",
       "    .dataframe tbody tr th {\n",
       "        vertical-align: top;\n",
       "    }\n",
       "\n",
       "    .dataframe thead th {\n",
       "        text-align: right;\n",
       "    }\n",
       "</style>\n",
       "<table border=\"1\" class=\"dataframe\">\n",
       "  <thead>\n",
       "    <tr style=\"text-align: right;\">\n",
       "      <th></th>\n",
       "      <th>question</th>\n",
       "      <th>answer</th>\n",
       "      <th>label</th>\n",
       "      <th>output_text</th>\n",
       "      <th>prediction</th>\n",
       "    </tr>\n",
       "  </thead>\n",
       "  <tbody>\n",
       "    <tr>\n",
       "      <th>0</th>\n",
       "      <td>Janet’s ducks lay 16 eggs per day. She eats th...</td>\n",
       "      <td>Janet sells 16 - 3 - 4 = &lt;&lt;16-3-4=9&gt;&gt;9 duck eg...</td>\n",
       "      <td>18</td>\n",
       "      <td>Janet eats 3 eggs for breakfast and 4 for muff...</td>\n",
       "      <td>24</td>\n",
       "    </tr>\n",
       "    <tr>\n",
       "      <th>1</th>\n",
       "      <td>Josh decides to try flipping a house.  He buys...</td>\n",
       "      <td>The cost of the house and repairs came out to ...</td>\n",
       "      <td>70000</td>\n",
       "      <td>The house was worth 80,000 * 150% = 140,000 af...</td>\n",
       "      <td>8</td>\n",
       "    </tr>\n",
       "    <tr>\n",
       "      <th>2</th>\n",
       "      <td>Every day, Wendi feeds each of her chickens th...</td>\n",
       "      <td>If each chicken eats 3 cups of feed per day, t...</td>\n",
       "      <td>20</td>\n",
       "      <td>Wendi feeds her flock of chickens 3 x 20 = 60 ...</td>\n",
       "      <td>40</td>\n",
       "    </tr>\n",
       "    <tr>\n",
       "      <th>3</th>\n",
       "      <td>Kylar went to the store to buy glasses for his...</td>\n",
       "      <td>The discount price of one glass is 60/100 * 5 ...</td>\n",
       "      <td>64</td>\n",
       "      <td>Every second glass costs $5 x 60 / 100 = $3. S...</td>\n",
       "      <td>40</td>\n",
       "    </tr>\n",
       "    <tr>\n",
       "      <th>4</th>\n",
       "      <td>Toulouse has twice as many sheep as Charleston...</td>\n",
       "      <td>If Seattle has 20 sheep, Charleston has 4 * 20...</td>\n",
       "      <td>260</td>\n",
       "      <td>Toulouse has twice as many sheep as Charleston...</td>\n",
       "      <td>100</td>\n",
       "    </tr>\n",
       "  </tbody>\n",
       "</table>\n",
       "</div>"
      ],
      "text/plain": [
       "                                            question  \\\n",
       "0  Janet’s ducks lay 16 eggs per day. She eats th...   \n",
       "1  Josh decides to try flipping a house.  He buys...   \n",
       "2  Every day, Wendi feeds each of her chickens th...   \n",
       "3  Kylar went to the store to buy glasses for his...   \n",
       "4  Toulouse has twice as many sheep as Charleston...   \n",
       "\n",
       "                                              answer  label  \\\n",
       "0  Janet sells 16 - 3 - 4 = <<16-3-4=9>>9 duck eg...     18   \n",
       "1  The cost of the house and repairs came out to ...  70000   \n",
       "2  If each chicken eats 3 cups of feed per day, t...     20   \n",
       "3  The discount price of one glass is 60/100 * 5 ...     64   \n",
       "4  If Seattle has 20 sheep, Charleston has 4 * 20...    260   \n",
       "\n",
       "                                         output_text  prediction  \n",
       "0  Janet eats 3 eggs for breakfast and 4 for muff...          24  \n",
       "1  The house was worth 80,000 * 150% = 140,000 af...           8  \n",
       "2  Wendi feeds her flock of chickens 3 x 20 = 60 ...          40  \n",
       "3  Every second glass costs $5 x 60 / 100 = $3. S...          40  \n",
       "4  Toulouse has twice as many sheep as Charleston...         100  "
      ]
     },
     "execution_count": 11,
     "metadata": {},
     "output_type": "execute_result"
    }
   ],
   "source": [
    "df = pd.read_json(failed_path)\n",
    "df.head()"
   ]
  },
  {
   "cell_type": "code",
   "execution_count": 35,
   "metadata": {},
   "outputs": [],
   "source": [
    "def parsing(instance):\n",
    "    \"\"\"\n",
    "    instance: {'question', 'answer', 'label', 'output_text', 'prediction'}\n",
    "    \"\"\"\n",
    "    template = f\"\"\"\\\n",
    "    Q: {instance['question']}\n",
    "    A: {instance['answer']}\n",
    "    L: {instance['label']}\n",
    "    --------------------\n",
    "    CoT: {instance['output_text']}\n",
    "    pred: {instance['prediction']}\n",
    "    \"\"\"\n",
    "    return template\n"
   ]
  },
  {
   "cell_type": "code",
   "execution_count": 39,
   "metadata": {},
   "outputs": [
    {
     "name": "stdout",
     "output_type": "stream",
     "text": [
      "    Q: Janet’s ducks lay 16 eggs per day. She eats three for breakfast every morning and bakes muffins for her friends every day with four. She sells the remainder at the farmers' market daily for $2 per fresh duck egg. How much in dollars does she make every day at the farmers' market?\n",
      "    A: Janet sells 16 - 3 - 4 = <<16-3-4=9>>9 duck eggs a day.\n",
      "She makes 9 * 2 = $<<9*2=18>>18 every day at the farmer’s market.\n",
      "#### 18\n",
      "    L: 18\n",
      "    --------------------\n",
      "    CoT: Janet eats 3 eggs for breakfast and 4 for muffins so she has 16 - 3 - 4 = 12 eggs left. She sells them for $2 each so she makes 12 * 2 = $24. The answer is 24.\n",
      "    pred: 24\n",
      "    \n",
      "    Q: Josh decides to try flipping a house.  He buys a house for $80,000 and then puts in $50,000 in repairs.  This increased the value of the house by 150%.  How much profit did he make?\n",
      "    A: The cost of the house and repairs came out to 80,000+50,000=$<<80000+50000=130000>>130,000\n",
      "He increased the value of the house by 80,000*1.5=<<80000*1.5=120000>>120,000\n",
      "So the new value of the house is 120,000+80,000=$<<120000+80000=200000>>200,000\n",
      "So he made a profit of 200,000-130,000=$<<200000-130000=70000>>70,000\n",
      "#### 70000\n",
      "    L: 70000\n",
      "    --------------------\n",
      "    CoT: The house was worth 80,000 * 150% = 140,000 after the repairs. So he sold it for 140,000 - 80,000 = 40,000. So he made 40,000 - 40,000 = 8,000. The answer is 8,000.\n",
      "    pred: 8\n",
      "    \n",
      "    Q: Every day, Wendi feeds each of her chickens three cups of mixed chicken feed, containing seeds, mealworms and vegetables to help keep them healthy.  She gives the chickens their feed in three separate meals. In the morning, she gives her flock of chickens 15 cups of feed.  In the afternoon, she gives her chickens another 25 cups of feed.  How many cups of feed does she need to give her chickens in the final meal of the day if the size of Wendi's flock is 20 chickens?\n",
      "    A: If each chicken eats 3 cups of feed per day, then for 20 chickens they would need 3*20=<<3*20=60>>60 cups of feed per day.\n",
      "If she feeds the flock 15 cups of feed in the morning, and 25 cups in the afternoon, then the final meal would require 60-15-25=<<60-15-25=20>>20 cups of chicken feed.\n",
      "#### 20\n",
      "    L: 20\n",
      "    --------------------\n",
      "    CoT: Wendi feeds her flock of chickens 3 x 20 = 60 cups of feed every day. In the morning, she feeds her chickens 15 / 3 = 5 chickens. In the afternoon, she feeds her chickens 25 / 3 = 10 chickens. In the final meal of the day, she feeds her chickens 60 - 10 = 40 chickens. The answer is 40.\n",
      "    pred: 40\n",
      "    \n"
     ]
    }
   ],
   "source": [
    "# apply parsing function to each row\n",
    "df['parsing'] = df.apply(parsing, axis=1)\n",
    "for inst in df.parsing[:3]:\n",
    "    print(inst)"
   ]
  },
  {
   "attachments": {},
   "cell_type": "markdown",
   "metadata": {},
   "source": [
    "Semantic errors dominated. Small mistakes here and there.  \n",
    "\n",
    "This is `davinci` in zero-shot:\n",
    "> Q: Every day, Wendi feeds each of her chickens three cups of mixed chicken feed, containing seeds, mealworms and vegetables to help keep them healthy.  She gives the chickens their feed in three separate meals. In the morning, she gives her flock of chickens 15 cups of feed.  In the afternoon, she gives her chickens another 25 cups of feed.  How many cups of feed does she need to give her chickens in the final meal of the day if the size of Wendi's flock is 20 chickens? \n",
    "> \n",
    "> Wendi needs to give her chickens 20 cups of feed in the final meal of the day.\n",
    "\n",
    "This is `davinci` CoT in zero-shot:\n",
    "> Every day, Wendi feeds each of her chickens three cups of mixed chicken feed, containing seeds, mealworms and vegetables to help keep them healthy.  She gives the chickens their feed in three separate meals. In the morning, she gives her flock of chickens 15 cups of feed.  In the afternoon, she gives her chickens another 25 cups of feed.  How many cups of feed does she need to give her chickens in the final meal of the day if the size of Wendi's flock is 20 chickens? Let's think step by step.\n",
    ">\n",
    "> First, we need to figure out how much Wendi is giving her chickens in total each day. She gives 15 cups in the morning and 25 cups in the afternoon, so she is giving a total of 40 cups of feed each day.\n",
    ">\n",
    "> Next, we need to figure out how many cups of feed each chicken needs each day. Wendi gives each of her chickens three cups of feed per day, so she needs to give a total of 60 cups of feed for all of her chickens.\n",
    ">\n",
    "> Finally, we need to figure out how many cups of feed Wendi needs to give her chickens in the final meal of the day. Since Wendi has already given 40 cups of feed to her chickens, she needs to give an additional 20 cups of feed in the final meal of the day. Thus, Wendi needs to give her chickens 20 cups of feed in the final meal of the day.\n",
    "\n",
    "This is `davinci` CoT in few-shot:\n",
    ">Q: There are 15 trees in the grove. Grove workers will plant trees in the grove today. After they are done, there will be 21 trees. How many trees did the grove workers plant today? \n",
    ">A: There are 15 trees originally. Then there were 21 trees after some more were planted. So there must have been 21 - 15 = 6. The answer is 6. \n",
    ">\n",
    ">Q: If there are 3 cars in the parking lot and 2 more cars arrive, how many cars are in the parking lot? \n",
    ">A: There are originally 3 cars. 2 more cars arrive. 3 + 2 = 5. The answer is 5. \n",
    ">\n",
    ">Q: Leah had 32 chocolates and her sister had 42. If they ate 35, how many pieces do they have left in total? \n",
    ">A: Originally, Leah had 32 chocolates. Her sister had 42. So in total they had 32 + 42 = 74. After eating 35, they had 74 - 35 = 39. The answer is 39. \n",
    ">\n",
    ">Q: Jason had 20 lollipops. He gave Denny some lollipops. Now Jason has 12 lollipops. How many lollipops did Jason give to Denny? \n",
    ">A: Jason started with 20 lollipops. Then he had 12 after giving some to Denny. So he gave Denny 20 - 12 = 8. The answer is 8. \n",
    ">\n",
    ">Q: Shawn has five toys. For Christmas, he got two toys each from his mom and dad. How many toys does he have now? \n",
    ">A: Shawn started with 5 toys. If he got 2 toys each from his mom and dad, then that is 4 more toys. 5 + 4 = 9. The answer is 9. \n",
    ">\n",
    ">Q: There were nine computers in the server room. Five more computers were installed each day, from monday to thursday. How many computers are now in the server room? \n",
    ">A: There were originally 9 computers. For each of 4 days, 5 more computers were added. So 5 * 4 = 20 computers were added. 9 + 20 is 29. The answer is 29. \n",
    ">\n",
    ">Q: Michael had 58 golf balls. On tuesday, he lost 23 golf balls. On wednesday, he lost 2 more. How many golf balls did he have at the end of wednesday? \n",
    ">A: Michael started with 58 golf balls. After losing 23 on tuesday, he had 58 - 23 = 35. After losing 2 more, he had 35 - 2 = 33 golf balls. The answer is 33. \n",
    ">\n",
    ">Q: Olivia has $23. She bought five bagels for $3 each. How much money does she have left? \n",
    ">A: Olivia had 23 dollars. 5 bagels for 3 dollars each will be 5 x 3 = 15 dollars. So she has 23 - 15 dollars left. 23 - 15 is 8. The answer is 8.\n",
    ">\n",
    ">Q: Every day, Wendi feeds each of her chickens three cups of mixed chicken feed, containing seeds, mealworms and vegetables to help keep them healthy.  She gives the chickens their feed in three separate meals. In the morning, she gives her flock of chickens 15 cups of feed.  In the afternoon, she gives her chickens another 25 cups of feed.  How many cups of feed does she need to give her chickens in the final meal of the day if the size of Wendi's flock is 20 chickens?\n",
    ">A: In the morning, Wendi gave the chickens 15 cups of feed. In the afternoon, she gave them 25 cups of feed. So she has already given the chickens 40 cups of feed in total. She needs to give them 20 x 3 = 60 cups of feed in total. So she needs to give them 60 - 40 = 20 cups of feed in the last meal of the day. The answer is 20 cups of feed."
   ]
  },
  {
   "cell_type": "markdown",
   "metadata": {},
   "source": []
  }
 ],
 "metadata": {
  "kernelspec": {
   "display_name": "Python 3",
   "language": "python",
   "name": "python3"
  },
  "language_info": {
   "codemirror_mode": {
    "name": "ipython",
    "version": 3
   },
   "file_extension": ".py",
   "mimetype": "text/x-python",
   "name": "python",
   "nbconvert_exporter": "python",
   "pygments_lexer": "ipython3",
   "version": "3.8.10"
  },
  "orig_nbformat": 4,
  "vscode": {
   "interpreter": {
    "hash": "e7370f93d1d0cde622a1f8e1c04877d8463912d04d973331ad4851f04de6915a"
   }
  }
 },
 "nbformat": 4,
 "nbformat_minor": 2
}
