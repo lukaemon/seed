{
 "cells": [
  {
   "cell_type": "code",
   "execution_count": 1,
   "metadata": {},
   "outputs": [
    {
     "name": "stderr",
     "output_type": "stream",
     "text": [
      "2023-02-01 14:15:08.588406: I tensorflow/core/platform/cpu_feature_guard.cc:193] This TensorFlow binary is optimized with oneAPI Deep Neural Network Library (oneDNN) to use the following CPU instructions in performance-critical operations:  AVX2 FMA\n",
      "To enable them in other operations, rebuild TensorFlow with the appropriate compiler flags.\n",
      "2023-02-01 14:15:09.112315: W tensorflow/compiler/xla/stream_executor/platform/default/dso_loader.cc:64] Could not load dynamic library 'libnvinfer.so.7'; dlerror: libnvinfer.so.7: cannot open shared object file: No such file or directory; LD_LIBRARY_PATH: /usr/local/lib/python3.8/dist-packages/torch/lib:/usr/local/lib/python3.8/dist-packages/torch_tensorrt/lib:/usr/local/cuda/compat/lib:/usr/local/nvidia/lib:/usr/local/nvidia/lib64\n",
      "2023-02-01 14:15:09.112357: W tensorflow/compiler/xla/stream_executor/platform/default/dso_loader.cc:64] Could not load dynamic library 'libnvinfer_plugin.so.7'; dlerror: libnvinfer_plugin.so.7: cannot open shared object file: No such file or directory; LD_LIBRARY_PATH: /usr/local/lib/python3.8/dist-packages/torch/lib:/usr/local/lib/python3.8/dist-packages/torch_tensorrt/lib:/usr/local/cuda/compat/lib:/usr/local/nvidia/lib:/usr/local/nvidia/lib64\n",
      "2023-02-01 14:15:09.112361: W tensorflow/compiler/tf2tensorrt/utils/py_utils.cc:38] TF-TRT Warning: Cannot dlopen some TensorRT libraries. If you would like to use Nvidia GPU with TensorRT, please make sure the missing libraries mentioned above are installed properly.\n"
     ]
    }
   ],
   "source": [
    "%reload_ext autoreload\n",
    "%autoreload 2\n",
    "\n",
    "\n",
    "import eval\n",
    "from utils import logger"
   ]
  },
  {
   "cell_type": "code",
   "execution_count": 2,
   "metadata": {},
   "outputs": [],
   "source": [
    "checkpoints = [\"google/flan-t5-small\", \"google/flan-t5-base\", \"google/flan-t5-large\", \"google/flan-t5-xl\", \"google/flan-t5-xxl\"]"
   ]
  },
  {
   "cell_type": "code",
   "execution_count": 3,
   "metadata": {},
   "outputs": [
    {
     "name": "stderr",
     "output_type": "stream",
     "text": [
      "[INFO] [2023-02-01 14:15:10,163] [flan-t5] [eval.py:53] Loading model from google/flan-t5-small...\n"
     ]
    },
    {
     "data": {
      "application/vnd.jupyter.widget-view+json": {
       "model_id": "1b591ae8b5e448f0a8fcadcb3f7005d3",
       "version_major": 2,
       "version_minor": 0
      },
      "text/plain": [
       "  0%|          | 0/1 [00:00<?, ?it/s]"
      ]
     },
     "metadata": {},
     "output_type": "display_data"
    },
    {
     "name": "stderr",
     "output_type": "stream",
     "text": [
      "[INFO] [2023-02-01 14:15:17,308] [flan-t5] [eval.py:76] Done. Release cuda memory.\n",
      "[INFO] [2023-02-01 14:15:17,318] [flan-t5] [eval.py:101] Saving accuracy result to output/bbh/accuracy/bbh_flan-t5-small_cot_False_k_1.csv.\n",
      "[INFO] [2023-02-01 14:15:17,320] [flan-t5] [eval.py:111] Saving failed output to output/bbh/failed/flan-t5-small.\n",
      "[INFO] [2023-02-01 14:15:17,321] [flan-t5] [eval.py:53] Loading model from google/flan-t5-small...\n"
     ]
    },
    {
     "data": {
      "application/vnd.jupyter.widget-view+json": {
       "model_id": "917b9d5338cd451881f2e9941c497af8",
       "version_major": 2,
       "version_minor": 0
      },
      "text/plain": [
       "  0%|          | 0/1 [00:00<?, ?it/s]"
      ]
     },
     "metadata": {},
     "output_type": "display_data"
    },
    {
     "name": "stderr",
     "output_type": "stream",
     "text": [
      "[INFO] [2023-02-01 14:15:24,250] [flan-t5] [eval.py:76] Done. Release cuda memory.\n",
      "[INFO] [2023-02-01 14:15:24,266] [flan-t5] [eval.py:101] Saving accuracy result to output/bbh/accuracy/bbh_flan-t5-small_cot_True_k_1.csv.\n",
      "[INFO] [2023-02-01 14:15:24,268] [flan-t5] [eval.py:111] Saving failed output to output/bbh/failed/flan-t5-small.\n",
      "[INFO] [2023-02-01 14:15:24,269] [flan-t5] [eval.py:53] Loading model from google/flan-t5-base...\n"
     ]
    },
    {
     "data": {
      "application/vnd.jupyter.widget-view+json": {
       "model_id": "b62c492026e142df9af58188d4372cd6",
       "version_major": 2,
       "version_minor": 0
      },
      "text/plain": [
       "  0%|          | 0/1 [00:00<?, ?it/s]"
      ]
     },
     "metadata": {},
     "output_type": "display_data"
    },
    {
     "data": {
      "application/vnd.jupyter.widget-view+json": {
       "model_id": "6fb8164ea272410aa97954215d5639e6",
       "version_major": 2,
       "version_minor": 0
      },
      "text/plain": [
       "  0%|          | 0/8 [00:00<?, ?ex/s]"
      ]
     },
     "metadata": {},
     "output_type": "display_data"
    },
    {
     "data": {
      "application/vnd.jupyter.widget-view+json": {
       "model_id": "4b12c2e128e2457f88d0548f26d1ce9e",
       "version_major": 2,
       "version_minor": 0
      },
      "text/plain": [
       "  0%|          | 0/1 [00:00<?, ?ba/s]"
      ]
     },
     "metadata": {},
     "output_type": "display_data"
    },
    {
     "name": "stderr",
     "output_type": "stream",
     "text": [
      "[INFO] [2023-02-01 14:15:31,509] [flan-t5] [eval.py:76] Done. Release cuda memory.\n",
      "[INFO] [2023-02-01 14:15:31,531] [flan-t5] [eval.py:101] Saving accuracy result to output/bbh/accuracy/bbh_flan-t5-base_cot_False_k_1.csv.\n",
      "[INFO] [2023-02-01 14:15:31,533] [flan-t5] [eval.py:111] Saving failed output to output/bbh/failed/flan-t5-base.\n",
      "[INFO] [2023-02-01 14:15:31,533] [flan-t5] [eval.py:53] Loading model from google/flan-t5-base...\n"
     ]
    },
    {
     "data": {
      "application/vnd.jupyter.widget-view+json": {
       "model_id": "ab9eab70f21046178cb8f465e55ed3f1",
       "version_major": 2,
       "version_minor": 0
      },
      "text/plain": [
       "  0%|          | 0/1 [00:00<?, ?it/s]"
      ]
     },
     "metadata": {},
     "output_type": "display_data"
    },
    {
     "name": "stderr",
     "output_type": "stream",
     "text": [
      "[INFO] [2023-02-01 14:15:43,647] [flan-t5] [eval.py:76] Done. Release cuda memory.\n",
      "[INFO] [2023-02-01 14:15:43,666] [flan-t5] [eval.py:101] Saving accuracy result to output/bbh/accuracy/bbh_flan-t5-base_cot_True_k_1.csv.\n",
      "[INFO] [2023-02-01 14:15:43,668] [flan-t5] [eval.py:111] Saving failed output to output/bbh/failed/flan-t5-base.\n",
      "[INFO] [2023-02-01 14:15:43,669] [flan-t5] [eval.py:53] Loading model from google/flan-t5-large...\n"
     ]
    },
    {
     "data": {
      "application/vnd.jupyter.widget-view+json": {
       "model_id": "6ba5be44ea844765a54e409169cfca17",
       "version_major": 2,
       "version_minor": 0
      },
      "text/plain": [
       "  0%|          | 0/1 [00:00<?, ?it/s]"
      ]
     },
     "metadata": {},
     "output_type": "display_data"
    },
    {
     "data": {
      "application/vnd.jupyter.widget-view+json": {
       "model_id": "66f0b3c1f8264ab5bc9fe93aaae23c04",
       "version_major": 2,
       "version_minor": 0
      },
      "text/plain": [
       "  0%|          | 0/8 [00:00<?, ?ex/s]"
      ]
     },
     "metadata": {},
     "output_type": "display_data"
    },
    {
     "data": {
      "application/vnd.jupyter.widget-view+json": {
       "model_id": "7a4f243491954f5e9c2b1ed763083b79",
       "version_major": 2,
       "version_minor": 0
      },
      "text/plain": [
       "  0%|          | 0/1 [00:00<?, ?ba/s]"
      ]
     },
     "metadata": {},
     "output_type": "display_data"
    },
    {
     "name": "stderr",
     "output_type": "stream",
     "text": [
      "[INFO] [2023-02-01 14:15:52,001] [flan-t5] [eval.py:76] Done. Release cuda memory.\n",
      "[INFO] [2023-02-01 14:15:52,116] [flan-t5] [eval.py:101] Saving accuracy result to output/bbh/accuracy/bbh_flan-t5-large_cot_False_k_1.csv.\n",
      "[INFO] [2023-02-01 14:15:52,118] [flan-t5] [eval.py:111] Saving failed output to output/bbh/failed/flan-t5-large.\n",
      "[INFO] [2023-02-01 14:15:52,118] [flan-t5] [eval.py:53] Loading model from google/flan-t5-large...\n"
     ]
    },
    {
     "data": {
      "application/vnd.jupyter.widget-view+json": {
       "model_id": "f749feb14514475abaedbd200a192b8c",
       "version_major": 2,
       "version_minor": 0
      },
      "text/plain": [
       "  0%|          | 0/1 [00:00<?, ?it/s]"
      ]
     },
     "metadata": {},
     "output_type": "display_data"
    },
    {
     "data": {
      "application/vnd.jupyter.widget-view+json": {
       "model_id": "edb16333201c4b499360a6f0d848c74b",
       "version_major": 2,
       "version_minor": 0
      },
      "text/plain": [
       "  0%|          | 0/1 [00:00<?, ?ba/s]"
      ]
     },
     "metadata": {},
     "output_type": "display_data"
    },
    {
     "name": "stderr",
     "output_type": "stream",
     "text": [
      "[INFO] [2023-02-01 14:16:03,466] [flan-t5] [eval.py:76] Done. Release cuda memory.\n",
      "[INFO] [2023-02-01 14:16:03,510] [flan-t5] [eval.py:101] Saving accuracy result to output/bbh/accuracy/bbh_flan-t5-large_cot_True_k_1.csv.\n",
      "[INFO] [2023-02-01 14:16:03,512] [flan-t5] [eval.py:111] Saving failed output to output/bbh/failed/flan-t5-large.\n",
      "[INFO] [2023-02-01 14:16:03,512] [flan-t5] [eval.py:53] Loading model from google/flan-t5-xl...\n"
     ]
    },
    {
     "data": {
      "application/vnd.jupyter.widget-view+json": {
       "model_id": "66d8341179234c819507f2815fd28d86",
       "version_major": 2,
       "version_minor": 0
      },
      "text/plain": [
       "Loading checkpoint shards:   0%|          | 0/2 [00:00<?, ?it/s]"
      ]
     },
     "metadata": {},
     "output_type": "display_data"
    },
    {
     "data": {
      "application/vnd.jupyter.widget-view+json": {
       "model_id": "8cfdba88665f476ea90c8e28c8d9b02c",
       "version_major": 2,
       "version_minor": 0
      },
      "text/plain": [
       "  0%|          | 0/1 [00:00<?, ?it/s]"
      ]
     },
     "metadata": {},
     "output_type": "display_data"
    },
    {
     "data": {
      "application/vnd.jupyter.widget-view+json": {
       "model_id": "57a1629b76c246f4bcc2b225612284e0",
       "version_major": 2,
       "version_minor": 0
      },
      "text/plain": [
       "  0%|          | 0/8 [00:00<?, ?ex/s]"
      ]
     },
     "metadata": {},
     "output_type": "display_data"
    },
    {
     "data": {
      "application/vnd.jupyter.widget-view+json": {
       "model_id": "9d1167041157429ebfbbcc0d7afbda55",
       "version_major": 2,
       "version_minor": 0
      },
      "text/plain": [
       "  0%|          | 0/1 [00:00<?, ?ba/s]"
      ]
     },
     "metadata": {},
     "output_type": "display_data"
    },
    {
     "name": "stderr",
     "output_type": "stream",
     "text": [
      "[INFO] [2023-02-01 14:16:13,831] [flan-t5] [eval.py:76] Done. Release cuda memory.\n",
      "[INFO] [2023-02-01 14:16:13,844] [flan-t5] [eval.py:101] Saving accuracy result to output/bbh/accuracy/bbh_flan-t5-xl_cot_False_k_1.csv.\n",
      "[INFO] [2023-02-01 14:16:13,845] [flan-t5] [eval.py:111] Saving failed output to output/bbh/failed/flan-t5-xl.\n",
      "[INFO] [2023-02-01 14:16:13,846] [flan-t5] [eval.py:53] Loading model from google/flan-t5-xl...\n"
     ]
    },
    {
     "data": {
      "application/vnd.jupyter.widget-view+json": {
       "model_id": "fc085c5629a24cb69dfdc3174481a0ea",
       "version_major": 2,
       "version_minor": 0
      },
      "text/plain": [
       "Loading checkpoint shards:   0%|          | 0/2 [00:00<?, ?it/s]"
      ]
     },
     "metadata": {},
     "output_type": "display_data"
    },
    {
     "data": {
      "application/vnd.jupyter.widget-view+json": {
       "model_id": "eb55705f94ab47519e8adf1b024ca6cc",
       "version_major": 2,
       "version_minor": 0
      },
      "text/plain": [
       "  0%|          | 0/1 [00:00<?, ?it/s]"
      ]
     },
     "metadata": {},
     "output_type": "display_data"
    }
   ],
   "source": [
    "for checkpoint in checkpoints:\n",
    "    for cot in [False, True]:    \n",
    "        config = eval.BBHEvalConfig(checkpoint, cutoff=None, batch_size=8, cot=cot, temp=0, k=1)\n",
    "\n",
    "        eval_results = eval.bbh_eval_loop(config)\n",
    "        eval.bbh_save_result(eval_results, config)"
   ]
  },
  {
   "cell_type": "code",
   "execution_count": null,
   "metadata": {},
   "outputs": [],
   "source": []
  }
 ],
 "metadata": {
  "kernelspec": {
   "display_name": "Python 3",
   "language": "python",
   "name": "python3"
  },
  "language_info": {
   "codemirror_mode": {
    "name": "ipython",
    "version": 3
   },
   "file_extension": ".py",
   "mimetype": "text/x-python",
   "name": "python",
   "nbconvert_exporter": "python",
   "pygments_lexer": "ipython3",
   "version": "3.8.10"
  },
  "orig_nbformat": 4,
  "vscode": {
   "interpreter": {
    "hash": "e7370f93d1d0cde622a1f8e1c04877d8463912d04d973331ad4851f04de6915a"
   }
  }
 },
 "nbformat": 4,
 "nbformat_minor": 2
}
