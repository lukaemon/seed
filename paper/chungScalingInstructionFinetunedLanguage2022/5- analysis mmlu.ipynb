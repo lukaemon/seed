{
 "cells": [
  {
   "cell_type": "code",
   "execution_count": 49,
   "metadata": {},
   "outputs": [],
   "source": [
    "%reload_ext autoreload\n",
    "%autoreload 2\n",
    "\n",
    "from pathlib import Path\n",
    "import pandas as pd\n",
    "\n",
    "import utils\n",
    "\n",
    "fp = Path('output/mmlu/failed/flan-t5-large/high_school_european_history_cot_True_k_1.csv')\n",
    "df = pd.read_csv(fp)\n",
    "samples = df.to_dict(\"records\")"
   ]
  },
  {
   "cell_type": "code",
   "execution_count": 56,
   "metadata": {},
   "outputs": [],
   "source": [
    "def format_sample(sample):\n",
    "    q = sample[\"input\"]\n",
    "    text = sample[\"generated_text\"]\n",
    "    regex = sample[\"regexed_pred\"]\n",
    "    a = sample[\"A\"]\n",
    "    b = sample[\"B\"]\n",
    "    c = sample[\"C\"]\n",
    "    d = sample[\"D\"]\n",
    "    target = sample[\"target\"]\n",
    "\n",
    "    print(f\"Question:\\n{q}\\n\\n A: {a}\\n\\n B: {b}\\n\\n C: {c}\\n\\n D: {d}\\n\")\n",
    "    print('-' * 60)\n",
    "    print(f\"{text}\\n\\nAnswer: {regex} || Target: {target}\")"
   ]
  },
  {
   "cell_type": "code",
   "execution_count": 58,
   "metadata": {},
   "outputs": [
    {
     "name": "stdout",
     "output_type": "stream",
     "text": [
      "Question:\n",
      "This question refers to the following information.\n",
      "Read the following memoir.\n",
      "Not only did he expect all persons of distinction to be in continual attendance at Court, but he was quick to notice the absence of those of inferior degree; at his lever, his couches, his meals, in the gardens of Versailles (the only place where the courtiers in general were allowed to follow him), he used to cast his eyes to right and left; nothing escaped him[;] he saw everybody. If anyone habitually living at Court absented himself he insisted on knowing the reason; those who came there only for flying visits had also to give a satisfactory explanation; anyone who seldom or never appeared there was certain to incur his displeasure. If asked to bestow a favor on such persons he would reply haughtily: \"I do not know him\"; of such as rarely presented themselves he would say, \"He is a man I never see\"; and from these judgments there was no appeal.\n",
      "No one understood better than Louis XIV the art of enhancing the value of a favor by his manner of bestowing it; he knew how to make the most of a word, a smile, even of a glance.\n",
      "He loved splendor, magnificence, and profusion in all things, and encouraged similar tastes in his Court; to spend money freely on equipages and buildings, on feasting and at cards, was a sure way to gain his favor, perhaps to obtain the honor of a word from him. Motives of policy had something to do with this; by making expensive habits the fashion, and, for people in a certain position, a necessity, he compelled his courtiers to live beyond their income, and gradually reduced them to depend on his bounty for the means of subsistence.\n",
      "—Duke Saint-Simon, Memoirs of Louis XIV and His Court and His Regency, c. 1750\n",
      "Which of the following is the best explanation of the bias found in the document above?\n",
      "\n",
      " A: The duke, as a member of the French nobility, is sympathetic to King Louis.\n",
      "\n",
      " B: The duke, as a member of the French nobility, is biased against the king because of his suppression of the nobility.\n",
      "\n",
      " C: The duke, as a member of the French nobility, supported the extension of the administrative, financial, military, and religious control of the central state over the French population.\n",
      "\n",
      " D: The duke, as a member of the French nobility, supported King Louis's preservation of the aristocracy's social position and legal privileges, while he removed their power.\n",
      "\n",
      "------------------------------------------------------------\n",
      "We refer to the passage for help. Motives of policy had something to do with this; by making expensive habits the fashion, and, for people in a certain position, a necessity, he compelled his courtiers to live beyond their income, and gradually reduced them to depend on his bounty for the means of subsistence. The answer is (C).\n",
      "\n",
      "Answer: C || Target: B\n"
     ]
    }
   ],
   "source": [
    "format_sample(samples[1])"
   ]
  },
  {
   "cell_type": "code",
   "execution_count": null,
   "metadata": {},
   "outputs": [],
   "source": []
  }
 ],
 "metadata": {
  "kernelspec": {
   "display_name": "Python 3",
   "language": "python",
   "name": "python3"
  },
  "language_info": {
   "codemirror_mode": {
    "name": "ipython",
    "version": 3
   },
   "file_extension": ".py",
   "mimetype": "text/x-python",
   "name": "python",
   "nbconvert_exporter": "python",
   "pygments_lexer": "ipython3",
   "version": "3.8.10"
  },
  "orig_nbformat": 4,
  "vscode": {
   "interpreter": {
    "hash": "e7370f93d1d0cde622a1f8e1c04877d8463912d04d973331ad4851f04de6915a"
   }
  }
 },
 "nbformat": 4,
 "nbformat_minor": 2
}
