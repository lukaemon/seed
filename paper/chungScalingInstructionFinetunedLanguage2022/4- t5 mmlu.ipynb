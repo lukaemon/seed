{
 "cells": [
  {
   "cell_type": "code",
   "execution_count": 4,
   "metadata": {},
   "outputs": [],
   "source": [
    "%reload_ext autoreload\n",
    "%autoreload 2\n",
    "\n",
    "import torch\n",
    "from tqdm.auto import tqdm\n",
    "\n",
    "\n",
    "import eval\n",
    "import mmlu"
   ]
  },
  {
   "cell_type": "code",
   "execution_count": 5,
   "metadata": {},
   "outputs": [],
   "source": [
    "checkpoints = [\"google/flan-t5-large\"]  # for testing\n",
    "# checkpoints = [\n",
    "#     \"google/flan-t5-small\",\n",
    "#     \"google/flan-t5-base\",\n",
    "#     \"google/flan-t5-large\",\n",
    "#     \"google/flan-t5-xl\",\n",
    "#     \"google/flan-t5-xxl\",\n",
    "# ]\n"
   ]
  },
  {
   "cell_type": "code",
   "execution_count": 6,
   "metadata": {},
   "outputs": [
    {
     "name": "stderr",
     "output_type": "stream",
     "text": [
      "[INFO] [2023-02-02 04:38:05,239] [flan-t5] [eval.py:69] Loading model from google/flan-t5-large.\n",
      "[INFO] [2023-02-02 04:38:15,315] [flan-t5] [eval.py:141] Saving accuracy result to output/mmlu/accuracy/flan-t5-large_cot_False_k_1.csv.\n",
      "[INFO] [2023-02-02 04:38:15,317] [flan-t5] [eval.py:151] Saving failed output to output/mmlu/failed/flan-t5-large.\n"
     ]
    },
    {
     "data": {
      "application/vnd.jupyter.widget-view+json": {
       "model_id": "e5d46d92aaf14a02b53c29901445ea90",
       "version_major": 2,
       "version_minor": 0
      },
      "text/plain": [
       "Creating CSV from Arrow format:   0%|          | 0/1 [00:00<?, ?ba/s]"
      ]
     },
     "metadata": {},
     "output_type": "display_data"
    },
    {
     "name": "stderr",
     "output_type": "stream",
     "text": [
      "[INFO] [2023-02-02 04:38:15,332] [flan-t5] [eval.py:69] Loading model from google/flan-t5-large.\n",
      "[INFO] [2023-02-02 04:38:32,104] [flan-t5] [eval.py:141] Saving accuracy result to output/mmlu/accuracy/flan-t5-large_cot_True_k_1.csv.\n",
      "[INFO] [2023-02-02 04:38:32,106] [flan-t5] [eval.py:151] Saving failed output to output/mmlu/failed/flan-t5-large.\n"
     ]
    },
    {
     "data": {
      "application/vnd.jupyter.widget-view+json": {
       "model_id": "46f796005b0747dca2a9a63ae6b1614a",
       "version_major": 2,
       "version_minor": 0
      },
      "text/plain": [
       "Creating CSV from Arrow format:   0%|          | 0/1 [00:00<?, ?ba/s]"
      ]
     },
     "metadata": {},
     "output_type": "display_data"
    }
   ],
   "source": [
    "for checkpoint in checkpoints:\n",
    "    for cot in [False, True]:\n",
    "        dataset_results = []\n",
    "        for task in mmlu.task_list:\n",
    "            config = eval.EvalConfig(\n",
    "                checkpoint=checkpoint,\n",
    "                dataset_name=\"lukaemon/mmlu\",\n",
    "                task_name=task,\n",
    "                split=\"test\",\n",
    "                cot=cot,\n",
    "                n=5,  # mmlu uses 5 shots\n",
    "                cutoff=8,\n",
    "                batch_size=2,\n",
    "                temp=0.0,\n",
    "                k=1,\n",
    "                inst_fn=mmlu.task_instruction,\n",
    "                cot_fn=mmlu.task_cot,\n",
    "            )\n",
    "\n",
    "            task_result = eval.eval_task(config)\n",
    "            dataset_results.append(task_result)\n",
    "\n",
    "        eval.save_result(dataset_results)\n",
    "    torch.cuda.empty_cache()\n"
   ]
  },
  {
   "cell_type": "code",
   "execution_count": null,
   "metadata": {},
   "outputs": [],
   "source": []
  }
 ],
 "metadata": {
  "kernelspec": {
   "display_name": "Python 3",
   "language": "python",
   "name": "python3"
  },
  "language_info": {
   "codemirror_mode": {
    "name": "ipython",
    "version": 3
   },
   "file_extension": ".py",
   "mimetype": "text/x-python",
   "name": "python",
   "nbconvert_exporter": "python",
   "pygments_lexer": "ipython3",
   "version": "3.8.10"
  },
  "orig_nbformat": 4,
  "vscode": {
   "interpreter": {
    "hash": "e7370f93d1d0cde622a1f8e1c04877d8463912d04d973331ad4851f04de6915a"
   }
  }
 },
 "nbformat": 4,
 "nbformat_minor": 2
}
