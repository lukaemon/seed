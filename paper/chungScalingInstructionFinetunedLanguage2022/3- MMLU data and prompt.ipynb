{
 "cells": [
  {
   "cell_type": "code",
   "execution_count": 79,
   "metadata": {},
   "outputs": [
    {
     "data": {
      "text/plain": [
       "1"
      ]
     },
     "execution_count": 79,
     "metadata": {},
     "output_type": "execute_result"
    }
   ],
   "source": [
    "%reload_ext autoreload\n",
    "%autoreload 2\n",
    "\n",
    "import mmlu\n",
    "import utils\n",
    "import prompt\n",
    "\n",
    "len(mmlu.task_list)"
   ]
  },
  {
   "cell_type": "code",
   "execution_count": 65,
   "metadata": {},
   "outputs": [
    {
     "data": {
      "text/plain": [
       "'high_school_european_history'"
      ]
     },
     "execution_count": 65,
     "metadata": {},
     "output_type": "execute_result"
    }
   ],
   "source": [
    "task = mmlu.task_list[0]\n",
    "task"
   ]
  },
  {
   "cell_type": "code",
   "execution_count": 66,
   "metadata": {},
   "outputs": [
    {
     "data": {
      "text/plain": [
       "['train', 'val', 'test']"
      ]
     },
     "execution_count": 66,
     "metadata": {},
     "output_type": "execute_result"
    }
   ],
   "source": [
    "mmlu.split"
   ]
  },
  {
   "cell_type": "code",
   "execution_count": 74,
   "metadata": {},
   "outputs": [
    {
     "data": {
      "text/plain": [
       "Dataset({\n",
       "    features: ['input', 'A', 'B', 'C', 'D', 'target'],\n",
       "    num_rows: 17\n",
       "})"
      ]
     },
     "execution_count": 74,
     "metadata": {},
     "output_type": "execute_result"
    }
   ],
   "source": [
    "ds = utils.load(\"lukaemon/mmlu\", task, split='validation', cutoff=32)\n",
    "ds"
   ]
  },
  {
   "cell_type": "code",
   "execution_count": 75,
   "metadata": {},
   "outputs": [
    {
     "data": {
      "text/html": [
       "<div>\n",
       "<style scoped>\n",
       "    .dataframe tbody tr th:only-of-type {\n",
       "        vertical-align: middle;\n",
       "    }\n",
       "\n",
       "    .dataframe tbody tr th {\n",
       "        vertical-align: top;\n",
       "    }\n",
       "\n",
       "    .dataframe thead th {\n",
       "        text-align: right;\n",
       "    }\n",
       "</style>\n",
       "<table border=\"1\" class=\"dataframe\">\n",
       "  <thead>\n",
       "    <tr style=\"text-align: right;\">\n",
       "      <th></th>\n",
       "      <th>input</th>\n",
       "      <th>A</th>\n",
       "      <th>B</th>\n",
       "      <th>C</th>\n",
       "      <th>D</th>\n",
       "      <th>target</th>\n",
       "    </tr>\n",
       "  </thead>\n",
       "  <tbody>\n",
       "    <tr>\n",
       "      <th>0</th>\n",
       "      <td>This question refers to the following informat...</td>\n",
       "      <td>Utilitarians</td>\n",
       "      <td>Laissez-faire capitalists</td>\n",
       "      <td>Utopian socialists</td>\n",
       "      <td>Marxist communists</td>\n",
       "      <td>C</td>\n",
       "    </tr>\n",
       "    <tr>\n",
       "      <th>1</th>\n",
       "      <td>This question refers to the following informat...</td>\n",
       "      <td>the Russian military had to launch a new offen...</td>\n",
       "      <td>Kerensky had to move immediately against the B...</td>\n",
       "      <td>the Bolshevik faction could wait no longer to ...</td>\n",
       "      <td>only the Russian military could effectively go...</td>\n",
       "      <td>C</td>\n",
       "    </tr>\n",
       "    <tr>\n",
       "      <th>2</th>\n",
       "      <td>This question refers to the following informat...</td>\n",
       "      <td>The suppression of all new ideas in every fiel...</td>\n",
       "      <td>The suppression of nationalist and liberal rev...</td>\n",
       "      <td>The suppression of secret societies in hopes o...</td>\n",
       "      <td>The suppression of political change only while...</td>\n",
       "      <td>B</td>\n",
       "    </tr>\n",
       "    <tr>\n",
       "      <th>3</th>\n",
       "      <td>This question refers to the following informat...</td>\n",
       "      <td>The Enlightenment</td>\n",
       "      <td>Divine Right theory of rule</td>\n",
       "      <td>The rise of existentialism</td>\n",
       "      <td>The Scientific Revolution</td>\n",
       "      <td>D</td>\n",
       "    </tr>\n",
       "    <tr>\n",
       "      <th>4</th>\n",
       "      <td>This question refers to the following informat...</td>\n",
       "      <td>Unify Italy with his brother as king</td>\n",
       "      <td>Punish Russia for his ill-fated invasion</td>\n",
       "      <td>Defeat England through economic war</td>\n",
       "      <td>Create a united Europe under the leadership of...</td>\n",
       "      <td>C</td>\n",
       "    </tr>\n",
       "  </tbody>\n",
       "</table>\n",
       "</div>"
      ],
      "text/plain": [
       "                                               input  \\\n",
       "0  This question refers to the following informat...   \n",
       "1  This question refers to the following informat...   \n",
       "2  This question refers to the following informat...   \n",
       "3  This question refers to the following informat...   \n",
       "4  This question refers to the following informat...   \n",
       "\n",
       "                                                   A  \\\n",
       "0                                       Utilitarians   \n",
       "1  the Russian military had to launch a new offen...   \n",
       "2  The suppression of all new ideas in every fiel...   \n",
       "3                                  The Enlightenment   \n",
       "4               Unify Italy with his brother as king   \n",
       "\n",
       "                                                   B  \\\n",
       "0                          Laissez-faire capitalists   \n",
       "1  Kerensky had to move immediately against the B...   \n",
       "2  The suppression of nationalist and liberal rev...   \n",
       "3                        Divine Right theory of rule   \n",
       "4           Punish Russia for his ill-fated invasion   \n",
       "\n",
       "                                                   C  \\\n",
       "0                                 Utopian socialists   \n",
       "1  the Bolshevik faction could wait no longer to ...   \n",
       "2  The suppression of secret societies in hopes o...   \n",
       "3                         The rise of existentialism   \n",
       "4                Defeat England through economic war   \n",
       "\n",
       "                                                   D target  \n",
       "0                                 Marxist communists      C  \n",
       "1  only the Russian military could effectively go...      C  \n",
       "2  The suppression of political change only while...      B  \n",
       "3                          The Scientific Revolution      D  \n",
       "4  Create a united Europe under the leadership of...      C  "
      ]
     },
     "execution_count": 75,
     "metadata": {},
     "output_type": "execute_result"
    }
   ],
   "source": [
    "ds.to_pandas().head()"
   ]
  },
  {
   "cell_type": "code",
   "execution_count": 76,
   "metadata": {},
   "outputs": [
    {
     "data": {
      "text/plain": [
       "'The following are multiple choice questions (with answers) about high school european history.'"
      ]
     },
     "execution_count": 76,
     "metadata": {},
     "output_type": "execute_result"
    }
   ],
   "source": [
    "mmlu.task_instruction(task)"
   ]
  },
  {
   "cell_type": "code",
   "execution_count": 77,
   "metadata": {},
   "outputs": [
    {
     "name": "stdout",
     "output_type": "stream",
     "text": [
      "Q: This question refers to the following information.\n",
      "Albeit the king's Majesty justly and rightfully is and ought to be the supreme head of the Church of England, and so is recognized by the clergy of this realm in their convocations, yet nevertheless, for corroboration and confirmation thereof, and for increase of virtue in Christ's religion within this realm of England, and to repress and extirpate all errors, heresies, and other enormities and abuses heretofore used in the same, be it enacted, by authority of this present Parliament, that the king, our sovereign lord, his heirs and successors, kings of this realm, shall be taken, accepted, and reputed the only supreme head in earth of the Church of England, called Anglicans Ecclesia; and shall have and enjoy, annexed and united to the imperial crown of this realm, as well the title and style thereof, as all honors, dignities, preeminences, jurisdictions, privileges, authorities, immunities, profits, and commodities to the said dignity of the supreme head of the same Church belonging and appertaining; and that our said sovereign lord, his heirs and successors, kings of this realm, shall have full power and authority from time to time to visit, repress, redress, record, order, correct, restrain, and amend all such errors, heresies, abuses, offenses, contempts, and enormities, whatsoever they be, which by any manner of spiritual authority or jurisdiction ought or may lawfully be reformed, repressed, ordered, redressed, corrected, restrained, or amended, most to the pleasure of Almighty God, the increase of virtue in Christ's religion, and for the conservation of the peace, unity, and tranquility of this realm; any usage, foreign land, foreign authority, prescription, or any other thing or things to the contrary hereof notwithstanding.\n",
      "English Parliament, Act of Supremacy, 1534\n",
      "From the passage, one may infer that the English Parliament wished to argue that the Act of Supremacy would\n",
      "(A) give the English king a new position of authority (B) give the position of head of the Church of England to Henry VIII alone and exclude his heirs (C) establish Calvinism as the one true theology in England (D) end various forms of corruption plaguing the Church in England\n",
      "A: Let's think step by step. We refer to Wikipedia articles on european history for help. The Act of Supremacy states that it grants authority to the king \"to repress and extirpate all errors, heresies, and other enormities and abuses\", referring to the corruption in the Church of England. The answer is (D).\n",
      "\n",
      "Q: This question refers to the following information.\n",
      "Read the following excerpt.\n",
      "The revolutionary seed had penetrated into every country and spread more or less. It was greatly developed under the régime of the military despotism of Bonaparte. His conquests displaced a number of laws, institutions, and customs; broke through bonds sacred among all nations, strong enough to resist time itself; which is more than can be said of certain benefits conferred by these innovators.\n",
      "The monarchs will fulfil the duties imposed upon them by Him who, by entrusting them with power, has charged them to watch over the maintenance of justice, and the rights of all, to avoid the paths of error, and tread firmly in the way of truth. Placed beyond the passions which agitate society, it is in days of trial chiefly that they are called upon to despoil realities of their false appearances, and to show themselves as they are, fathers invested with the authority belonging by right to the heads of families, to prove that, in days of mourning, they know how to be just, wise, and therefore strong, and that they will not abandon the people whom they ought to govern to be the sport of factions, to error and its consequences, which must involve the loss of society.\n",
      "Union between the monarchs is the basis of the policy which must now be followed to save society from total ruin. . . .\n",
      "Let them not confound concessions made to parties with the good they ought to do for their people, in modifying, according to their recognized needs, such branches of the administration as require it.\n",
      "Let them be just, but strong; beneficent, but strict.\n",
      "Let them maintain religious principles in all their purity, and not allow the faith to be attacked and morality interpreted according to the social contract or the visions of foolish sectarians.\n",
      "Let them suppress Secret Societies; that gangrene of society.\n",
      "—Klemens von Metternich, Political Confession of Faith, 1820\n",
      "Which of the following was the greatest cause of the fears expressed by Metternich in the document above?\n",
      "(A) The ideas of personal liberty and nationalism conceived during the Enlightenment resulted in radical revolutions that could spread throughout Europe. (B) The conquest of Europe by Napoleon led to the creation of new factions and shifted the European balance of power. (C) The power of monarchs had grown to the point where it needed to be checked by other powers within each nation or domination of civilians would occur. (D) The rising and falling economic cycle of the newly emerging capitalist economy could lead to civilian unrest that must be suppressed.\n",
      "A: Let's think step by step. We refer to Wikipedia articles on european history for help. The fears of revolution in early 19th century Europe expressed by Klemens von Metternich, a conservative Austrian statesman, were a direct result of the age of Enlightenment, a period of European history where the absolute power of the monarchy was challenged with ideas of individual liberty and nationalism, leading to the French revolution and its effects all over Europe. The answer is (A).\n",
      "\n",
      "Q: This question refers to the following information.\n",
      "The excerpts below are from the Navigation Acts of 1651.\n",
      "[A]fter the first day of December, one thousand six hundred fifty and one, and from thence forwards, no goods or commodities whatsoever of the growth, production or manufacture of Asia, Africa or America, or of any part thereof; or of any islands belonging to them, or which are described or laid down in the usual maps or cards of those places, as well of the English plantations as others, shall be imported or brought into this Commonwealth of England, or into Ireland, or any other lands, islands, plantations, or territories to this Commonwealth belonging, or in their possession, in any other ship or ships, vessel or vessels whatsoever, but only in such as do truly and without fraud belong only to the people of this Commonwealth, or the plantations thereof, as the proprietors or right owners thereof; and whereof the master and mariners are also of the people of this Commonwealth, under the penalty of the forfeiture and loss of all the goods that shall be imported contrary to this act, , , ,\n",
      "[N]o goods or commodities of the growth, production, or manufacture of Europe, or of any part thereof, shall after the first day of December, one thousand six hundred fifty and one, be imported or brought into this Commonwealth of England, or any other lands or territories to this Commonwealth belonging, or in their possession, in any ship or ships, vessel or vessels whatsoever, but in such as do truly and without fraud belong only to the people of this Commonwealth, and in no other, except only such foreign ships and vessels as do truly and properly belong to the people of that country or place, of which the said goods are the growth, production or manufacture.\n",
      "Which of the following best describes the outcome of the Navigation Acts of 1651?\n",
      "(A) They served as a catalyst for the growth of English shipping and overseas trade, but did little to limit the prospects of the Dutch in the seventeenth century. (B) They brought about almost immediate hardships for the Dutch economy as their dominance of overseas trade quickly ended. (C) They were rescinded during the restoration of the Stuarts as they sought normal diplomatic relations with the Dutch so not as to need Parliament's financial support for war. (D) They led to nearly a century of recurrent war between England and the Netherlands, which would not end until after American independence.\n",
      "A: Let's think step by step. We refer to Wikipedia articles on european history for help. The Navigation Acts of 1651 helped English shipping by restricting the ability of ships from other European countries, especially the Dutch, to transport goods from colonies in Asia and Africa into England. The answer is (A).\n",
      "\n",
      "Q: This question refers to the following information.\n",
      "In Russia there was nothing going on well, and [Souvarine] was in despair over the news he had received. His old companions were all turning to the politicians; the famous Nihilists who made Europe tremble-sons of village priests, of the lower middle class, of tradesmen-could not rise above the idea of national liberation, and seemed to believe that the world would be delivered-when they had killed their despot&…\n",
      "\"Foolery! They'll never get out of it with their foolery.\"\n",
      "Then, lowering his voice still more, in a few bitter words he described his old dream of fraternity. He had renounced his rank and his fortune; he had gone among workmen, only in the hope of seeing at last the foundation of a new society of labour in common. All the sous in his pockets had long gone to the urchins of the settlement; he had been as tender as a brother with the colliers, smiling at their suspicion, winning them over by his quiet workmanlike ways and his dislike of chattering. But decidedly the fusion had not taken place.\n",
      "His voice changed, his eyes grew bright, he fixed them on étienne, directly addressing him:\n",
      "\"Now, do you understand that? These hatworkers at Marseilles who have won the great lottery prize of a hundred thousand francs have gone off at once and invested it, declaring that they are going to live without doing anything! Yes, that is your idea, all of you French workmen; you want to unearth a treasure in order to devour it alone afterwards in some lazy, selfish corner. You may cry out as much as you like against the rich, you haven't got courage enough to give back to the poor the money that luck brings you. You will never be worthy of happiness as long as you own anything, and your hatred of the bourgeois proceeds solely from an angry desire to be bourgeois yourselves in their place.\"\n",
      "émile Zola, French writer, Germinal, 1885\n",
      "The passage displays the direct concern for the welfare of the working classes that was typically a part of which movement?\n",
      "(A) Capitalist (B) Scientific (C) Communist (D) Existentialist\n",
      "A: Let's think step by step. We refer to Wikipedia articles on european history for help. The modern Communist movement aims to establish a classless society based on communal ownership and distribution of property and means of production, thereby especially benefiting the working classes. The answer is (C).\n",
      "\n",
      "Q: This question refers to the following information.\n",
      "The following excerpt is from a pamphlet.\n",
      "You will do me the justice to remember, that I have always strenuously supported the Right of every man to his own opinion, however different that opinion might be to mine. He who denies to another this right, makes a slave of himself to his present opinion, because he precludes himself the right of changing it.\n",
      "The most formidable weapon against errors of every kind is Reason. I have never used any other, and I trust I never shall.\n",
      "The circumstance that has now taken place in France of the total abolition of the whole national order of priesthood, and of everything appertaining to compulsive systems of religion, and compulsive articles of faith, has not only precipitated my intention, but rendered a work of this kind exceedingly necessary, lest in the general wreck of superstition, of false systems of government, and false theology, we lose sight of morality, of humanity, and of the theology that is true.\n",
      "I believe in one God, and no more; and I hope for happiness beyond this life.\n",
      "I believe in the equality of man; and I believe that religious duties consist in doing justice, loving mercy, and endeavoring to make our fellow-creatures happy.\n",
      "I do not believe in the creed professed by the Jewish church, by the Roman church, by the Greek church, by the Turkish church, by the Protestant church, nor by any church that I know of. My own mind is my own church.\n",
      "All national institutions of churches, whether Jewish, Christian or Turkish, appear to me no other than human inventions, set up to terrify and enslave mankind, and monopolize power and profit.\n",
      "I do not mean by this declaration to condemn those who believe otherwise; they have the same right to their belief as I have to mine.\n",
      "—Thomas Paine, The Age of Reason, 1794–1795\n",
      "Which of the following Enlightenment philosophes designed a system of checks and balances for government to avoid abuses of power?\n",
      "(A) Jean Jacques Rousseau (B) Baron Montesquieu (C) Mary Wollstonecraft (D) Adam Smith\n",
      "A: Let's think step by step. We refer to Wikipedia articles on european history for help. Baron Montesquieu was a 18th centrury French philsopher who wrote extensively against the monoplization of power and advocated for a system of checks and balances in government to prevent the rise of despotism. The answer is (B).\n"
     ]
    }
   ],
   "source": [
    "print(mmlu.task_cot(task))"
   ]
  },
  {
   "cell_type": "code",
   "execution_count": 78,
   "metadata": {},
   "outputs": [
    {
     "data": {
      "text/plain": [
       "[{'input': 'This question refers to the following information.\\nApart from the desire to produce beautiful things, the leading passion of my life has been and is hatred of modern civilization. What shall I say of it now, when the words are put into my mouth, my hope of its destruction—what shall I say of its supplanting by Socialism?\\nWhat shall I say concerning its mastery of and its waste of mechanical power, its commonwealth so poor, its enemies of the commonwealth so rich, its stupendous organization—for the misery of life! Its contempt of simple pleasures which everyone could enjoy but for its folly? Its eyeless vulgarity which has destroyed art, the one certain solace of labor? All this I felt then as now, but I did not know why it was so. The hope of the past times was gone, the struggles of mankind for many ages had produced nothing but this sordid, aimless, ugly confusion; the immediate future seemed to me likely to intensify all the present evils by sweeping away the last survivals of the days before the dull squalor of civilization had settled down on the world.\\nThis was a bad lookout indeed, and, if I may mention myself as a personality and not as a mere type, especially so to a man of my disposition, careless of metaphysics and religion, as well as of scientific analysis, but with a deep love of the earth and the life on it, and a passion for the history of the past of mankind.\\nWilliam Morris, How I Became a Socialist, 1896\\nFrom the passage, one may infer that, by 1896, Morris had dedicated himself to',\n",
       "  'A': 'the spread of mechanical power in industry',\n",
       "  'B': 'the transformation of Britain into a commonwealth',\n",
       "  'C': 'the triumph of socialism',\n",
       "  'D': 'the spread of liberal democracy',\n",
       "  'target': 'C'},\n",
       " {'input': \"This question refers to the following information.\\nThe following quote is from Voltaire in response to the 1755 Lisbon earthquake.\\nMy dear sir, nature is very cruel. One would find it hard to imagine how the laws of movement cause such frightful disasters in the best of possible worlds. A hundred thousand ants, our fellows, crushed all at once in our ant-hill, and half of them perishing, no doubt in unspeakable agony, beneath the wreckage from which they cannot be drawn. Families ruined all over Europe, the fortune of a hundred businessmen, your compatriots, swallowed up in the ruins of Lisbon. What a wretched gamble is the game of human life! What will the preachers say, especially if the palace of the Inquisition is still standing? I flatter myself that at least the reverend father inquisitors have been crushed like others. That ought to teach men not to persecute each other, for while a few holy scoundrels burn a few fanatics, the earth swallows up one and all.\\n—Voltaire, in a letter, 1755\\nVoltaire's statement in the last sentence, criticizing persecution, is most likely influenced by which of the following?\",\n",
       "  'A': 'New concepts of legal equity and individual rights expressed by Locke and Rousseau',\n",
       "  'B': 'Europeans gaining a more thorough understanding of the rich cultural diversity to be found through trade and travel',\n",
       "  'C': \"New concepts of a deterministic mechanical universe based upon the discovery of Newton's mathematical laws\",\n",
       "  'D': 'Challenges on multiple fronts to the monopoly on truth held by the Roman Catholic Church',\n",
       "  'target': 'B'},\n",
       " {'input': 'This question refers to the following information.\\n\"XI. As the present sciences are useless for the discovery of effects, so the present system of logic is useless for the discovery of the sciences.\\nXIX. There are and can exist but two ways of investigating and discovering truth. The one hurries on rapidly from the senses and particulars to the most general axioms, and from them, as principles and their supposed indisputable truth, derives and discovers the intermediate axioms. This is the way now in use. The other constructs its axioms from the senses and particulars, by ascending continually and gradually, till it finally arrives at the most general axioms, which is the true but unattempted way.\\nXXII. Each of these two ways begins from the senses and particulars, and ends in the greatest generalities&…\\nXXXVI. We have but one simple method of delivering our sentiments, namely, we must bring men to particulars and their regular series and order, and they must for a while renounce their notions, and begin to form an acquaintance with things.\"\\nFrancis Bacon, English philosopher and essayist, Novum Organum, 1620\\nHow does the approach outlined in Novum Organum differ from the studies of the Renaissance era that preceded it?',\n",
       "  'A': 'The Renaissance was anchored in Italy; the scientific era was barely noticed there.',\n",
       "  'B': \"The Renaissance revered the natural teachings of classical authority; Bacon's writings sought to overturn them.\",\n",
       "  'C': 'The Renaissance was sponsored primarily by the Church, whereas scientific societies were sponsored mainly by wealthy merchants.',\n",
       "  'D': 'The Renaissance featured a wild spirit of discovery, but the scientific pioneers were much more cautious in their pronouncements.',\n",
       "  'target': 'B'},\n",
       " {'input': 'This question refers to the following information.\\nThe situation is critical in the extreme. In fact it is now absolutely clear that to delay the uprising would be fatal.\\nWith all my might I urge comrades to realize that everything now hangs by a thread; that we are confronted by problems which are not to be solved by conferences or congresses (even congresses of Soviets), but exclusively by peoples, by the masses, by the struggle of the armed people. …\\nWho must take power? That is not important at present. Let the Revolutionary Military Committee do it, or \"some other institution\" which will declare that it will relinquish power only to the true representatives of the interests of the people, the interests of the army, the interests of the peasants, the interests of the starving.\\nAll districts, all regiments, all forces must be mobilized at once and must immediately send their delegations to the Revolutionary Military Committee and to the Central Committee of the Bolsheviks with the insistent demand that under no circumstances should power be left in the hands of Kerensky [and his colleagues], … not under any circumstances; the matter must be decided without fail this very evening, or this very night.\\nVladmir Illyich Lenin, \"Call to Power,\" 1917\\nFrom the passage, one may infer that Lenin believed that',\n",
       "  'A': 'the Russian military had to launch a new offensive',\n",
       "  'B': 'Kerensky had to move immediately against the Bolsheviks',\n",
       "  'C': 'the Bolshevik faction could wait no longer to seize power',\n",
       "  'D': 'only the Russian military could effectively govern Russia',\n",
       "  'target': 'C'},\n",
       " {'input': 'This question refers to the following information.\\nAs with a Commander of the Army, or leader of any enterprise, so it is with the mistress of the house. Her spirit will be seen through the whole establishment; and just in proportion as she performs her duties intelligently and thoroughly, so will her domestics follow in her path. Of all of those acquirements, which more particularly belong to the feminine character, there are none which take a higher rank, in our estimation, than such as enter into a knowledge of household duties; for on these are perpetually dependent the happiness, comfort, and well-being of the family.\\nIsabella Beeton, Book of Household Management, 1861\\nFrom the passage, one may infer that Beeton believed that',\n",
       "  'A': 'women were better suited than men for the task of household management',\n",
       "  'B': 'women were better suited than men to run schools',\n",
       "  'C': 'men were better suited than women for the task of household management',\n",
       "  'D': 'men were better suited than women to run schools',\n",
       "  'target': 'A'}]"
      ]
     },
     "execution_count": 78,
     "metadata": {},
     "output_type": "execute_result"
    }
   ],
   "source": [
    "utils.few_shot(ds, 5)"
   ]
  },
  {
   "cell_type": "code",
   "execution_count": 80,
   "metadata": {},
   "outputs": [
    {
     "name": "stdout",
     "output_type": "stream",
     "text": [
      "The following are multiple choice questions (with answers) about high school european history.\n",
      "\n",
      "Q: This question refers to the following information.\n",
      "The situation is critical in the extreme. In fact it is now absolutely clear that to delay the uprising would be fatal.\n",
      "With all my might I urge comrades to realize that everything now hangs by a thread; that we are confronted by problems which are not to be solved by conferences or congresses (even congresses of Soviets), but exclusively by peoples, by the masses, by the struggle of the armed people. …\n",
      "Who must take power? That is not important at present. Let the Revolutionary Military Committee do it, or \"some other institution\" which will declare that it will relinquish power only to the true representatives of the interests of the people, the interests of the army, the interests of the peasants, the interests of the starving.\n",
      "All districts, all regiments, all forces must be mobilized at once and must immediately send their delegations to the Revolutionary Military Committee and to the Central Committee of the Bolsheviks with the insistent demand that under no circumstances should power be left in the hands of Kerensky [and his colleagues], … not under any circumstances; the matter must be decided without fail this very evening, or this very night.\n",
      "Vladmir Illyich Lenin, \"Call to Power,\" 1917\n",
      "From the passage, one may infer that Lenin believed that\n",
      "A: C\n",
      "\n",
      "Q: This question refers to the following information.\n",
      "\"In 1500 that work appeared which Erasmus had written after his misfortune at Dover, and had dedicated to Mountjoy, the Adagiorum Collectanea. It was a collection of about eight hundred proverbial sayings drawn from the Latin authors of antiquity and elucidated for the use of those who aspired to write an elegant Latin style. In the dedication Erasmus pointed out the profit an author may derive, both in ornamenting his style and in strengthening his argumentation, from having at his disposal a good supply of sentences hallowed by their antiquity. He proposes to offer such a help to his readers. What he actually gave was much more. He familiarized a much wider circle than the earlier humanists had reached with the spirit of antiquity.\n",
      "Until this time the humanists had, to some extent, monopolized the treasures of classic culture, in order to parade their knowledge of which the multitude remained destitute, and so to become strange prodigies of learning and elegance. With his irresistible need of teaching and his sincere love for humanity and its general culture, Erasmus introduced the classic spirit, in so far as it could be reflected in the soul of a sixteenth-century Christian, among the people. Not he alone; but none more extensively and more effectively. Not among all the people, it is true, for by writing in Latin he limited his direct influence to the educated classes, which in those days were the upper classes.\n",
      "Erasmus made current the classic spirit. Humanism ceased to be the exclusive privilege of a few. According to Beatus Rhenanus he had been reproached by some humanists, when about to publish the Adagia, for divulging the mysteries of their craft. But he desired that the book of antiquity should be open to all.\"\n",
      "Johan Huizinga, twentieth-century Dutch philosopher, Erasmus and the Age of Reformation, 1924\n",
      "Based on Huizinga's description of Erasmus's career, the contributions of Erasmus are most similar to those of\n",
      "A: C\n",
      "\n",
      "Q: This question refers to the following information.\n",
      "As with a Commander of the Army, or leader of any enterprise, so it is with the mistress of the house. Her spirit will be seen through the whole establishment; and just in proportion as she performs her duties intelligently and thoroughly, so will her domestics follow in her path. Of all of those acquirements, which more particularly belong to the feminine character, there are none which take a higher rank, in our estimation, than such as enter into a knowledge of household duties; for on these are perpetually dependent the happiness, comfort, and well-being of the family.\n",
      "Isabella Beeton, Book of Household Management, 1861\n",
      "From the passage, one may infer that Beeton believed that\n",
      "A: A\n",
      "\n",
      "Q: This question refers to the following information.\n",
      "Read the following excerpt.\n",
      "If civilized education developed in every child its natural inclinations, we should see nearly all rich children enamored of various very plebeian occupations, such as that of the mason, the carpenter, the smith, the saddler. I have instanced Louis the XVI, who loved the trade of locksmith; an Infanta of Spain preferred that of shoemaker; a certain king of Denmark gratified himself by manufacturing syringes; the former king of Naples loved to sell the fish he had caught in the market-place himself; the prince of Parma, whom Condillac had trained in metaphysical subtitles, in the understanding of intuition, of cognition, had no taste but for the occupation of church-warden and lay-brother.\n",
      "The great majority of wealthy children would follow these plebeian tastes, if civilized education did not oppose the development of them; and if the filthiness of the workshops and the coarseness of the workmen did not arouse a repugnance stronger than the attraction. What child of a prince is there who has no taste for one of the four occupations I have just mentioned, that of mason, carpenter, smith, saddler, and who would not advance in them if he beheld from an early age the work carried on in blight workshops, by refined people, who would always arrange a miniature workshop for children, with little implements and light labor?\n",
      "—Charles Fourier, On Education, 1838\n",
      "Which of the following groups of intellectuals would Fourier belong to, according to the document above?\n",
      "A:\n"
     ]
    }
   ],
   "source": [
    "print(prompt.answer_only_prompt(mmlu.task_instruction(task), utils.few_shot(ds, n=3), ds[0]))"
   ]
  },
  {
   "cell_type": "code",
   "execution_count": 82,
   "metadata": {},
   "outputs": [
    {
     "name": "stdout",
     "output_type": "stream",
     "text": [
      "The following are multiple choice questions (with answers) about high school european history.\n",
      "\n",
      "Q: This question refers to the following information.\n",
      "Albeit the king's Majesty justly and rightfully is and ought to be the supreme head of the Church of England, and so is recognized by the clergy of this realm in their convocations, yet nevertheless, for corroboration and confirmation thereof, and for increase of virtue in Christ's religion within this realm of England, and to repress and extirpate all errors, heresies, and other enormities and abuses heretofore used in the same, be it enacted, by authority of this present Parliament, that the king, our sovereign lord, his heirs and successors, kings of this realm, shall be taken, accepted, and reputed the only supreme head in earth of the Church of England, called Anglicans Ecclesia; and shall have and enjoy, annexed and united to the imperial crown of this realm, as well the title and style thereof, as all honors, dignities, preeminences, jurisdictions, privileges, authorities, immunities, profits, and commodities to the said dignity of the supreme head of the same Church belonging and appertaining; and that our said sovereign lord, his heirs and successors, kings of this realm, shall have full power and authority from time to time to visit, repress, redress, record, order, correct, restrain, and amend all such errors, heresies, abuses, offenses, contempts, and enormities, whatsoever they be, which by any manner of spiritual authority or jurisdiction ought or may lawfully be reformed, repressed, ordered, redressed, corrected, restrained, or amended, most to the pleasure of Almighty God, the increase of virtue in Christ's religion, and for the conservation of the peace, unity, and tranquility of this realm; any usage, foreign land, foreign authority, prescription, or any other thing or things to the contrary hereof notwithstanding.\n",
      "English Parliament, Act of Supremacy, 1534\n",
      "From the passage, one may infer that the English Parliament wished to argue that the Act of Supremacy would\n",
      "(A) give the English king a new position of authority (B) give the position of head of the Church of England to Henry VIII alone and exclude his heirs (C) establish Calvinism as the one true theology in England (D) end various forms of corruption plaguing the Church in England\n",
      "A: Let's think step by step. We refer to Wikipedia articles on european history for help. The Act of Supremacy states that it grants authority to the king \"to repress and extirpate all errors, heresies, and other enormities and abuses\", referring to the corruption in the Church of England. The answer is (D).\n",
      "\n",
      "Q: This question refers to the following information.\n",
      "Read the following excerpt.\n",
      "The revolutionary seed had penetrated into every country and spread more or less. It was greatly developed under the régime of the military despotism of Bonaparte. His conquests displaced a number of laws, institutions, and customs; broke through bonds sacred among all nations, strong enough to resist time itself; which is more than can be said of certain benefits conferred by these innovators.\n",
      "The monarchs will fulfil the duties imposed upon them by Him who, by entrusting them with power, has charged them to watch over the maintenance of justice, and the rights of all, to avoid the paths of error, and tread firmly in the way of truth. Placed beyond the passions which agitate society, it is in days of trial chiefly that they are called upon to despoil realities of their false appearances, and to show themselves as they are, fathers invested with the authority belonging by right to the heads of families, to prove that, in days of mourning, they know how to be just, wise, and therefore strong, and that they will not abandon the people whom they ought to govern to be the sport of factions, to error and its consequences, which must involve the loss of society.\n",
      "Union between the monarchs is the basis of the policy which must now be followed to save society from total ruin. . . .\n",
      "Let them not confound concessions made to parties with the good they ought to do for their people, in modifying, according to their recognized needs, such branches of the administration as require it.\n",
      "Let them be just, but strong; beneficent, but strict.\n",
      "Let them maintain religious principles in all their purity, and not allow the faith to be attacked and morality interpreted according to the social contract or the visions of foolish sectarians.\n",
      "Let them suppress Secret Societies; that gangrene of society.\n",
      "—Klemens von Metternich, Political Confession of Faith, 1820\n",
      "Which of the following was the greatest cause of the fears expressed by Metternich in the document above?\n",
      "(A) The ideas of personal liberty and nationalism conceived during the Enlightenment resulted in radical revolutions that could spread throughout Europe. (B) The conquest of Europe by Napoleon led to the creation of new factions and shifted the European balance of power. (C) The power of monarchs had grown to the point where it needed to be checked by other powers within each nation or domination of civilians would occur. (D) The rising and falling economic cycle of the newly emerging capitalist economy could lead to civilian unrest that must be suppressed.\n",
      "A: Let's think step by step. We refer to Wikipedia articles on european history for help. The fears of revolution in early 19th century Europe expressed by Klemens von Metternich, a conservative Austrian statesman, were a direct result of the age of Enlightenment, a period of European history where the absolute power of the monarchy was challenged with ideas of individual liberty and nationalism, leading to the French revolution and its effects all over Europe. The answer is (A).\n",
      "\n",
      "Q: This question refers to the following information.\n",
      "The excerpts below are from the Navigation Acts of 1651.\n",
      "[A]fter the first day of December, one thousand six hundred fifty and one, and from thence forwards, no goods or commodities whatsoever of the growth, production or manufacture of Asia, Africa or America, or of any part thereof; or of any islands belonging to them, or which are described or laid down in the usual maps or cards of those places, as well of the English plantations as others, shall be imported or brought into this Commonwealth of England, or into Ireland, or any other lands, islands, plantations, or territories to this Commonwealth belonging, or in their possession, in any other ship or ships, vessel or vessels whatsoever, but only in such as do truly and without fraud belong only to the people of this Commonwealth, or the plantations thereof, as the proprietors or right owners thereof; and whereof the master and mariners are also of the people of this Commonwealth, under the penalty of the forfeiture and loss of all the goods that shall be imported contrary to this act, , , ,\n",
      "[N]o goods or commodities of the growth, production, or manufacture of Europe, or of any part thereof, shall after the first day of December, one thousand six hundred fifty and one, be imported or brought into this Commonwealth of England, or any other lands or territories to this Commonwealth belonging, or in their possession, in any ship or ships, vessel or vessels whatsoever, but in such as do truly and without fraud belong only to the people of this Commonwealth, and in no other, except only such foreign ships and vessels as do truly and properly belong to the people of that country or place, of which the said goods are the growth, production or manufacture.\n",
      "Which of the following best describes the outcome of the Navigation Acts of 1651?\n",
      "(A) They served as a catalyst for the growth of English shipping and overseas trade, but did little to limit the prospects of the Dutch in the seventeenth century. (B) They brought about almost immediate hardships for the Dutch economy as their dominance of overseas trade quickly ended. (C) They were rescinded during the restoration of the Stuarts as they sought normal diplomatic relations with the Dutch so not as to need Parliament's financial support for war. (D) They led to nearly a century of recurrent war between England and the Netherlands, which would not end until after American independence.\n",
      "A: Let's think step by step. We refer to Wikipedia articles on european history for help. The Navigation Acts of 1651 helped English shipping by restricting the ability of ships from other European countries, especially the Dutch, to transport goods from colonies in Asia and Africa into England. The answer is (A).\n",
      "\n",
      "Q: This question refers to the following information.\n",
      "In Russia there was nothing going on well, and [Souvarine] was in despair over the news he had received. His old companions were all turning to the politicians; the famous Nihilists who made Europe tremble-sons of village priests, of the lower middle class, of tradesmen-could not rise above the idea of national liberation, and seemed to believe that the world would be delivered-when they had killed their despot&…\n",
      "\"Foolery! They'll never get out of it with their foolery.\"\n",
      "Then, lowering his voice still more, in a few bitter words he described his old dream of fraternity. He had renounced his rank and his fortune; he had gone among workmen, only in the hope of seeing at last the foundation of a new society of labour in common. All the sous in his pockets had long gone to the urchins of the settlement; he had been as tender as a brother with the colliers, smiling at their suspicion, winning them over by his quiet workmanlike ways and his dislike of chattering. But decidedly the fusion had not taken place.\n",
      "His voice changed, his eyes grew bright, he fixed them on étienne, directly addressing him:\n",
      "\"Now, do you understand that? These hatworkers at Marseilles who have won the great lottery prize of a hundred thousand francs have gone off at once and invested it, declaring that they are going to live without doing anything! Yes, that is your idea, all of you French workmen; you want to unearth a treasure in order to devour it alone afterwards in some lazy, selfish corner. You may cry out as much as you like against the rich, you haven't got courage enough to give back to the poor the money that luck brings you. You will never be worthy of happiness as long as you own anything, and your hatred of the bourgeois proceeds solely from an angry desire to be bourgeois yourselves in their place.\"\n",
      "émile Zola, French writer, Germinal, 1885\n",
      "The passage displays the direct concern for the welfare of the working classes that was typically a part of which movement?\n",
      "(A) Capitalist (B) Scientific (C) Communist (D) Existentialist\n",
      "A: Let's think step by step. We refer to Wikipedia articles on european history for help. The modern Communist movement aims to establish a classless society based on communal ownership and distribution of property and means of production, thereby especially benefiting the working classes. The answer is (C).\n",
      "\n",
      "Q: This question refers to the following information.\n",
      "The following excerpt is from a pamphlet.\n",
      "You will do me the justice to remember, that I have always strenuously supported the Right of every man to his own opinion, however different that opinion might be to mine. He who denies to another this right, makes a slave of himself to his present opinion, because he precludes himself the right of changing it.\n",
      "The most formidable weapon against errors of every kind is Reason. I have never used any other, and I trust I never shall.\n",
      "The circumstance that has now taken place in France of the total abolition of the whole national order of priesthood, and of everything appertaining to compulsive systems of religion, and compulsive articles of faith, has not only precipitated my intention, but rendered a work of this kind exceedingly necessary, lest in the general wreck of superstition, of false systems of government, and false theology, we lose sight of morality, of humanity, and of the theology that is true.\n",
      "I believe in one God, and no more; and I hope for happiness beyond this life.\n",
      "I believe in the equality of man; and I believe that religious duties consist in doing justice, loving mercy, and endeavoring to make our fellow-creatures happy.\n",
      "I do not believe in the creed professed by the Jewish church, by the Roman church, by the Greek church, by the Turkish church, by the Protestant church, nor by any church that I know of. My own mind is my own church.\n",
      "All national institutions of churches, whether Jewish, Christian or Turkish, appear to me no other than human inventions, set up to terrify and enslave mankind, and monopolize power and profit.\n",
      "I do not mean by this declaration to condemn those who believe otherwise; they have the same right to their belief as I have to mine.\n",
      "—Thomas Paine, The Age of Reason, 1794–1795\n",
      "Which of the following Enlightenment philosophes designed a system of checks and balances for government to avoid abuses of power?\n",
      "(A) Jean Jacques Rousseau (B) Baron Montesquieu (C) Mary Wollstonecraft (D) Adam Smith\n",
      "A: Let's think step by step. We refer to Wikipedia articles on european history for help. Baron Montesquieu was a 18th centrury French philsopher who wrote extensively against the monoplization of power and advocated for a system of checks and balances in government to prevent the rise of despotism. The answer is (B).\n",
      "\n",
      "Q: This question refers to the following information.\n",
      "Read the following excerpt.\n",
      "If civilized education developed in every child its natural inclinations, we should see nearly all rich children enamored of various very plebeian occupations, such as that of the mason, the carpenter, the smith, the saddler. I have instanced Louis the XVI, who loved the trade of locksmith; an Infanta of Spain preferred that of shoemaker; a certain king of Denmark gratified himself by manufacturing syringes; the former king of Naples loved to sell the fish he had caught in the market-place himself; the prince of Parma, whom Condillac had trained in metaphysical subtitles, in the understanding of intuition, of cognition, had no taste but for the occupation of church-warden and lay-brother.\n",
      "The great majority of wealthy children would follow these plebeian tastes, if civilized education did not oppose the development of them; and if the filthiness of the workshops and the coarseness of the workmen did not arouse a repugnance stronger than the attraction. What child of a prince is there who has no taste for one of the four occupations I have just mentioned, that of mason, carpenter, smith, saddler, and who would not advance in them if he beheld from an early age the work carried on in blight workshops, by refined people, who would always arrange a miniature workshop for children, with little implements and light labor?\n",
      "—Charles Fourier, On Education, 1838\n",
      "Which of the following groups of intellectuals would Fourier belong to, according to the document above?\n",
      "A: Let's think step by step.\n"
     ]
    }
   ],
   "source": [
    "print(prompt.cot_prompt(mmlu.task_instruction(task), mmlu.task_cot(task), ds[0]))"
   ]
  },
  {
   "cell_type": "code",
   "execution_count": null,
   "metadata": {},
   "outputs": [],
   "source": []
  }
 ],
 "metadata": {
  "kernelspec": {
   "display_name": "Python 3",
   "language": "python",
   "name": "python3"
  },
  "language_info": {
   "codemirror_mode": {
    "name": "ipython",
    "version": 3
   },
   "file_extension": ".py",
   "mimetype": "text/x-python",
   "name": "python",
   "nbconvert_exporter": "python",
   "pygments_lexer": "ipython3",
   "version": "3.8.10"
  },
  "orig_nbformat": 4,
  "vscode": {
   "interpreter": {
    "hash": "e7370f93d1d0cde622a1f8e1c04877d8463912d04d973331ad4851f04de6915a"
   }
  }
 },
 "nbformat": 4,
 "nbformat_minor": 2
}
