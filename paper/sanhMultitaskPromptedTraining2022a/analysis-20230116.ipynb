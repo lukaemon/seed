{
 "cells": [
  {
   "cell_type": "code",
   "execution_count": 1,
   "metadata": {},
   "outputs": [],
   "source": [
    "%reload_ext autoreload\n",
    "%autoreload 2\n",
    "\n",
    "import pandas as pd\n",
    "import utils"
   ]
  },
  {
   "cell_type": "code",
   "execution_count": 2,
   "metadata": {},
   "outputs": [
    {
     "data": {
      "text/html": [
       "<div>\n",
       "<style scoped>\n",
       "    .dataframe tbody tr th:only-of-type {\n",
       "        vertical-align: middle;\n",
       "    }\n",
       "\n",
       "    .dataframe tbody tr th {\n",
       "        vertical-align: top;\n",
       "    }\n",
       "\n",
       "    .dataframe thead tr th {\n",
       "        text-align: left;\n",
       "    }\n",
       "\n",
       "    .dataframe thead tr:last-of-type th {\n",
       "        text-align: right;\n",
       "    }\n",
       "</style>\n",
       "<table border=\"1\" class=\"dataframe\">\n",
       "  <thead>\n",
       "    <tr>\n",
       "      <th></th>\n",
       "      <th></th>\n",
       "      <th colspan=\"5\" halign=\"left\">accuracy</th>\n",
       "    </tr>\n",
       "    <tr>\n",
       "      <th></th>\n",
       "      <th></th>\n",
       "      <th>max</th>\n",
       "      <th>min</th>\n",
       "      <th>mean</th>\n",
       "      <th>std</th>\n",
       "      <th>num_prompts</th>\n",
       "    </tr>\n",
       "    <tr>\n",
       "      <th>dataset_name</th>\n",
       "      <th>subset_name</th>\n",
       "      <th></th>\n",
       "      <th></th>\n",
       "      <th></th>\n",
       "      <th></th>\n",
       "      <th></th>\n",
       "    </tr>\n",
       "  </thead>\n",
       "  <tbody>\n",
       "    <tr>\n",
       "      <th rowspan=\"4\" valign=\"top\">super_glue</th>\n",
       "      <th>wsc.fixed</th>\n",
       "      <td>0.692308</td>\n",
       "      <td>0.009615</td>\n",
       "      <td>0.523077</td>\n",
       "      <td>0.207082</td>\n",
       "      <td>10</td>\n",
       "    </tr>\n",
       "    <tr>\n",
       "      <th>copa</th>\n",
       "      <td>0.960000</td>\n",
       "      <td>0.320000</td>\n",
       "      <td>0.810459</td>\n",
       "      <td>0.189014</td>\n",
       "      <td>12</td>\n",
       "    </tr>\n",
       "    <tr>\n",
       "      <th>wic</th>\n",
       "      <td>0.620000</td>\n",
       "      <td>0.035000</td>\n",
       "      <td>0.485500</td>\n",
       "      <td>0.164104</td>\n",
       "      <td>10</td>\n",
       "    </tr>\n",
       "    <tr>\n",
       "      <th>cb</th>\n",
       "      <td>0.803571</td>\n",
       "      <td>0.392857</td>\n",
       "      <td>0.722619</td>\n",
       "      <td>0.106261</td>\n",
       "      <td>15</td>\n",
       "    </tr>\n",
       "    <tr>\n",
       "      <th>anli</th>\n",
       "      <th>all</th>\n",
       "      <td>0.445000</td>\n",
       "      <td>0.225000</td>\n",
       "      <td>0.392333</td>\n",
       "      <td>0.057317</td>\n",
       "      <td>15</td>\n",
       "    </tr>\n",
       "    <tr>\n",
       "      <th>super_glue</th>\n",
       "      <th>rte</th>\n",
       "      <td>0.875000</td>\n",
       "      <td>0.750000</td>\n",
       "      <td>0.827000</td>\n",
       "      <td>0.043856</td>\n",
       "      <td>10</td>\n",
       "    </tr>\n",
       "    <tr>\n",
       "      <th>winogrande</th>\n",
       "      <th>winogrande_xl</th>\n",
       "      <td>0.630000</td>\n",
       "      <td>0.550000</td>\n",
       "      <td>0.595000</td>\n",
       "      <td>0.032787</td>\n",
       "      <td>5</td>\n",
       "    </tr>\n",
       "    <tr>\n",
       "      <th>hellaswag</th>\n",
       "      <th>all</th>\n",
       "      <td>0.040000</td>\n",
       "      <td>0.020000</td>\n",
       "      <td>0.030000</td>\n",
       "      <td>0.009129</td>\n",
       "      <td>4</td>\n",
       "    </tr>\n",
       "  </tbody>\n",
       "</table>\n",
       "</div>"
      ],
      "text/plain": [
       "                            accuracy                                          \n",
       "                                 max       min      mean       std num_prompts\n",
       "dataset_name subset_name                                                      \n",
       "super_glue   wsc.fixed      0.692308  0.009615  0.523077  0.207082          10\n",
       "             copa           0.960000  0.320000  0.810459  0.189014          12\n",
       "             wic            0.620000  0.035000  0.485500  0.164104          10\n",
       "             cb             0.803571  0.392857  0.722619  0.106261          15\n",
       "anli         all            0.445000  0.225000  0.392333  0.057317          15\n",
       "super_glue   rte            0.875000  0.750000  0.827000  0.043856          10\n",
       "winogrande   winogrande_xl  0.630000  0.550000  0.595000  0.032787           5\n",
       "hellaswag    all            0.040000  0.020000  0.030000  0.009129           4"
      ]
     },
     "execution_count": 2,
     "metadata": {},
     "output_type": "execute_result"
    }
   ],
   "source": [
    "t0_csv = \"/workspaces/seed/paper/sanhMultitaskPromptedTraining2022a/evaluation_result/20230114/T0/T0.csv\"\n",
    "t0_failed = \"/workspaces/seed/paper/sanhMultitaskPromptedTraining2022a/evaluation_result/20230114/T0/hellaswag/None/complete_first_then.json\"\n",
    "\n",
    "t0 = pd.read_csv(t0_csv)\n",
    "t0[\"subset_name\"] = t0[\"subset_name\"].fillna(\"all\")\n",
    "\n",
    "utils.report(t0)\n"
   ]
  },
  {
   "attachments": {},
   "cell_type": "markdown",
   "metadata": {},
   "source": [
    "### `hellaswag` is multiple choice, sentence completion task\n",
    "- The author use sequence log prob to deal with multiple choice eval. \n",
    "- [HF example code](https://huggingface.co/docs/transformers/tasks/multiple_choice) is ugly and messy. \n",
    "- It would be helpful to learn how to calculate seq prob, but that won't work with benchmarking openai api. \n"
   ]
  },
  {
   "cell_type": "code",
   "execution_count": 3,
   "metadata": {},
   "outputs": [
    {
     "name": "stdout",
     "output_type": "stream",
     "text": [
      "input: Complete the description with an appropriate ending:\n",
      "First, [header] how to recover from an emotional affair [title] forgive yourself. [step] while forgiving others can be challenging, it's often even harder to forgive yourself. remember that if you had known the path of your actions and their consequences, you probably would not have done what you did. Then,  ...\n",
      "\n",
      "(a) Take some time to live in the past and let go of those emotions. For example, if you had experienced a miscarriage, forgiveness would be easy.\n",
      "\n",
      "(b) Forgiveness in someone else can only serve to make it harder. [substeps] Cheating can be very emotional, and can even be worse.\n",
      "\n",
      "(c) To begin forgiving yourself, admit that you messed up or made a mistake. Making mistakes is part of being human and no one is exempt from it.\n",
      "\n",
      "(d) In the moment, forgive yourself for all the things you could have done differently. [substeps] Though you may have felt wronged, forgiving yourself for your actions will take time and effort to live.\n",
      "target: to begin forgiving yourself, admit that you messed up or made a mistake. making mistakes is part of being human and no one is exempt from it.\n",
      "pred: forgiveness is a choice\n",
      "\n",
      "input: Complete the description with an appropriate ending:\n",
      "First, a doctor in a lab coat talks about the lenses too, while people are showing how to use them. Then, another news anchor ...\n",
      "\n",
      "(a) talks about contacts lenses and how robotic they can be.\n",
      "\n",
      "(b) also talks about the same lenses and how it has become a dangerous trend among teenagers.\n",
      "\n",
      "(c) is interviewed about the incident.\n",
      "\n",
      "(d) talks about the lens and drink is an advertisement that the lens is called printed in a foreign language.\n",
      "target: also talks about the same lenses and how it has become a dangerous trend among teenagers.\n",
      "pred: (d) talks about the lens and drink\n",
      "\n",
      "input: Complete the description with an appropriate ending:\n",
      "First, a man is seen bending down before a set of weights with others watching him on the side. the man lifts up the weights over his head. Then, in the end ...\n",
      "\n",
      "(a) he drops down onto a mat with a pain f hurt.\n",
      "\n",
      "(b) he drops the weights off.\n",
      "\n",
      "(c) he walks away with the weights.\n",
      "\n",
      "(d) he throws the weights down.\n",
      "target: he throws the weights down.\n",
      "pred: a\n",
      "\n",
      "input: Complete the description with an appropriate ending:\n",
      "First, [header] how to deadhead petunias [title] check what type of petunias you are growing. [step] find the seeds or the plant markers. if they are new types of petunias, like wave or tidal wave, they don't need to be deadheaded. Then,  ...\n",
      "\n",
      "(a) However, if they are in pairs, they may not be deadheaded until they produce more than one flower. Look for shriveled, wilted stems, or other signs of mold.\n",
      "\n",
      "(b) Opt for a variety where the flowers center stem outward. [substeps] How old the flowers are does not matter, as these plants grow year round, and do not require deadheading.\n",
      "\n",
      "(c) [substeps] Many new petunias have been engineered to be low-maintenance. They will fill out without being deadheaded.\n",
      "\n",
      "(d) Try the following plants if you want to eliminate the ones that are still blooming in mid-spring. [substeps] Semi-flowering petunias are in one of three categories: non-flowering species, which are small purple flowers with leaf marks and leaves arranged together.\n",
      "target: [substeps] many new petunias have been engineered to be low-maintenance. they will fill out without being deadheaded.\n",
      "pred: if they are new types of petunias, like wave or tidal wave, they don't need to be deadheaded\n",
      "\n",
      "input: Complete the description with an appropriate ending:\n",
      "First, [header] how to write a marketing report [title] consider why you should perform market research and write a report. [step] what information is important to you? what will you do with the marketing report after it is created? this process requires an investment of time and expense. make sure that you have a clear plan for using the information that you collect. Then,  ...\n",
      "\n",
      "(a) [substeps] Talk to other consumers to find out what they think and they may get an idea of what your report is likely to end up doing. For example, many marketing writers are tech savvy and planning for the next year's sales are only 75 minutes.\n",
      "\n",
      "(b) [substeps] Market research is the process of evaluating how well your marketing efforts are working. Specifically, does your marketing get the attention and interest of prospects? Are you converting enough of those prospects into clients? [title] Identify your customer.\n",
      "\n",
      "(c) Take this low-key approach to analyzing your report. [substeps] \" idea analysis \" is a good way to find information and introduce it into your analysis.\n",
      "\n",
      "(d) [substeps] Maybe you are 100% sure that the company has an effective, unionized environment. Help identify how this could affect you and your business.\n",
      "target: [substeps] market research is the process of evaluating how well your marketing efforts are working. specifically, does your marketing get the attention and interest of prospects? are you converting enough of those prospects into clients? [title] identify your customer.\n",
      "pred: step\n",
      "\n",
      "input: Complete the description with an appropriate ending:\n",
      "First, this elderly man is blowing the leaves out of the way using a leaf blower. Then, first the camera ...\n",
      "\n",
      "(a) zooms out slightly and we see he has a child wearing gloves.\n",
      "\n",
      "(b) is giving viewers a close up view only showing the man's face.\n",
      "\n",
      "(c) runs like a compass and then it cuts to a car and then the man blowing the leaves.\n",
      "\n",
      "(d) pans to a man sitting in the dirt close to the wind blowing the leaves in a breeze.\n",
      "target: is giving viewers a close up view only showing the man's face.\n",
      "pred: (d) pans to a man sitting in the dirt close to the wind blowing the leaves in a breeze.\n",
      "\n",
      "input: Complete the description with an appropriate ending:\n",
      "First, [header] how to teach a child to use scissors [title] take a pair of scissors and hand the child the handle side first. [step] naturally the child will pick the pair of scissors with their dominate hand. [title] start with the grip. Then,  ...\n",
      "\n",
      "(a) [step] Show the child in your hand how to hold the scissors, and then have them try to copy it. If they aren't able to alone, help move their fingers and thumb into the right position.\n",
      "\n",
      "(b) [step] Hold the handle side in one of your dominant hand, use thumb and pointer fingers to grip the grip side of the scissors, then use the second pair of scissors to cut away any excess skin. If you want to do this instep the toe with your palm.\n",
      "\n",
      "(c) [step] Holding the handle side of the scissors firmly between your thumb and forefinger, swiftly bend the handle and snip off a small piece off the short end. [title] Grip the blade using your dominant hand and hold it at a 45-degree angle from the child's fingers.\n",
      "\n",
      "(d) [step] This is the grip you can get to hold the child's scissors so as to position them correctly. [substeps] Hold the teacher's scissors straight up.\n",
      "target: [step] show the child in your hand how to hold the scissors, and then have them try to copy it. if they aren't able to alone, help move their fingers and thumb into the right position.\n",
      "pred: [step] repeat steps (a-d) with the other pair of scissors to cut the toe nails.\n",
      "\n",
      "input: Complete the description with an appropriate ending:\n",
      "First, a man is seen stepping on a tool and spinning a blade. Then, he ...\n",
      "\n",
      "(a) ties it around his body while looking back to the camera.\n",
      "\n",
      "(b) holds up a knife and continues to sharpen the blade.\n",
      "\n",
      "(c) then holds a person up and shows off his tool.\n",
      "\n",
      "(d) then scrapes the blade over a rock and shows how to properly wrap it around his leg.\n",
      "target: holds up a knife and continues to sharpen the blade.\n",
      "pred: (d) then scrapes the blade over a rock and shows how to properly wrap it around his leg.\n",
      "\n",
      "input: Complete the description with an appropriate ending:\n",
      "First, [header] how to help your overweight girlfriend or boyfriend be healthy [title] talk about daily routines. [step] there can be many reasons for a person to be overweight, from inactivity to health concerns. before you assume that your partner is just inactive, talk to him about his daily routine. Then,  ...\n",
      "\n",
      "(a) Even if you weren't expecting it, you can be surprised by how your partner has quickly started to lose weight. [substeps] Find out what his daily routine is like.\n",
      "\n",
      "(b) Ask a question as a way to get a conversation started. Be sure to listen and respond rather than asking a series of questions because this may come across as interrogating.\n",
      "\n",
      "(c) For example, talk about what his work week is like. Understanding that a person's daily routine can affect where he eats and drink, why he doesn't sweat, and so on are important tricks you can use to help him stay healthy.\n",
      "\n",
      "(d) Provide a detailed picture of the schedule and any changes that he is going to make. [substeps] Talk about regular meals and toiletries.\n",
      "target: ask a question as a way to get a conversation started. be sure to listen and respond rather than asking a series of questions because this may come across as interrogating.\n",
      "pred: step 3: make healthy changes together\n",
      "\n",
      "input: Complete the description with an appropriate ending:\n",
      "First, a man is standing on ice holding a fishing pole in his right hand and there's a very small hole in the ice in front of him and he drops his hook into the hole and tugs on his pole. Then, the man ...\n",
      "\n",
      "(a) fishes intensely and retrieves the hook melt while still pulling on his stick, till his fish kiss from the hole in the ice.\n",
      "\n",
      "(b) pulls a fish out of the holes on a string from his behind and an ice fishing pole goes into the hole.\n",
      "\n",
      "(c) pulls a fish from his hook that was stuck in the ice and a fish resembling a shark rush out to reach it and grab the bug and quickly turn its from view.\n",
      "\n",
      "(d) then pulls on the fishing wire a few times and stands there holding his fishing pole, moving it, and winding it from time to time.\n",
      "target: then pulls on the fishing wire a few times and stands there holding his fishing pole, moving it, and winding it from time to time.\n",
      "pred: (d) then pulls on the fishing wire a few times and stands there holding his fishing pole, moving it, and winding it from time to time.\n",
      "\n"
     ]
    }
   ],
   "source": [
    "utils.read_failed_cases(t0_failed)\n"
   ]
  },
  {
   "cell_type": "code",
   "execution_count": 4,
   "metadata": {},
   "outputs": [
    {
     "name": "stderr",
     "output_type": "stream",
     "text": [
      "[2023-01-16 02:06:40,705] [datasets.builder] [builder.py:785] Found cached dataset hellaswag (/workspaces/seed/cache/hf_dataset/hellaswag/default/0.1.0/c37cd37196278995f42bc32f532730ae9b0d5f0f4a2d3b97735c17ff3ad67169)\n"
     ]
    }
   ],
   "source": [
    "hellaswag = utils.load_raw_dataset(\"hellaswag\", None)\n"
   ]
  },
  {
   "cell_type": "code",
   "execution_count": 5,
   "metadata": {},
   "outputs": [
    {
     "data": {
      "text/plain": [
       "{'ind': 24,\n",
       " 'activity_label': 'Roof shingle removal',\n",
       " 'ctx_a': 'A man is sitting on a roof.',\n",
       " 'ctx_b': 'he',\n",
       " 'ctx': 'A man is sitting on a roof. he',\n",
       " 'endings': ['is using wrap to wrap a pair of skis.',\n",
       "  'is ripping level tiles off.',\n",
       "  \"is holding a rubik's cube.\",\n",
       "  'starts pulling up roofing on a roof.'],\n",
       " 'source_id': 'activitynet~v_-JhWjGDPHMY',\n",
       " 'split': 'val',\n",
       " 'split_type': 'indomain',\n",
       " 'label': '3'}"
      ]
     },
     "execution_count": 5,
     "metadata": {},
     "output_type": "execute_result"
    }
   ],
   "source": [
    "hellaswag[0]\n"
   ]
  },
  {
   "cell_type": "code",
   "execution_count": 6,
   "metadata": {},
   "outputs": [
    {
     "data": {
      "text/html": [
       "<div>\n",
       "<style scoped>\n",
       "    .dataframe tbody tr th:only-of-type {\n",
       "        vertical-align: middle;\n",
       "    }\n",
       "\n",
       "    .dataframe tbody tr th {\n",
       "        vertical-align: top;\n",
       "    }\n",
       "\n",
       "    .dataframe thead th {\n",
       "        text-align: right;\n",
       "    }\n",
       "</style>\n",
       "<table border=\"1\" class=\"dataframe\">\n",
       "  <thead>\n",
       "    <tr style=\"text-align: right;\">\n",
       "      <th></th>\n",
       "      <th>checkpoint</th>\n",
       "      <th>dataset_name</th>\n",
       "      <th>subset_name</th>\n",
       "      <th>test_size</th>\n",
       "      <th>time</th>\n",
       "      <th>prompt_name</th>\n",
       "      <th>accuracy</th>\n",
       "    </tr>\n",
       "  </thead>\n",
       "  <tbody>\n",
       "    <tr>\n",
       "      <th>65</th>\n",
       "      <td>bigscience/T0</td>\n",
       "      <td>hellaswag</td>\n",
       "      <td>all</td>\n",
       "      <td>200</td>\n",
       "      <td>21.490077</td>\n",
       "      <td>Predict ending with hint</td>\n",
       "      <td>0.020</td>\n",
       "    </tr>\n",
       "    <tr>\n",
       "      <th>66</th>\n",
       "      <td>bigscience/T0</td>\n",
       "      <td>hellaswag</td>\n",
       "      <td>all</td>\n",
       "      <td>200</td>\n",
       "      <td>23.227984</td>\n",
       "      <td>Randomized prompts template</td>\n",
       "      <td>0.040</td>\n",
       "    </tr>\n",
       "    <tr>\n",
       "      <th>67</th>\n",
       "      <td>bigscience/T0</td>\n",
       "      <td>hellaswag</td>\n",
       "      <td>all</td>\n",
       "      <td>200</td>\n",
       "      <td>26.130677</td>\n",
       "      <td>complete_first_then</td>\n",
       "      <td>0.025</td>\n",
       "    </tr>\n",
       "    <tr>\n",
       "      <th>68</th>\n",
       "      <td>bigscience/T0</td>\n",
       "      <td>hellaswag</td>\n",
       "      <td>all</td>\n",
       "      <td>200</td>\n",
       "      <td>61.362784</td>\n",
       "      <td>if_begins_how_continues</td>\n",
       "      <td>0.035</td>\n",
       "    </tr>\n",
       "  </tbody>\n",
       "</table>\n",
       "</div>"
      ],
      "text/plain": [
       "       checkpoint dataset_name subset_name  test_size       time  \\\n",
       "65  bigscience/T0    hellaswag         all        200  21.490077   \n",
       "66  bigscience/T0    hellaswag         all        200  23.227984   \n",
       "67  bigscience/T0    hellaswag         all        200  26.130677   \n",
       "68  bigscience/T0    hellaswag         all        200  61.362784   \n",
       "\n",
       "                    prompt_name  accuracy  \n",
       "65     Predict ending with hint     0.020  \n",
       "66  Randomized prompts template     0.040  \n",
       "67          complete_first_then     0.025  \n",
       "68      if_begins_how_continues     0.035  "
      ]
     },
     "execution_count": 6,
     "metadata": {},
     "output_type": "execute_result"
    }
   ],
   "source": [
    "utils.peak(t0, \"hellaswag\")\n"
   ]
  },
  {
   "cell_type": "code",
   "execution_count": 7,
   "metadata": {},
   "outputs": [],
   "source": [
    "prompt = utils.get_prompt(\"hellaswag\", None, \"complete_first_then\")\n"
   ]
  },
  {
   "cell_type": "code",
   "execution_count": 8,
   "metadata": {},
   "outputs": [
    {
     "name": "stdout",
     "output_type": "stream",
     "text": [
      "Complete the description with an appropriate ending:\n",
      "First, a man is sitting on a roof. Then, he ...\n",
      "\n",
      "(a) is using wrap to wrap a pair of skis.\n",
      "\n",
      "(b) is ripping level tiles off.\n",
      "\n",
      "(c) is holding a rubik's cube.\n",
      "\n",
      "(d) starts pulling up roofing on a roof.\n"
     ]
    }
   ],
   "source": [
    "q, a = prompt.apply(hellaswag[0])\n",
    "print(q)\n"
   ]
  },
  {
   "cell_type": "code",
   "execution_count": 9,
   "metadata": {},
   "outputs": [
    {
     "name": "stderr",
     "output_type": "stream",
     "text": [
      "[2023-01-16 02:06:41,062] [benchmark] [utils.py:25] loading model from bigscience/T0...\n"
     ]
    }
   ],
   "source": [
    "t2t = utils.build_t2t(\"bigscience/T0\")\n"
   ]
  },
  {
   "cell_type": "code",
   "execution_count": 10,
   "metadata": {},
   "outputs": [],
   "source": [
    "input = \"\"\"\\\n",
    "Complete the description with an appropriate ending:\n",
    "First, a man is sitting on a roof. Then, he ...\n",
    "\n",
    "(a) is using wrap to wrap a pair of skis.\n",
    "\n",
    "(b) is ripping level tiles off.\n",
    "\n",
    "(c) is holding a rubik's cube.\n",
    "\n",
    "(d) starts pulling up roofing on a roof.\n",
    "\n",
    "Which one is the best answer? Respond with a, b, c, or d. \n",
    "\"\"\"\n"
   ]
  },
  {
   "cell_type": "code",
   "execution_count": 11,
   "metadata": {},
   "outputs": [
    {
     "data": {
      "text/plain": [
       "['d']"
      ]
     },
     "execution_count": 11,
     "metadata": {},
     "output_type": "execute_result"
    }
   ],
   "source": [
    "t2t(input)\n"
   ]
  },
  {
   "cell_type": "code",
   "execution_count": 37,
   "metadata": {},
   "outputs": [
    {
     "name": "stdout",
     "output_type": "stream",
     "text": [
      "Predict ending with hint: accuracy: 0.43\n",
      "Randomized prompts template: accuracy: 0.365\n",
      "complete_first_then: accuracy: 0.39\n",
      "if_begins_how_continues: accuracy: 0.365\n"
     ]
    }
   ],
   "source": [
    "# try manualy bench hellaswag\n",
    "prompts = [\n",
    "        \"Predict ending with hint\",\n",
    "        \"Randomized prompts template\",\n",
    "        \"complete_first_then\",\n",
    "        \"if_begins_how_continues\",\n",
    "        ]\n",
    "\n",
    "\n",
    "cutoff = 200\n",
    "\n",
    "for prompt_template in prompts:\n",
    "    correct = 0\n",
    "    prompt = utils.get_prompt('hellaswag', None, prompt_template)\n",
    "    \n",
    "    for instance in hellaswag.select(range(cutoff)):\n",
    "        q, _ = prompt.apply(instance)\n",
    "        q = q + \"\\nWhich one is the best answer? Respond with a, b, c, or d.\"\n",
    "        a = t2t(q)[0]\n",
    "\n",
    "        if len(a) > 1:\n",
    "            a = -1\n",
    "        else:\n",
    "            a = ord(a) - ord('a')\n",
    "        \n",
    "        target = int(instance['label'])\n",
    "        \n",
    "        if a == target:\n",
    "                correct += 1\n",
    "\n",
    "    print(f'{prompt.name}: accuracy: {correct / cutoff}')\n",
    "    "
   ]
  },
  {
   "attachments": {},
   "cell_type": "markdown",
   "metadata": {},
   "source": [
    "This way of evaluation is not only eval on langauge modeling, but the result of instruction finetuning. Not ideal but the result is close to official number, around 38% acc. "
   ]
  }
 ],
 "metadata": {
  "kernelspec": {
   "display_name": "Python 3",
   "language": "python",
   "name": "python3"
  },
  "language_info": {
   "codemirror_mode": {
    "name": "ipython",
    "version": 3
   },
   "file_extension": ".py",
   "mimetype": "text/x-python",
   "name": "python",
   "nbconvert_exporter": "python",
   "pygments_lexer": "ipython3",
   "version": "3.8.10"
  },
  "orig_nbformat": 4,
  "vscode": {
   "interpreter": {
    "hash": "e7370f93d1d0cde622a1f8e1c04877d8463912d04d973331ad4851f04de6915a"
   }
  }
 },
 "nbformat": 4,
 "nbformat_minor": 2
}
