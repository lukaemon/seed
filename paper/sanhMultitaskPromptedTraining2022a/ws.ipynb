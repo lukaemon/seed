{
 "cells": [
  {
   "cell_type": "code",
   "execution_count": 2,
   "metadata": {},
   "outputs": [],
   "source": [
    "%reload_ext autoreload\n",
    "%autoreload 2\n",
    "\n",
    "import os\n",
    "import openai"
   ]
  },
  {
   "cell_type": "code",
   "execution_count": 3,
   "metadata": {},
   "outputs": [],
   "source": [
    "openai.api_key = os.getenv(\"OPENAI_API_KEY\")"
   ]
  },
  {
   "cell_type": "code",
   "execution_count": 14,
   "metadata": {},
   "outputs": [],
   "source": [
    "prompt = 'A man is sitting on a roof. he'"
   ]
  },
  {
   "cell_type": "code",
   "execution_count": 17,
   "metadata": {},
   "outputs": [],
   "source": [
    "def get_text_and_sum_logprobs(prompt, n):\n",
    "    res = openai.Completion.create(\n",
    "        model='text-davinci-003',\n",
    "        prompt=prompt,\n",
    "        max_tokens=64,\n",
    "        temperature=1,\n",
    "        logprobs=1,\n",
    "        n=n\n",
    "    )\n",
    "    return [{'text':res.choices[i].text, 'logprob': sum(res.choices[i].logprobs.token_logprobs)} for i in range(n)]"
   ]
  },
  {
   "cell_type": "code",
   "execution_count": 20,
   "metadata": {},
   "outputs": [
    {
     "name": "stdout",
     "output_type": "stream",
     "text": [
      "[\n",
      "    {\n",
      "        \"text\": \" jump\\n\\nIf the man is wearing a parachute, he will be able to safely jump off the roof. If not, then he will likely be injured or killed.\",\n",
      "        \"logprob\": -35.94053530222\n",
      "    },\n",
      "    {\n",
      "        \"text\": \" accidently blows away\\n\\nIf the man is unable to grab onto something or jump safely to the ground, it is best to call emergency services immediately. Depending on the height of the roof and the man's physical health, he may be in danger. Rescue personnel can help safely get him back on the ground.\",\n",
      "        \"logprob\": -71.393629155805\n",
      "    },\n",
      "    {\n",
      "        \"text\": \" throws a stone down\\n\\nAssuming that no one is in the path of the falling stone, then it will eventually reach the ground and come to a stop.\",\n",
      "        \"logprob\": -50.4738870134237\n",
      "    },\n",
      "    {\n",
      "        \"text\": \" jumps off\\n\\nIf the man did not take any safety precautions, then he would most likely suffer serious injury or death upon hitting the ground.\",\n",
      "        \"logprob\": -23.753991729254\n",
      "    }\n",
      "]\n"
     ]
    }
   ],
   "source": [
    "# print as json\n",
    "import json\n",
    "print(json.dumps(get_text_and_sum_logprobs(prompt, 4), indent=4))"
   ]
  },
  {
   "cell_type": "code",
   "execution_count": 21,
   "metadata": {},
   "outputs": [],
   "source": [
    "from transformers import AutoTokenizer"
   ]
  },
  {
   "cell_type": "code",
   "execution_count": 22,
   "metadata": {},
   "outputs": [],
   "source": [
    "tokenizer = AutoTokenizer.from_pretrained(\"bigscience/T0\")"
   ]
  },
  {
   "cell_type": "code",
   "execution_count": 23,
   "metadata": {},
   "outputs": [],
   "source": [
    "res = tokenizer(prompt, return_tensors=\"pt\")"
   ]
  },
  {
   "cell_type": "code",
   "execution_count": 26,
   "metadata": {},
   "outputs": [
    {
     "data": {
      "text/plain": [
       "dict_keys(['input_ids', 'attention_mask'])"
      ]
     },
     "execution_count": 26,
     "metadata": {},
     "output_type": "execute_result"
    }
   ],
   "source": [
    "res.keys()"
   ]
  },
  {
   "cell_type": "code",
   "execution_count": 25,
   "metadata": {},
   "outputs": [
    {
     "data": {
      "text/plain": [
       "tensor([[  71,  388,   19, 3823,   30,    3,    9, 2955,    5,    3,   88,    1]])"
      ]
     },
     "execution_count": 25,
     "metadata": {},
     "output_type": "execute_result"
    }
   ],
   "source": [
    "res['input_ids']"
   ]
  },
  {
   "cell_type": "code",
   "execution_count": null,
   "metadata": {},
   "outputs": [],
   "source": []
  }
 ],
 "metadata": {
  "kernelspec": {
   "display_name": "Python 3",
   "language": "python",
   "name": "python3"
  },
  "language_info": {
   "codemirror_mode": {
    "name": "ipython",
    "version": 3
   },
   "file_extension": ".py",
   "mimetype": "text/x-python",
   "name": "python",
   "nbconvert_exporter": "python",
   "pygments_lexer": "ipython3",
   "version": "3.8.10"
  },
  "orig_nbformat": 4,
  "vscode": {
   "interpreter": {
    "hash": "e7370f93d1d0cde622a1f8e1c04877d8463912d04d973331ad4851f04de6915a"
   }
  }
 },
 "nbformat": 4,
 "nbformat_minor": 2
}
