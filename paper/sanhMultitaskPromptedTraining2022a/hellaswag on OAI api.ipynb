{
 "cells": [
  {
   "cell_type": "code",
   "execution_count": 88,
   "metadata": {},
   "outputs": [],
   "source": [
    "%reload_ext autoreload\n",
    "%autoreload 2\n",
    "\n",
    "import os\n",
    "import openai\n",
    "import numpy as np\n",
    "import utils\n",
    "\n",
    "from transformers import AutoTokenizer\n",
    "\n",
    "tokenizer = AutoTokenizer.from_pretrained(\"gpt2\")"
   ]
  },
  {
   "cell_type": "code",
   "execution_count": 89,
   "metadata": {},
   "outputs": [
    {
     "name": "stderr",
     "output_type": "stream",
     "text": [
      "[2023-01-16 04:54:32,445] [datasets.builder] [builder.py:785] Found cached dataset hellaswag (/workspaces/seed/cache/hf_dataset/hellaswag/default/0.1.0/c37cd37196278995f42bc32f532730ae9b0d5f0f4a2d3b97735c17ff3ad67169)\n"
     ]
    },
    {
     "data": {
      "text/plain": [
       "{'ind': 24,\n",
       " 'activity_label': 'Roof shingle removal',\n",
       " 'ctx_a': 'A man is sitting on a roof.',\n",
       " 'ctx_b': 'he',\n",
       " 'ctx': 'A man is sitting on a roof. he',\n",
       " 'endings': ['is using wrap to wrap a pair of skis.',\n",
       "  'is ripping level tiles off.',\n",
       "  \"is holding a rubik's cube.\",\n",
       "  'starts pulling up roofing on a roof.'],\n",
       " 'source_id': 'activitynet~v_-JhWjGDPHMY',\n",
       " 'split': 'val',\n",
       " 'split_type': 'indomain',\n",
       " 'label': '3'}"
      ]
     },
     "execution_count": 89,
     "metadata": {},
     "output_type": "execute_result"
    }
   ],
   "source": [
    "hellaswag = utils.load_raw_dataset(\"hellaswag\", None)\n",
    "hellaswag[0]"
   ]
  },
  {
   "cell_type": "code",
   "execution_count": 90,
   "metadata": {},
   "outputs": [],
   "source": [
    "openai.api_key = os.getenv(\"OPENAI_API_KEY\")"
   ]
  },
  {
   "cell_type": "code",
   "execution_count": 117,
   "metadata": {},
   "outputs": [],
   "source": [
    "def seq2logprob(text):\n",
    "    res = openai.Completion.create(\n",
    "        model='text-curie-001',\n",
    "        prompt=text,\n",
    "        max_tokens=0,\n",
    "        echo=True,\n",
    "        temperature=0,\n",
    "        logprobs=1,\n",
    "    )\n",
    "    \n",
    "    seq_logprob = []\n",
    "\n",
    "    for i in range(len(text)):\n",
    "        choice = res.choices[i]\n",
    "        logprobs = choice.logprobs.token_logprobs\n",
    "        logprobs = [p for p in logprobs if p is not None]\n",
    "        seq_logprob.append(sum(logprobs))\n",
    "\n",
    "    return np.array(seq_logprob)"
   ]
  },
  {
   "cell_type": "code",
   "execution_count": 119,
   "metadata": {},
   "outputs": [
    {
     "name": "stdout",
     "output_type": "stream",
     "text": [
      "API error on {'ind': 386, 'activity_label': 'Washing face', 'ctx_a': 'A black female is shown in a room with a black scarf around her head. Black spots on her faced are then zoomed in on and she begins to apply something on it.', 'ctx_b': 'next', 'ctx': 'A black female is shown in a room with a black scarf around her head. Black spots on her faced are then zoomed in on and she begins to apply something on it. next', 'endings': [', she begins to brush her lips and make painted lips look just like a lipstick to the camera and ends with her closing gift and instruction showing her off at the end.', 'she is shown in various different locations and gets extremely close to a wall.', ', she is shown making multiple moans and sprays some kind of liquid down her face before hanging up.', ', she takes some spray and it makes her skin extremely oily and she continues to talk until the video is over.'], 'source_id': 'activitynet~v_33SI8z8PovA', 'split': 'val', 'split_type': 'zeroshot', 'label': '3'}\n",
      "API error on {'ind': 924, 'activity_label': 'Ice fishing', 'ctx_a': 'A man dressed in yellow and black winter clothes ice fishes on a a frozen lake. The man is reeling in a fish for a long time.', 'ctx_b': 'the mans catch', 'ctx': 'A man dressed in yellow and black winter clothes ice fishes on a a frozen lake. The man is reeling in a fish for a long time. the mans catch', 'endings': ['more fish and throws them to the side.', 'finally reaches the surface.', 'a fish for dinner by making a wish with his mouth.', 'one and puts it on a fishing pole in the lake.'], 'source_id': 'activitynet~v_9yiXv7Hu5Lw', 'split': 'val', 'split_type': 'zeroshot', 'label': '1'}\n",
      "accuracy= 0.5306122448979592 with 98 examples\n",
      "The cost of this run for Curies is 0.03 USD. Davinci is 10x.\n"
     ]
    }
   ],
   "source": [
    "FOR_REAL = False\n",
    "n = 100\n",
    "accurate = 0\n",
    "total_tokens = 0\n",
    "\n",
    "for inst in hellaswag.select(range(n)):\n",
    "    target = int(inst['label'])\n",
    "\n",
    "    candidates = [inst['ctx'] + ' ' + option for option in inst['endings']]\n",
    "\n",
    "    n_tokens = [len(tokenizer.encode(c)) for c in candidates]\n",
    "    total_tokens += sum(n_tokens)\n",
    "\n",
    "    if FOR_REAL:\n",
    "        try:\n",
    "            seq_logprob = seq2logprob(candidates)\n",
    "            pred = seq_logprob.argmax()\n",
    "\n",
    "            if pred == target:\n",
    "                accurate += 1\n",
    "        except:\n",
    "            print(f\"API error on {inst}\")\n",
    "            n-=1\n",
    "            continue\n",
    "        \n",
    "\n",
    "print(f\"accuracy= {accurate / n} with {n} examples\")\n",
    "print(f\"The cost of this run for Curies is {total_tokens * 1e-3 * 2e-3:.2f} USD. Davinci is 10x.\")\n"
   ]
  },
  {
   "attachments": {},
   "cell_type": "markdown",
   "metadata": {},
   "source": [
    "`Curie` without prompting: acc = 0.48  \n",
    "`Davinci` without prompting: acc = 0.53\n",
    "\n",
    "I don't see Davinci result as model failure. This raises questions about proper interpretation of eval result. Approximate multiple choice with `seequence logprob` is not a fair eval especially for sentence completion task. Sentence completion is not like multiple choice quiz on physics that has easy right answer. "
   ]
  },
  {
   "cell_type": "code",
   "execution_count": null,
   "metadata": {},
   "outputs": [],
   "source": []
  }
 ],
 "metadata": {
  "kernelspec": {
   "display_name": "Python 3",
   "language": "python",
   "name": "python3"
  },
  "language_info": {
   "codemirror_mode": {
    "name": "ipython",
    "version": 3
   },
   "file_extension": ".py",
   "mimetype": "text/x-python",
   "name": "python",
   "nbconvert_exporter": "python",
   "pygments_lexer": "ipython3",
   "version": "3.8.10 (default, Jun 22 2022, 20:18:18) \n[GCC 9.4.0]"
  },
  "orig_nbformat": 4,
  "vscode": {
   "interpreter": {
    "hash": "e7370f93d1d0cde622a1f8e1c04877d8463912d04d973331ad4851f04de6915a"
   }
  }
 },
 "nbformat": 4,
 "nbformat_minor": 2
}
